{
 "cells": [
  {
   "cell_type": "markdown",
   "metadata": {
    "_uuid": "d6996868a117c237300d06626ac7cff0507e3819"
   },
   "source": [
    "# Bitcoin LSTM Model with Tweet Volume and Sentiment"
   ]
  },
  {
   "cell_type": "markdown",
   "metadata": {},
   "source": [
    "Data: https://www.kaggle.com/paul92s/bitcoin-lstm-model-with-tweet-volume-and-sentiment/data\n",
    "\n",
    "Article: https://medium.com/@DrPaulSimpson/lstm-model-predicting-bitcoin-with-tweet-volume-sentiment-bc3c490271a7"
   ]
  },
  {
   "cell_type": "code",
   "execution_count": 3,
   "metadata": {
    "_uuid": "e777e8fcb088070e8264d936b82cfbf74d91e6a8"
   },
   "outputs": [],
   "source": [
    "import pandas as pd\n",
    "import re \n",
    "from matplotlib import pyplot\n",
    "import seaborn as sns\n",
    "import numpy as np\n",
    "import os # accessing directory structure\n",
    "\n",
    "\n",
    "# Input data files are available in the \"../input/\" directory.\n",
    "# For example, running this (by clicking run or pressing Shift+Enter) will list the files in the input directory\n",
    "\n",
    "import os\n",
    "\n",
    "#set seed\n",
    "np.random.seed(12345)"
   ]
  },
  {
   "cell_type": "markdown",
   "metadata": {
    "_uuid": "07abc867e57ccf5d705cafa32e4a8b45b6072351"
   },
   "source": [
    "# Data Pre-processing"
   ]
  },
  {
   "cell_type": "code",
   "execution_count": 1,
   "metadata": {
    "_kg_hide-input": false,
    "_uuid": "bd4ae8de3e746a9f1114ba28b8089ba269d26e02"
   },
   "outputs": [
    {
     "ename": "NameError",
     "evalue": "name 'pd' is not defined",
     "output_type": "error",
     "traceback": [
      "\u001b[0;31m---------------------------------------------------------------------------\u001b[0m",
      "\u001b[0;31mNameError\u001b[0m                                 Traceback (most recent call last)",
      "\u001b[0;32m<ipython-input-1-be1f125d8f19>\u001b[0m in \u001b[0;36m<module>\u001b[0;34m\u001b[0m\n\u001b[1;32m      1\u001b[0m \u001b[0;31m#Must get cleanprep from Kaggle Dataset because is a larger file\u001b[0m\u001b[0;34m\u001b[0m\u001b[0;34m\u001b[0m\u001b[0;34m\u001b[0m\u001b[0m\n\u001b[0;32m----> 2\u001b[0;31m \u001b[0mnotclean\u001b[0m \u001b[0;34m=\u001b[0m \u001b[0mpd\u001b[0m\u001b[0;34m.\u001b[0m\u001b[0mread_csv\u001b[0m\u001b[0;34m(\u001b[0m\u001b[0;34m'./data/cleanprep.csv'\u001b[0m\u001b[0;34m,\u001b[0m \u001b[0mdelimiter\u001b[0m\u001b[0;34m=\u001b[0m\u001b[0;34m','\u001b[0m\u001b[0;34m,\u001b[0m \u001b[0merror_bad_lines\u001b[0m\u001b[0;34m=\u001b[0m\u001b[0;32mFalse\u001b[0m\u001b[0;34m,\u001b[0m \u001b[0mengine\u001b[0m \u001b[0;34m=\u001b[0m \u001b[0;34m'python'\u001b[0m\u001b[0;34m,\u001b[0m \u001b[0mheader\u001b[0m \u001b[0;34m=\u001b[0m \u001b[0;32mNone\u001b[0m\u001b[0;34m)\u001b[0m\u001b[0;34m\u001b[0m\u001b[0;34m\u001b[0m\u001b[0m\n\u001b[0m",
      "\u001b[0;31mNameError\u001b[0m: name 'pd' is not defined"
     ]
    }
   ],
   "source": [
    "#Must get cleanprep from Kaggle Dataset because is a larger file\n",
    "notclean = pd.read_csv('./data/cleanprep.csv', delimiter=',', error_bad_lines=False, engine = 'python', header = None)"
   ]
  },
  {
   "cell_type": "code",
   "execution_count": 7,
   "metadata": {
    "_uuid": "669580e3ae15f1b020a110cc646fdb3039b5796b"
   },
   "outputs": [
    {
     "data": {
      "text/html": [
       "<div>\n",
       "<style scoped>\n",
       "    .dataframe tbody tr th:only-of-type {\n",
       "        vertical-align: middle;\n",
       "    }\n",
       "\n",
       "    .dataframe tbody tr th {\n",
       "        vertical-align: top;\n",
       "    }\n",
       "\n",
       "    .dataframe thead th {\n",
       "        text-align: right;\n",
       "    }\n",
       "</style>\n",
       "<table border=\"1\" class=\"dataframe\">\n",
       "  <thead>\n",
       "    <tr style=\"text-align: right;\">\n",
       "      <th></th>\n",
       "      <th>0</th>\n",
       "      <th>1</th>\n",
       "      <th>2</th>\n",
       "      <th>3</th>\n",
       "      <th>4</th>\n",
       "    </tr>\n",
       "  </thead>\n",
       "  <tbody>\n",
       "    <tr>\n",
       "      <th>0</th>\n",
       "      <td>2018-07-11 19:35:15.363270</td>\n",
       "      <td>b'tj'</td>\n",
       "      <td>b\"Next two weeks prob v boring (climb up to 9k...</td>\n",
       "      <td>0.007273</td>\n",
       "      <td>0.590909</td>\n",
       "    </tr>\n",
       "    <tr>\n",
       "      <th>1</th>\n",
       "      <td>2018-07-11 19:35:15.736769</td>\n",
       "      <td>b'Kool_Kheart'</td>\n",
       "      <td>b'@Miss_rinola But you\\xe2\\x80\\x99ve heard abo...</td>\n",
       "      <td>0.000000</td>\n",
       "      <td>0.000000</td>\n",
       "    </tr>\n",
       "    <tr>\n",
       "      <th>2</th>\n",
       "      <td>2018-07-11 19:35:15.744769</td>\n",
       "      <td>b'Gary Lang'</td>\n",
       "      <td>b'Duplicate skilled traders automatically with...</td>\n",
       "      <td>0.625000</td>\n",
       "      <td>0.500000</td>\n",
       "    </tr>\n",
       "    <tr>\n",
       "      <th>3</th>\n",
       "      <td>2018-07-11 19:35:15.867339</td>\n",
       "      <td>b'Jobs in Fintech'</td>\n",
       "      <td>b'Project Manager - Technical - FinTech - Cent...</td>\n",
       "      <td>0.000000</td>\n",
       "      <td>0.175000</td>\n",
       "    </tr>\n",
       "    <tr>\n",
       "      <th>4</th>\n",
       "      <td>2018-07-11 19:35:16.021448</td>\n",
       "      <td>b'ERC20'</td>\n",
       "      <td>b'Coinbase App Downloads Drop, Crypto Hype Fad...</td>\n",
       "      <td>0.333333</td>\n",
       "      <td>0.500000</td>\n",
       "    </tr>\n",
       "  </tbody>\n",
       "</table>\n",
       "</div>"
      ],
      "text/plain": [
       "                            0                   1  \\\n",
       "0  2018-07-11 19:35:15.363270               b'tj'   \n",
       "1  2018-07-11 19:35:15.736769      b'Kool_Kheart'   \n",
       "2  2018-07-11 19:35:15.744769        b'Gary Lang'   \n",
       "3  2018-07-11 19:35:15.867339  b'Jobs in Fintech'   \n",
       "4  2018-07-11 19:35:16.021448            b'ERC20'   \n",
       "\n",
       "                                                   2         3         4  \n",
       "0  b\"Next two weeks prob v boring (climb up to 9k...  0.007273  0.590909  \n",
       "1  b'@Miss_rinola But you\\xe2\\x80\\x99ve heard abo...  0.000000  0.000000  \n",
       "2  b'Duplicate skilled traders automatically with...  0.625000  0.500000  \n",
       "3  b'Project Manager - Technical - FinTech - Cent...  0.000000  0.175000  \n",
       "4  b'Coinbase App Downloads Drop, Crypto Hype Fad...  0.333333  0.500000  "
      ]
     },
     "execution_count": 7,
     "metadata": {},
     "output_type": "execute_result"
    }
   ],
   "source": [
    "notclean.head()"
   ]
  },
  {
   "cell_type": "code",
   "execution_count": 8,
   "metadata": {
    "_uuid": "11d661717e2fa606dbfaa7898d54083f2a15fdf8"
   },
   "outputs": [],
   "source": [
    "#-----------------Pre-processing -------------------#\n",
    "\n",
    "notclean.columns =['dt', 'name','text','polarity','sensitivity']"
   ]
  },
  {
   "cell_type": "code",
   "execution_count": 9,
   "metadata": {
    "_uuid": "bcecb8820242c5f313e7e6edb48cec3a7e241ca8"
   },
   "outputs": [],
   "source": [
    "notclean =notclean.drop(['name','text'], axis=1)"
   ]
  },
  {
   "cell_type": "code",
   "execution_count": 10,
   "metadata": {
    "_uuid": "e856a75e156884c699d9e1d9a8aa932f3c285375"
   },
   "outputs": [
    {
     "data": {
      "text/html": [
       "<div>\n",
       "<style scoped>\n",
       "    .dataframe tbody tr th:only-of-type {\n",
       "        vertical-align: middle;\n",
       "    }\n",
       "\n",
       "    .dataframe tbody tr th {\n",
       "        vertical-align: top;\n",
       "    }\n",
       "\n",
       "    .dataframe thead th {\n",
       "        text-align: right;\n",
       "    }\n",
       "</style>\n",
       "<table border=\"1\" class=\"dataframe\">\n",
       "  <thead>\n",
       "    <tr style=\"text-align: right;\">\n",
       "      <th></th>\n",
       "      <th>dt</th>\n",
       "      <th>polarity</th>\n",
       "      <th>sensitivity</th>\n",
       "    </tr>\n",
       "  </thead>\n",
       "  <tbody>\n",
       "    <tr>\n",
       "      <th>0</th>\n",
       "      <td>2018-07-11 19:35:15.363270</td>\n",
       "      <td>0.007273</td>\n",
       "      <td>0.590909</td>\n",
       "    </tr>\n",
       "    <tr>\n",
       "      <th>1</th>\n",
       "      <td>2018-07-11 19:35:15.736769</td>\n",
       "      <td>0.000000</td>\n",
       "      <td>0.000000</td>\n",
       "    </tr>\n",
       "    <tr>\n",
       "      <th>2</th>\n",
       "      <td>2018-07-11 19:35:15.744769</td>\n",
       "      <td>0.625000</td>\n",
       "      <td>0.500000</td>\n",
       "    </tr>\n",
       "    <tr>\n",
       "      <th>3</th>\n",
       "      <td>2018-07-11 19:35:15.867339</td>\n",
       "      <td>0.000000</td>\n",
       "      <td>0.175000</td>\n",
       "    </tr>\n",
       "    <tr>\n",
       "      <th>4</th>\n",
       "      <td>2018-07-11 19:35:16.021448</td>\n",
       "      <td>0.333333</td>\n",
       "      <td>0.500000</td>\n",
       "    </tr>\n",
       "  </tbody>\n",
       "</table>\n",
       "</div>"
      ],
      "text/plain": [
       "                           dt  polarity  sensitivity\n",
       "0  2018-07-11 19:35:15.363270  0.007273     0.590909\n",
       "1  2018-07-11 19:35:15.736769  0.000000     0.000000\n",
       "2  2018-07-11 19:35:15.744769  0.625000     0.500000\n",
       "3  2018-07-11 19:35:15.867339  0.000000     0.175000\n",
       "4  2018-07-11 19:35:16.021448  0.333333     0.500000"
      ]
     },
     "execution_count": 10,
     "metadata": {},
     "output_type": "execute_result"
    }
   ],
   "source": [
    "notclean.head()"
   ]
  },
  {
   "cell_type": "code",
   "execution_count": 11,
   "metadata": {
    "_uuid": "b5e5d6910c1ea456703c74e53b54eefa96f98b12"
   },
   "outputs": [
    {
     "name": "stdout",
     "output_type": "stream",
     "text": [
      "<class 'pandas.core.frame.DataFrame'>\n",
      "RangeIndex: 1413001 entries, 0 to 1413000\n",
      "Data columns (total 3 columns):\n",
      " #   Column       Non-Null Count    Dtype  \n",
      "---  ------       --------------    -----  \n",
      " 0   dt           1413001 non-null  object \n",
      " 1   polarity     1413001 non-null  float64\n",
      " 2   sensitivity  1413001 non-null  float64\n",
      "dtypes: float64(2), object(1)\n",
      "memory usage: 32.3+ MB\n"
     ]
    }
   ],
   "source": [
    "notclean.info()"
   ]
  },
  {
   "cell_type": "code",
   "execution_count": 12,
   "metadata": {
    "_uuid": "a1ea711e8022f1620861a616c650d5e462f24d37"
   },
   "outputs": [],
   "source": [
    "notclean['dt'] = pd.to_datetime(notclean['dt'])"
   ]
  },
  {
   "cell_type": "code",
   "execution_count": 13,
   "metadata": {
    "_uuid": "fe559ef0103b5fcd5fdcb650e161f9160f730905"
   },
   "outputs": [
    {
     "data": {
      "text/html": [
       "<div>\n",
       "<style scoped>\n",
       "    .dataframe tbody tr th:only-of-type {\n",
       "        vertical-align: middle;\n",
       "    }\n",
       "\n",
       "    .dataframe tbody tr th {\n",
       "        vertical-align: top;\n",
       "    }\n",
       "\n",
       "    .dataframe thead th {\n",
       "        text-align: right;\n",
       "    }\n",
       "</style>\n",
       "<table border=\"1\" class=\"dataframe\">\n",
       "  <thead>\n",
       "    <tr style=\"text-align: right;\">\n",
       "      <th></th>\n",
       "      <th>dt</th>\n",
       "      <th>polarity</th>\n",
       "      <th>sensitivity</th>\n",
       "      <th>DateTime</th>\n",
       "    </tr>\n",
       "  </thead>\n",
       "  <tbody>\n",
       "    <tr>\n",
       "      <th>0</th>\n",
       "      <td>2018-07-11 19:35:15.363270</td>\n",
       "      <td>0.007273</td>\n",
       "      <td>0.590909</td>\n",
       "      <td>2018-07-11 19:00:00</td>\n",
       "    </tr>\n",
       "    <tr>\n",
       "      <th>1</th>\n",
       "      <td>2018-07-11 19:35:15.736769</td>\n",
       "      <td>0.000000</td>\n",
       "      <td>0.000000</td>\n",
       "      <td>2018-07-11 19:00:00</td>\n",
       "    </tr>\n",
       "    <tr>\n",
       "      <th>2</th>\n",
       "      <td>2018-07-11 19:35:15.744769</td>\n",
       "      <td>0.625000</td>\n",
       "      <td>0.500000</td>\n",
       "      <td>2018-07-11 19:00:00</td>\n",
       "    </tr>\n",
       "    <tr>\n",
       "      <th>3</th>\n",
       "      <td>2018-07-11 19:35:15.867339</td>\n",
       "      <td>0.000000</td>\n",
       "      <td>0.175000</td>\n",
       "      <td>2018-07-11 19:00:00</td>\n",
       "    </tr>\n",
       "    <tr>\n",
       "      <th>4</th>\n",
       "      <td>2018-07-11 19:35:16.021448</td>\n",
       "      <td>0.333333</td>\n",
       "      <td>0.500000</td>\n",
       "      <td>2018-07-11 19:00:00</td>\n",
       "    </tr>\n",
       "  </tbody>\n",
       "</table>\n",
       "</div>"
      ],
      "text/plain": [
       "                          dt  polarity  sensitivity            DateTime\n",
       "0 2018-07-11 19:35:15.363270  0.007273     0.590909 2018-07-11 19:00:00\n",
       "1 2018-07-11 19:35:15.736769  0.000000     0.000000 2018-07-11 19:00:00\n",
       "2 2018-07-11 19:35:15.744769  0.625000     0.500000 2018-07-11 19:00:00\n",
       "3 2018-07-11 19:35:15.867339  0.000000     0.175000 2018-07-11 19:00:00\n",
       "4 2018-07-11 19:35:16.021448  0.333333     0.500000 2018-07-11 19:00:00"
      ]
     },
     "execution_count": 13,
     "metadata": {},
     "output_type": "execute_result"
    }
   ],
   "source": [
    "notclean['DateTime'] = notclean['dt'].dt.floor('h')\n",
    "notclean.head()"
   ]
  },
  {
   "cell_type": "code",
   "execution_count": 14,
   "metadata": {
    "_uuid": "b4697f4adece1e8a274fe6606f9a674bfbbda29b"
   },
   "outputs": [],
   "source": [
    "vdf = notclean.groupby(pd.Grouper(key='dt',freq='H')).size().reset_index(name='tweet_vol')"
   ]
  },
  {
   "cell_type": "code",
   "execution_count": 15,
   "metadata": {
    "_uuid": "7c2bab6be8891336327fb384ca0d13e823f1a89f"
   },
   "outputs": [
    {
     "data": {
      "text/html": [
       "<div>\n",
       "<style scoped>\n",
       "    .dataframe tbody tr th:only-of-type {\n",
       "        vertical-align: middle;\n",
       "    }\n",
       "\n",
       "    .dataframe tbody tr th {\n",
       "        vertical-align: top;\n",
       "    }\n",
       "\n",
       "    .dataframe thead th {\n",
       "        text-align: right;\n",
       "    }\n",
       "</style>\n",
       "<table border=\"1\" class=\"dataframe\">\n",
       "  <thead>\n",
       "    <tr style=\"text-align: right;\">\n",
       "      <th></th>\n",
       "      <th>dt</th>\n",
       "      <th>tweet_vol</th>\n",
       "    </tr>\n",
       "  </thead>\n",
       "  <tbody>\n",
       "    <tr>\n",
       "      <th>0</th>\n",
       "      <td>2018-07-11 19:00:00</td>\n",
       "      <td>1747</td>\n",
       "    </tr>\n",
       "    <tr>\n",
       "      <th>1</th>\n",
       "      <td>2018-07-11 20:00:00</td>\n",
       "      <td>4354</td>\n",
       "    </tr>\n",
       "    <tr>\n",
       "      <th>2</th>\n",
       "      <td>2018-07-11 21:00:00</td>\n",
       "      <td>4432</td>\n",
       "    </tr>\n",
       "    <tr>\n",
       "      <th>3</th>\n",
       "      <td>2018-07-11 22:00:00</td>\n",
       "      <td>3980</td>\n",
       "    </tr>\n",
       "    <tr>\n",
       "      <th>4</th>\n",
       "      <td>2018-07-11 23:00:00</td>\n",
       "      <td>3830</td>\n",
       "    </tr>\n",
       "  </tbody>\n",
       "</table>\n",
       "</div>"
      ],
      "text/plain": [
       "                   dt  tweet_vol\n",
       "0 2018-07-11 19:00:00       1747\n",
       "1 2018-07-11 20:00:00       4354\n",
       "2 2018-07-11 21:00:00       4432\n",
       "3 2018-07-11 22:00:00       3980\n",
       "4 2018-07-11 23:00:00       3830"
      ]
     },
     "execution_count": 15,
     "metadata": {},
     "output_type": "execute_result"
    }
   ],
   "source": [
    "vdf.head()"
   ]
  },
  {
   "cell_type": "code",
   "execution_count": 16,
   "metadata": {
    "_uuid": "6c9b6512f070658ee9be513d9a3d08f038b4ba5f"
   },
   "outputs": [
    {
     "name": "stdout",
     "output_type": "stream",
     "text": [
      "<class 'pandas.core.frame.DataFrame'>\n",
      "RangeIndex: 302 entries, 0 to 301\n",
      "Data columns (total 2 columns):\n",
      " #   Column     Non-Null Count  Dtype         \n",
      "---  ------     --------------  -----         \n",
      " 0   dt         302 non-null    datetime64[ns]\n",
      " 1   tweet_vol  302 non-null    int64         \n",
      "dtypes: datetime64[ns](1), int64(1)\n",
      "memory usage: 4.8 KB\n"
     ]
    }
   ],
   "source": [
    "vdf.info()"
   ]
  },
  {
   "cell_type": "code",
   "execution_count": 17,
   "metadata": {
    "_uuid": "3113badcf8541c9456793fb593d88b4d9a930831"
   },
   "outputs": [],
   "source": [
    "vdf.index = pd.to_datetime(vdf.index)\n",
    "vdf=vdf.set_index('dt')"
   ]
  },
  {
   "cell_type": "code",
   "execution_count": 18,
   "metadata": {
    "_uuid": "3db4137a0ed499cf52ab62fd096f9c58526397ce"
   },
   "outputs": [
    {
     "name": "stdout",
     "output_type": "stream",
     "text": [
      "<class 'pandas.core.frame.DataFrame'>\n",
      "DatetimeIndex: 302 entries, 2018-07-11 19:00:00 to 2018-07-24 08:00:00\n",
      "Data columns (total 1 columns):\n",
      " #   Column     Non-Null Count  Dtype\n",
      "---  ------     --------------  -----\n",
      " 0   tweet_vol  302 non-null    int64\n",
      "dtypes: int64(1)\n",
      "memory usage: 4.7 KB\n"
     ]
    }
   ],
   "source": [
    "vdf.info()"
   ]
  },
  {
   "cell_type": "code",
   "execution_count": 19,
   "metadata": {
    "_uuid": "587438c72be5b4c592f54f3008494cc7b0366769"
   },
   "outputs": [
    {
     "data": {
      "text/html": [
       "<div>\n",
       "<style scoped>\n",
       "    .dataframe tbody tr th:only-of-type {\n",
       "        vertical-align: middle;\n",
       "    }\n",
       "\n",
       "    .dataframe tbody tr th {\n",
       "        vertical-align: top;\n",
       "    }\n",
       "\n",
       "    .dataframe thead th {\n",
       "        text-align: right;\n",
       "    }\n",
       "</style>\n",
       "<table border=\"1\" class=\"dataframe\">\n",
       "  <thead>\n",
       "    <tr style=\"text-align: right;\">\n",
       "      <th></th>\n",
       "      <th>tweet_vol</th>\n",
       "    </tr>\n",
       "    <tr>\n",
       "      <th>dt</th>\n",
       "      <th></th>\n",
       "    </tr>\n",
       "  </thead>\n",
       "  <tbody>\n",
       "    <tr>\n",
       "      <th>2018-07-11 19:00:00</th>\n",
       "      <td>1747</td>\n",
       "    </tr>\n",
       "    <tr>\n",
       "      <th>2018-07-11 20:00:00</th>\n",
       "      <td>4354</td>\n",
       "    </tr>\n",
       "    <tr>\n",
       "      <th>2018-07-11 21:00:00</th>\n",
       "      <td>4432</td>\n",
       "    </tr>\n",
       "    <tr>\n",
       "      <th>2018-07-11 22:00:00</th>\n",
       "      <td>3980</td>\n",
       "    </tr>\n",
       "    <tr>\n",
       "      <th>2018-07-11 23:00:00</th>\n",
       "      <td>3830</td>\n",
       "    </tr>\n",
       "  </tbody>\n",
       "</table>\n",
       "</div>"
      ],
      "text/plain": [
       "                     tweet_vol\n",
       "dt                            \n",
       "2018-07-11 19:00:00       1747\n",
       "2018-07-11 20:00:00       4354\n",
       "2018-07-11 21:00:00       4432\n",
       "2018-07-11 22:00:00       3980\n",
       "2018-07-11 23:00:00       3830"
      ]
     },
     "execution_count": 19,
     "metadata": {},
     "output_type": "execute_result"
    }
   ],
   "source": [
    "vdf.head()"
   ]
  },
  {
   "cell_type": "code",
   "execution_count": 20,
   "metadata": {
    "_uuid": "9e63070b3cc0b2ac014d25f3c168475ac88b1f54"
   },
   "outputs": [
    {
     "name": "stdout",
     "output_type": "stream",
     "text": [
      "<class 'pandas.core.frame.DataFrame'>\n",
      "RangeIndex: 1413001 entries, 0 to 1413000\n",
      "Data columns (total 4 columns):\n",
      " #   Column       Non-Null Count    Dtype         \n",
      "---  ------       --------------    -----         \n",
      " 0   dt           1413001 non-null  datetime64[ns]\n",
      " 1   polarity     1413001 non-null  float64       \n",
      " 2   sensitivity  1413001 non-null  float64       \n",
      " 3   DateTime     1413001 non-null  datetime64[ns]\n",
      "dtypes: datetime64[ns](2), float64(2)\n",
      "memory usage: 43.1 MB\n"
     ]
    }
   ],
   "source": [
    "notclean.info()"
   ]
  },
  {
   "cell_type": "code",
   "execution_count": 21,
   "metadata": {
    "_uuid": "5dbb645ae2ed48a41817c25a838a696d8f093e1d"
   },
   "outputs": [],
   "source": [
    "notclean.index = pd.to_datetime(notclean.index)"
   ]
  },
  {
   "cell_type": "code",
   "execution_count": 22,
   "metadata": {
    "_uuid": "9cb9150c0f449d84d0d8bb32831c8fba910d6e3c"
   },
   "outputs": [
    {
     "name": "stdout",
     "output_type": "stream",
     "text": [
      "<class 'pandas.core.frame.DataFrame'>\n",
      "DatetimeIndex: 1413001 entries, 1970-01-01 00:00:00 to 1970-01-01 00:00:00.001413\n",
      "Data columns (total 4 columns):\n",
      " #   Column       Non-Null Count    Dtype         \n",
      "---  ------       --------------    -----         \n",
      " 0   dt           1413001 non-null  datetime64[ns]\n",
      " 1   polarity     1413001 non-null  float64       \n",
      " 2   sensitivity  1413001 non-null  float64       \n",
      " 3   DateTime     1413001 non-null  datetime64[ns]\n",
      "dtypes: datetime64[ns](2), float64(2)\n",
      "memory usage: 53.9 MB\n"
     ]
    }
   ],
   "source": [
    "notclean.info()"
   ]
  },
  {
   "cell_type": "code",
   "execution_count": 23,
   "metadata": {
    "_uuid": "a1b401b8cd71c7f3ee69ce42582b824f9f9e3ffb"
   },
   "outputs": [],
   "source": [
    "vdf['tweet_vol'] =vdf['tweet_vol'].astype(float)"
   ]
  },
  {
   "cell_type": "code",
   "execution_count": 24,
   "metadata": {
    "_uuid": "880f9d8202a051412f66ded691159757d4ca4292"
   },
   "outputs": [
    {
     "name": "stdout",
     "output_type": "stream",
     "text": [
      "<class 'pandas.core.frame.DataFrame'>\n",
      "DatetimeIndex: 302 entries, 2018-07-11 19:00:00 to 2018-07-24 08:00:00\n",
      "Data columns (total 1 columns):\n",
      " #   Column     Non-Null Count  Dtype  \n",
      "---  ------     --------------  -----  \n",
      " 0   tweet_vol  302 non-null    float64\n",
      "dtypes: float64(1)\n",
      "memory usage: 4.7 KB\n"
     ]
    }
   ],
   "source": [
    "vdf.info()"
   ]
  },
  {
   "cell_type": "code",
   "execution_count": 25,
   "metadata": {
    "_uuid": "1a7774f6ab6de7c40f559ead0afc141d4cbe234a"
   },
   "outputs": [
    {
     "name": "stdout",
     "output_type": "stream",
     "text": [
      "<class 'pandas.core.frame.DataFrame'>\n",
      "DatetimeIndex: 1413001 entries, 1970-01-01 00:00:00 to 1970-01-01 00:00:00.001413\n",
      "Data columns (total 4 columns):\n",
      " #   Column       Non-Null Count    Dtype         \n",
      "---  ------       --------------    -----         \n",
      " 0   dt           1413001 non-null  datetime64[ns]\n",
      " 1   polarity     1413001 non-null  float64       \n",
      " 2   sensitivity  1413001 non-null  float64       \n",
      " 3   DateTime     1413001 non-null  datetime64[ns]\n",
      "dtypes: datetime64[ns](2), float64(2)\n",
      "memory usage: 53.9 MB\n"
     ]
    }
   ],
   "source": [
    "notclean.info()"
   ]
  },
  {
   "cell_type": "code",
   "execution_count": 26,
   "metadata": {
    "_uuid": "59d942ba991e435fa9c86420000b4d019eb40fa2"
   },
   "outputs": [
    {
     "data": {
      "text/html": [
       "<div>\n",
       "<style scoped>\n",
       "    .dataframe tbody tr th:only-of-type {\n",
       "        vertical-align: middle;\n",
       "    }\n",
       "\n",
       "    .dataframe tbody tr th {\n",
       "        vertical-align: top;\n",
       "    }\n",
       "\n",
       "    .dataframe thead th {\n",
       "        text-align: right;\n",
       "    }\n",
       "</style>\n",
       "<table border=\"1\" class=\"dataframe\">\n",
       "  <thead>\n",
       "    <tr style=\"text-align: right;\">\n",
       "      <th></th>\n",
       "      <th>dt</th>\n",
       "      <th>polarity</th>\n",
       "      <th>sensitivity</th>\n",
       "      <th>DateTime</th>\n",
       "    </tr>\n",
       "  </thead>\n",
       "  <tbody>\n",
       "    <tr>\n",
       "      <th>1970-01-01 00:00:00.000000000</th>\n",
       "      <td>2018-07-11 19:35:15.363270</td>\n",
       "      <td>0.007273</td>\n",
       "      <td>0.590909</td>\n",
       "      <td>2018-07-11 19:00:00</td>\n",
       "    </tr>\n",
       "    <tr>\n",
       "      <th>1970-01-01 00:00:00.000000001</th>\n",
       "      <td>2018-07-11 19:35:15.736769</td>\n",
       "      <td>0.000000</td>\n",
       "      <td>0.000000</td>\n",
       "      <td>2018-07-11 19:00:00</td>\n",
       "    </tr>\n",
       "    <tr>\n",
       "      <th>1970-01-01 00:00:00.000000002</th>\n",
       "      <td>2018-07-11 19:35:15.744769</td>\n",
       "      <td>0.625000</td>\n",
       "      <td>0.500000</td>\n",
       "      <td>2018-07-11 19:00:00</td>\n",
       "    </tr>\n",
       "    <tr>\n",
       "      <th>1970-01-01 00:00:00.000000003</th>\n",
       "      <td>2018-07-11 19:35:15.867339</td>\n",
       "      <td>0.000000</td>\n",
       "      <td>0.175000</td>\n",
       "      <td>2018-07-11 19:00:00</td>\n",
       "    </tr>\n",
       "    <tr>\n",
       "      <th>1970-01-01 00:00:00.000000004</th>\n",
       "      <td>2018-07-11 19:35:16.021448</td>\n",
       "      <td>0.333333</td>\n",
       "      <td>0.500000</td>\n",
       "      <td>2018-07-11 19:00:00</td>\n",
       "    </tr>\n",
       "  </tbody>\n",
       "</table>\n",
       "</div>"
      ],
      "text/plain": [
       "                                                      dt  polarity  \\\n",
       "1970-01-01 00:00:00.000000000 2018-07-11 19:35:15.363270  0.007273   \n",
       "1970-01-01 00:00:00.000000001 2018-07-11 19:35:15.736769  0.000000   \n",
       "1970-01-01 00:00:00.000000002 2018-07-11 19:35:15.744769  0.625000   \n",
       "1970-01-01 00:00:00.000000003 2018-07-11 19:35:15.867339  0.000000   \n",
       "1970-01-01 00:00:00.000000004 2018-07-11 19:35:16.021448  0.333333   \n",
       "\n",
       "                               sensitivity            DateTime  \n",
       "1970-01-01 00:00:00.000000000     0.590909 2018-07-11 19:00:00  \n",
       "1970-01-01 00:00:00.000000001     0.000000 2018-07-11 19:00:00  \n",
       "1970-01-01 00:00:00.000000002     0.500000 2018-07-11 19:00:00  \n",
       "1970-01-01 00:00:00.000000003     0.175000 2018-07-11 19:00:00  \n",
       "1970-01-01 00:00:00.000000004     0.500000 2018-07-11 19:00:00  "
      ]
     },
     "execution_count": 26,
     "metadata": {},
     "output_type": "execute_result"
    }
   ],
   "source": [
    "notclean.head()"
   ]
  },
  {
   "cell_type": "code",
   "execution_count": 27,
   "metadata": {
    "_uuid": "80c4f3eb29f41c661c5a39cc3c9222baff3c8476"
   },
   "outputs": [],
   "source": [
    "#ndf = pd.merge(notclean,vdf, how='inner',left_index=True, right_index=True)"
   ]
  },
  {
   "cell_type": "code",
   "execution_count": 28,
   "metadata": {
    "_uuid": "76da5613eb8a3d1c7a79e00cefa5ea48ce8a98b0"
   },
   "outputs": [
    {
     "data": {
      "text/html": [
       "<div>\n",
       "<style scoped>\n",
       "    .dataframe tbody tr th:only-of-type {\n",
       "        vertical-align: middle;\n",
       "    }\n",
       "\n",
       "    .dataframe tbody tr th {\n",
       "        vertical-align: top;\n",
       "    }\n",
       "\n",
       "    .dataframe thead th {\n",
       "        text-align: right;\n",
       "    }\n",
       "</style>\n",
       "<table border=\"1\" class=\"dataframe\">\n",
       "  <thead>\n",
       "    <tr style=\"text-align: right;\">\n",
       "      <th></th>\n",
       "      <th>dt</th>\n",
       "      <th>polarity</th>\n",
       "      <th>sensitivity</th>\n",
       "      <th>DateTime</th>\n",
       "    </tr>\n",
       "  </thead>\n",
       "  <tbody>\n",
       "    <tr>\n",
       "      <th>1970-01-01 00:00:00.000000000</th>\n",
       "      <td>2018-07-11 19:35:15.363270</td>\n",
       "      <td>0.007273</td>\n",
       "      <td>0.590909</td>\n",
       "      <td>2018-07-11 19:00:00</td>\n",
       "    </tr>\n",
       "    <tr>\n",
       "      <th>1970-01-01 00:00:00.000000001</th>\n",
       "      <td>2018-07-11 19:35:15.736769</td>\n",
       "      <td>0.000000</td>\n",
       "      <td>0.000000</td>\n",
       "      <td>2018-07-11 19:00:00</td>\n",
       "    </tr>\n",
       "    <tr>\n",
       "      <th>1970-01-01 00:00:00.000000002</th>\n",
       "      <td>2018-07-11 19:35:15.744769</td>\n",
       "      <td>0.625000</td>\n",
       "      <td>0.500000</td>\n",
       "      <td>2018-07-11 19:00:00</td>\n",
       "    </tr>\n",
       "    <tr>\n",
       "      <th>1970-01-01 00:00:00.000000003</th>\n",
       "      <td>2018-07-11 19:35:15.867339</td>\n",
       "      <td>0.000000</td>\n",
       "      <td>0.175000</td>\n",
       "      <td>2018-07-11 19:00:00</td>\n",
       "    </tr>\n",
       "    <tr>\n",
       "      <th>1970-01-01 00:00:00.000000004</th>\n",
       "      <td>2018-07-11 19:35:16.021448</td>\n",
       "      <td>0.333333</td>\n",
       "      <td>0.500000</td>\n",
       "      <td>2018-07-11 19:00:00</td>\n",
       "    </tr>\n",
       "  </tbody>\n",
       "</table>\n",
       "</div>"
      ],
      "text/plain": [
       "                                                      dt  polarity  \\\n",
       "1970-01-01 00:00:00.000000000 2018-07-11 19:35:15.363270  0.007273   \n",
       "1970-01-01 00:00:00.000000001 2018-07-11 19:35:15.736769  0.000000   \n",
       "1970-01-01 00:00:00.000000002 2018-07-11 19:35:15.744769  0.625000   \n",
       "1970-01-01 00:00:00.000000003 2018-07-11 19:35:15.867339  0.000000   \n",
       "1970-01-01 00:00:00.000000004 2018-07-11 19:35:16.021448  0.333333   \n",
       "\n",
       "                               sensitivity            DateTime  \n",
       "1970-01-01 00:00:00.000000000     0.590909 2018-07-11 19:00:00  \n",
       "1970-01-01 00:00:00.000000001     0.000000 2018-07-11 19:00:00  \n",
       "1970-01-01 00:00:00.000000002     0.500000 2018-07-11 19:00:00  \n",
       "1970-01-01 00:00:00.000000003     0.175000 2018-07-11 19:00:00  \n",
       "1970-01-01 00:00:00.000000004     0.500000 2018-07-11 19:00:00  "
      ]
     },
     "execution_count": 28,
     "metadata": {},
     "output_type": "execute_result"
    }
   ],
   "source": [
    "notclean.head()"
   ]
  },
  {
   "cell_type": "code",
   "execution_count": 29,
   "metadata": {
    "_uuid": "cbbc14d816ca6e85b9368345e25a0554575d5708"
   },
   "outputs": [],
   "source": [
    "df = notclean.groupby('DateTime').agg(lambda x: x.mean())"
   ]
  },
  {
   "cell_type": "code",
   "execution_count": 30,
   "metadata": {
    "_uuid": "203b32ff58cd7779ec2e15c2219fc9bc164c997b"
   },
   "outputs": [],
   "source": [
    "df['Tweet_vol'] = vdf['tweet_vol']"
   ]
  },
  {
   "cell_type": "code",
   "execution_count": 31,
   "metadata": {
    "_uuid": "1fa92fbc902d03143e639647bfb4f05fe2206d02"
   },
   "outputs": [],
   "source": [
    "df = df.drop(df.index[0])"
   ]
  },
  {
   "cell_type": "code",
   "execution_count": 32,
   "metadata": {
    "_uuid": "e23b1147cd72317238160a7924c57f0dbe1ec1cc"
   },
   "outputs": [
    {
     "data": {
      "text/html": [
       "<div>\n",
       "<style scoped>\n",
       "    .dataframe tbody tr th:only-of-type {\n",
       "        vertical-align: middle;\n",
       "    }\n",
       "\n",
       "    .dataframe tbody tr th {\n",
       "        vertical-align: top;\n",
       "    }\n",
       "\n",
       "    .dataframe thead th {\n",
       "        text-align: right;\n",
       "    }\n",
       "</style>\n",
       "<table border=\"1\" class=\"dataframe\">\n",
       "  <thead>\n",
       "    <tr style=\"text-align: right;\">\n",
       "      <th></th>\n",
       "      <th>dt</th>\n",
       "      <th>polarity</th>\n",
       "      <th>sensitivity</th>\n",
       "      <th>Tweet_vol</th>\n",
       "    </tr>\n",
       "    <tr>\n",
       "      <th>DateTime</th>\n",
       "      <th></th>\n",
       "      <th></th>\n",
       "      <th></th>\n",
       "      <th></th>\n",
       "    </tr>\n",
       "  </thead>\n",
       "  <tbody>\n",
       "    <tr>\n",
       "      <th>2018-07-11 20:00:00</th>\n",
       "      <td>2018-07-11 20:27:49.510636288</td>\n",
       "      <td>0.102657</td>\n",
       "      <td>0.216148</td>\n",
       "      <td>4354.0</td>\n",
       "    </tr>\n",
       "    <tr>\n",
       "      <th>2018-07-11 21:00:00</th>\n",
       "      <td>2018-07-11 21:28:35.636368640</td>\n",
       "      <td>0.098004</td>\n",
       "      <td>0.218612</td>\n",
       "      <td>4432.0</td>\n",
       "    </tr>\n",
       "    <tr>\n",
       "      <th>2018-07-11 22:00:00</th>\n",
       "      <td>2018-07-11 22:27:44.646705152</td>\n",
       "      <td>0.096688</td>\n",
       "      <td>0.231342</td>\n",
       "      <td>3980.0</td>\n",
       "    </tr>\n",
       "    <tr>\n",
       "      <th>2018-07-11 23:00:00</th>\n",
       "      <td>2018-07-11 23:28:06.455850496</td>\n",
       "      <td>0.103997</td>\n",
       "      <td>0.217739</td>\n",
       "      <td>3830.0</td>\n",
       "    </tr>\n",
       "    <tr>\n",
       "      <th>2018-07-12 00:00:00</th>\n",
       "      <td>2018-07-12 00:28:47.975385344</td>\n",
       "      <td>0.094383</td>\n",
       "      <td>0.195256</td>\n",
       "      <td>3998.0</td>\n",
       "    </tr>\n",
       "  </tbody>\n",
       "</table>\n",
       "</div>"
      ],
      "text/plain": [
       "                                               dt  polarity  sensitivity  \\\n",
       "DateTime                                                                   \n",
       "2018-07-11 20:00:00 2018-07-11 20:27:49.510636288  0.102657     0.216148   \n",
       "2018-07-11 21:00:00 2018-07-11 21:28:35.636368640  0.098004     0.218612   \n",
       "2018-07-11 22:00:00 2018-07-11 22:27:44.646705152  0.096688     0.231342   \n",
       "2018-07-11 23:00:00 2018-07-11 23:28:06.455850496  0.103997     0.217739   \n",
       "2018-07-12 00:00:00 2018-07-12 00:28:47.975385344  0.094383     0.195256   \n",
       "\n",
       "                     Tweet_vol  \n",
       "DateTime                        \n",
       "2018-07-11 20:00:00     4354.0  \n",
       "2018-07-11 21:00:00     4432.0  \n",
       "2018-07-11 22:00:00     3980.0  \n",
       "2018-07-11 23:00:00     3830.0  \n",
       "2018-07-12 00:00:00     3998.0  "
      ]
     },
     "execution_count": 32,
     "metadata": {},
     "output_type": "execute_result"
    }
   ],
   "source": [
    "df.head()"
   ]
  },
  {
   "cell_type": "code",
   "execution_count": 33,
   "metadata": {
    "_uuid": "35828731c32ee7de7ccbfcdcfb941f96e1f3c683"
   },
   "outputs": [
    {
     "data": {
      "text/html": [
       "<div>\n",
       "<style scoped>\n",
       "    .dataframe tbody tr th:only-of-type {\n",
       "        vertical-align: middle;\n",
       "    }\n",
       "\n",
       "    .dataframe tbody tr th {\n",
       "        vertical-align: top;\n",
       "    }\n",
       "\n",
       "    .dataframe thead th {\n",
       "        text-align: right;\n",
       "    }\n",
       "</style>\n",
       "<table border=\"1\" class=\"dataframe\">\n",
       "  <thead>\n",
       "    <tr style=\"text-align: right;\">\n",
       "      <th></th>\n",
       "      <th>dt</th>\n",
       "      <th>polarity</th>\n",
       "      <th>sensitivity</th>\n",
       "      <th>Tweet_vol</th>\n",
       "    </tr>\n",
       "    <tr>\n",
       "      <th>DateTime</th>\n",
       "      <th></th>\n",
       "      <th></th>\n",
       "      <th></th>\n",
       "      <th></th>\n",
       "    </tr>\n",
       "  </thead>\n",
       "  <tbody>\n",
       "    <tr>\n",
       "      <th>2018-07-24 04:00:00</th>\n",
       "      <td>2018-07-24 04:27:40.946246656</td>\n",
       "      <td>0.121358</td>\n",
       "      <td>0.236000</td>\n",
       "      <td>4475.0</td>\n",
       "    </tr>\n",
       "    <tr>\n",
       "      <th>2018-07-24 05:00:00</th>\n",
       "      <td>2018-07-24 05:28:40.424965632</td>\n",
       "      <td>0.095163</td>\n",
       "      <td>0.216924</td>\n",
       "      <td>4808.0</td>\n",
       "    </tr>\n",
       "    <tr>\n",
       "      <th>2018-07-24 06:00:00</th>\n",
       "      <td>2018-07-24 06:30:52.606722816</td>\n",
       "      <td>0.088992</td>\n",
       "      <td>0.220173</td>\n",
       "      <td>6036.0</td>\n",
       "    </tr>\n",
       "    <tr>\n",
       "      <th>2018-07-24 07:00:00</th>\n",
       "      <td>2018-07-24 07:27:29.229673984</td>\n",
       "      <td>0.091439</td>\n",
       "      <td>0.198279</td>\n",
       "      <td>6047.0</td>\n",
       "    </tr>\n",
       "    <tr>\n",
       "      <th>2018-07-24 08:00:00</th>\n",
       "      <td>2018-07-24 08:07:02.674452224</td>\n",
       "      <td>0.071268</td>\n",
       "      <td>0.218217</td>\n",
       "      <td>2444.0</td>\n",
       "    </tr>\n",
       "  </tbody>\n",
       "</table>\n",
       "</div>"
      ],
      "text/plain": [
       "                                               dt  polarity  sensitivity  \\\n",
       "DateTime                                                                   \n",
       "2018-07-24 04:00:00 2018-07-24 04:27:40.946246656  0.121358     0.236000   \n",
       "2018-07-24 05:00:00 2018-07-24 05:28:40.424965632  0.095163     0.216924   \n",
       "2018-07-24 06:00:00 2018-07-24 06:30:52.606722816  0.088992     0.220173   \n",
       "2018-07-24 07:00:00 2018-07-24 07:27:29.229673984  0.091439     0.198279   \n",
       "2018-07-24 08:00:00 2018-07-24 08:07:02.674452224  0.071268     0.218217   \n",
       "\n",
       "                     Tweet_vol  \n",
       "DateTime                        \n",
       "2018-07-24 04:00:00     4475.0  \n",
       "2018-07-24 05:00:00     4808.0  \n",
       "2018-07-24 06:00:00     6036.0  \n",
       "2018-07-24 07:00:00     6047.0  \n",
       "2018-07-24 08:00:00     2444.0  "
      ]
     },
     "execution_count": 33,
     "metadata": {},
     "output_type": "execute_result"
    }
   ],
   "source": [
    "df.tail()"
   ]
  },
  {
   "cell_type": "code",
   "execution_count": 34,
   "metadata": {
    "_uuid": "ddf02f8ddd2fd8bebf6b9fa14b5ff2ec59791bbf"
   },
   "outputs": [
    {
     "name": "stdout",
     "output_type": "stream",
     "text": [
      "<class 'pandas.core.frame.DataFrame'>\n",
      "DatetimeIndex: 301 entries, 2018-07-11 20:00:00 to 2018-07-24 08:00:00\n",
      "Data columns (total 4 columns):\n",
      " #   Column       Non-Null Count  Dtype         \n",
      "---  ------       --------------  -----         \n",
      " 0   dt           301 non-null    datetime64[ns]\n",
      " 1   polarity     301 non-null    float64       \n",
      " 2   sensitivity  301 non-null    float64       \n",
      " 3   Tweet_vol    301 non-null    float64       \n",
      "dtypes: datetime64[ns](1), float64(3)\n",
      "memory usage: 11.8 KB\n"
     ]
    }
   ],
   "source": [
    "df.info()"
   ]
  },
  {
   "cell_type": "code",
   "execution_count": 35,
   "metadata": {
    "_uuid": "3e6947d5d388fa9236f4e2114af6aef320be1445"
   },
   "outputs": [],
   "source": [
    "btcDF = pd.read_csv('./data/btcSave2.csv', error_bad_lines=False, engine = 'python')"
   ]
  },
  {
   "cell_type": "code",
   "execution_count": 36,
   "metadata": {
    "_uuid": "5a5abaedcfeda71909e4dca98bc13ac6bd82c043"
   },
   "outputs": [],
   "source": [
    "btcDF['Timestamp'] = pd.to_datetime(btcDF['Timestamp'])\n",
    "btcDF = btcDF.set_index(pd.DatetimeIndex(btcDF['Timestamp']))"
   ]
  },
  {
   "cell_type": "code",
   "execution_count": 37,
   "metadata": {
    "_uuid": "9625fcc29b9aef64c1b0700ea5fa083f8fcd5650"
   },
   "outputs": [
    {
     "data": {
      "text/html": [
       "<div>\n",
       "<style scoped>\n",
       "    .dataframe tbody tr th:only-of-type {\n",
       "        vertical-align: middle;\n",
       "    }\n",
       "\n",
       "    .dataframe tbody tr th {\n",
       "        vertical-align: top;\n",
       "    }\n",
       "\n",
       "    .dataframe thead th {\n",
       "        text-align: right;\n",
       "    }\n",
       "</style>\n",
       "<table border=\"1\" class=\"dataframe\">\n",
       "  <thead>\n",
       "    <tr style=\"text-align: right;\">\n",
       "      <th></th>\n",
       "      <th>Timestamp</th>\n",
       "      <th>Open</th>\n",
       "      <th>High</th>\n",
       "      <th>Low</th>\n",
       "      <th>Close</th>\n",
       "      <th>Volume (BTC)</th>\n",
       "      <th>Volume (Currency)</th>\n",
       "      <th>Weighted Price</th>\n",
       "    </tr>\n",
       "    <tr>\n",
       "      <th>Timestamp</th>\n",
       "      <th></th>\n",
       "      <th></th>\n",
       "      <th></th>\n",
       "      <th></th>\n",
       "      <th></th>\n",
       "      <th></th>\n",
       "      <th></th>\n",
       "      <th></th>\n",
       "    </tr>\n",
       "  </thead>\n",
       "  <tbody>\n",
       "    <tr>\n",
       "      <th>2018-07-10 01:00:00</th>\n",
       "      <td>2018-07-10 01:00:00</td>\n",
       "      <td>6666.75</td>\n",
       "      <td>6683.90</td>\n",
       "      <td>6635.59</td>\n",
       "      <td>6669.73</td>\n",
       "      <td>281.73</td>\n",
       "      <td>1875693.72</td>\n",
       "      <td>6657.70</td>\n",
       "    </tr>\n",
       "    <tr>\n",
       "      <th>2018-07-10 02:00:00</th>\n",
       "      <td>2018-07-10 02:00:00</td>\n",
       "      <td>6662.44</td>\n",
       "      <td>6674.60</td>\n",
       "      <td>6647.00</td>\n",
       "      <td>6647.00</td>\n",
       "      <td>174.10</td>\n",
       "      <td>1160103.29</td>\n",
       "      <td>6663.38</td>\n",
       "    </tr>\n",
       "    <tr>\n",
       "      <th>2018-07-10 03:00:00</th>\n",
       "      <td>2018-07-10 03:00:00</td>\n",
       "      <td>6652.52</td>\n",
       "      <td>6662.82</td>\n",
       "      <td>6621.99</td>\n",
       "      <td>6632.53</td>\n",
       "      <td>231.41</td>\n",
       "      <td>1536936.22</td>\n",
       "      <td>6641.70</td>\n",
       "    </tr>\n",
       "    <tr>\n",
       "      <th>2018-07-10 04:00:00</th>\n",
       "      <td>2018-07-10 04:00:00</td>\n",
       "      <td>6631.17</td>\n",
       "      <td>6655.48</td>\n",
       "      <td>6625.54</td>\n",
       "      <td>6635.92</td>\n",
       "      <td>120.38</td>\n",
       "      <td>799154.77</td>\n",
       "      <td>6638.52</td>\n",
       "    </tr>\n",
       "    <tr>\n",
       "      <th>2018-07-10 05:00:00</th>\n",
       "      <td>2018-07-10 05:00:00</td>\n",
       "      <td>6632.81</td>\n",
       "      <td>6651.06</td>\n",
       "      <td>6627.64</td>\n",
       "      <td>6640.57</td>\n",
       "      <td>94.00</td>\n",
       "      <td>624289.31</td>\n",
       "      <td>6641.32</td>\n",
       "    </tr>\n",
       "  </tbody>\n",
       "</table>\n",
       "</div>"
      ],
      "text/plain": [
       "                              Timestamp     Open     High      Low    Close  \\\n",
       "Timestamp                                                                     \n",
       "2018-07-10 01:00:00 2018-07-10 01:00:00  6666.75  6683.90  6635.59  6669.73   \n",
       "2018-07-10 02:00:00 2018-07-10 02:00:00  6662.44  6674.60  6647.00  6647.00   \n",
       "2018-07-10 03:00:00 2018-07-10 03:00:00  6652.52  6662.82  6621.99  6632.53   \n",
       "2018-07-10 04:00:00 2018-07-10 04:00:00  6631.17  6655.48  6625.54  6635.92   \n",
       "2018-07-10 05:00:00 2018-07-10 05:00:00  6632.81  6651.06  6627.64  6640.57   \n",
       "\n",
       "                     Volume (BTC)  Volume (Currency)  Weighted Price  \n",
       "Timestamp                                                             \n",
       "2018-07-10 01:00:00        281.73         1875693.72         6657.70  \n",
       "2018-07-10 02:00:00        174.10         1160103.29         6663.38  \n",
       "2018-07-10 03:00:00        231.41         1536936.22         6641.70  \n",
       "2018-07-10 04:00:00        120.38          799154.77         6638.52  \n",
       "2018-07-10 05:00:00         94.00          624289.31         6641.32  "
      ]
     },
     "execution_count": 37,
     "metadata": {},
     "output_type": "execute_result"
    }
   ],
   "source": [
    "btcDF.head()"
   ]
  },
  {
   "cell_type": "code",
   "execution_count": 38,
   "metadata": {
    "_uuid": "1c5a996b39b6e9cd662a0629f6cc3d9548dc6a6a"
   },
   "outputs": [],
   "source": [
    "btcDF = btcDF.drop(['Timestamp'], axis=1)"
   ]
  },
  {
   "cell_type": "code",
   "execution_count": 39,
   "metadata": {
    "_uuid": "ab08a7a1c73e134c48277a952355a5306ad5c779"
   },
   "outputs": [
    {
     "data": {
      "text/html": [
       "<div>\n",
       "<style scoped>\n",
       "    .dataframe tbody tr th:only-of-type {\n",
       "        vertical-align: middle;\n",
       "    }\n",
       "\n",
       "    .dataframe tbody tr th {\n",
       "        vertical-align: top;\n",
       "    }\n",
       "\n",
       "    .dataframe thead th {\n",
       "        text-align: right;\n",
       "    }\n",
       "</style>\n",
       "<table border=\"1\" class=\"dataframe\">\n",
       "  <thead>\n",
       "    <tr style=\"text-align: right;\">\n",
       "      <th></th>\n",
       "      <th>Open</th>\n",
       "      <th>High</th>\n",
       "      <th>Low</th>\n",
       "      <th>Close</th>\n",
       "      <th>Volume (BTC)</th>\n",
       "      <th>Volume (Currency)</th>\n",
       "      <th>Weighted Price</th>\n",
       "    </tr>\n",
       "    <tr>\n",
       "      <th>Timestamp</th>\n",
       "      <th></th>\n",
       "      <th></th>\n",
       "      <th></th>\n",
       "      <th></th>\n",
       "      <th></th>\n",
       "      <th></th>\n",
       "      <th></th>\n",
       "    </tr>\n",
       "  </thead>\n",
       "  <tbody>\n",
       "    <tr>\n",
       "      <th>2018-07-10 01:00:00</th>\n",
       "      <td>6666.75</td>\n",
       "      <td>6683.90</td>\n",
       "      <td>6635.59</td>\n",
       "      <td>6669.73</td>\n",
       "      <td>281.73</td>\n",
       "      <td>1875693.72</td>\n",
       "      <td>6657.70</td>\n",
       "    </tr>\n",
       "    <tr>\n",
       "      <th>2018-07-10 02:00:00</th>\n",
       "      <td>6662.44</td>\n",
       "      <td>6674.60</td>\n",
       "      <td>6647.00</td>\n",
       "      <td>6647.00</td>\n",
       "      <td>174.10</td>\n",
       "      <td>1160103.29</td>\n",
       "      <td>6663.38</td>\n",
       "    </tr>\n",
       "    <tr>\n",
       "      <th>2018-07-10 03:00:00</th>\n",
       "      <td>6652.52</td>\n",
       "      <td>6662.82</td>\n",
       "      <td>6621.99</td>\n",
       "      <td>6632.53</td>\n",
       "      <td>231.41</td>\n",
       "      <td>1536936.22</td>\n",
       "      <td>6641.70</td>\n",
       "    </tr>\n",
       "    <tr>\n",
       "      <th>2018-07-10 04:00:00</th>\n",
       "      <td>6631.17</td>\n",
       "      <td>6655.48</td>\n",
       "      <td>6625.54</td>\n",
       "      <td>6635.92</td>\n",
       "      <td>120.38</td>\n",
       "      <td>799154.77</td>\n",
       "      <td>6638.52</td>\n",
       "    </tr>\n",
       "    <tr>\n",
       "      <th>2018-07-10 05:00:00</th>\n",
       "      <td>6632.81</td>\n",
       "      <td>6651.06</td>\n",
       "      <td>6627.64</td>\n",
       "      <td>6640.57</td>\n",
       "      <td>94.00</td>\n",
       "      <td>624289.31</td>\n",
       "      <td>6641.32</td>\n",
       "    </tr>\n",
       "  </tbody>\n",
       "</table>\n",
       "</div>"
      ],
      "text/plain": [
       "                        Open     High      Low    Close  Volume (BTC)  \\\n",
       "Timestamp                                                               \n",
       "2018-07-10 01:00:00  6666.75  6683.90  6635.59  6669.73        281.73   \n",
       "2018-07-10 02:00:00  6662.44  6674.60  6647.00  6647.00        174.10   \n",
       "2018-07-10 03:00:00  6652.52  6662.82  6621.99  6632.53        231.41   \n",
       "2018-07-10 04:00:00  6631.17  6655.48  6625.54  6635.92        120.38   \n",
       "2018-07-10 05:00:00  6632.81  6651.06  6627.64  6640.57         94.00   \n",
       "\n",
       "                     Volume (Currency)  Weighted Price  \n",
       "Timestamp                                               \n",
       "2018-07-10 01:00:00         1875693.72         6657.70  \n",
       "2018-07-10 02:00:00         1160103.29         6663.38  \n",
       "2018-07-10 03:00:00         1536936.22         6641.70  \n",
       "2018-07-10 04:00:00          799154.77         6638.52  \n",
       "2018-07-10 05:00:00          624289.31         6641.32  "
      ]
     },
     "execution_count": 39,
     "metadata": {},
     "output_type": "execute_result"
    }
   ],
   "source": [
    "btcDF.head()"
   ]
  },
  {
   "cell_type": "code",
   "execution_count": 40,
   "metadata": {
    "_uuid": "7000094373f2dae8315bbff318a20335ee987063"
   },
   "outputs": [],
   "source": [
    "Final_df = pd.merge(df, btcDF, how='inner', left_index=True, right_index=True)"
   ]
  },
  {
   "cell_type": "code",
   "execution_count": 41,
   "metadata": {
    "_uuid": "22368613df3390e7e29c51f4930414e2a616ad41"
   },
   "outputs": [
    {
     "data": {
      "text/html": [
       "<div>\n",
       "<style scoped>\n",
       "    .dataframe tbody tr th:only-of-type {\n",
       "        vertical-align: middle;\n",
       "    }\n",
       "\n",
       "    .dataframe tbody tr th {\n",
       "        vertical-align: top;\n",
       "    }\n",
       "\n",
       "    .dataframe thead th {\n",
       "        text-align: right;\n",
       "    }\n",
       "</style>\n",
       "<table border=\"1\" class=\"dataframe\">\n",
       "  <thead>\n",
       "    <tr style=\"text-align: right;\">\n",
       "      <th></th>\n",
       "      <th>dt</th>\n",
       "      <th>polarity</th>\n",
       "      <th>sensitivity</th>\n",
       "      <th>Tweet_vol</th>\n",
       "      <th>Open</th>\n",
       "      <th>High</th>\n",
       "      <th>Low</th>\n",
       "      <th>Close</th>\n",
       "      <th>Volume (BTC)</th>\n",
       "      <th>Volume (Currency)</th>\n",
       "      <th>Weighted Price</th>\n",
       "    </tr>\n",
       "  </thead>\n",
       "  <tbody>\n",
       "    <tr>\n",
       "      <th>2018-07-11 20:00:00</th>\n",
       "      <td>2018-07-11 20:27:49.510636288</td>\n",
       "      <td>0.102657</td>\n",
       "      <td>0.216148</td>\n",
       "      <td>4354.0</td>\n",
       "      <td>6342.97</td>\n",
       "      <td>6354.19</td>\n",
       "      <td>6291.00</td>\n",
       "      <td>6350.00</td>\n",
       "      <td>986.73</td>\n",
       "      <td>6231532.37</td>\n",
       "      <td>6315.33</td>\n",
       "    </tr>\n",
       "    <tr>\n",
       "      <th>2018-07-11 21:00:00</th>\n",
       "      <td>2018-07-11 21:28:35.636368640</td>\n",
       "      <td>0.098004</td>\n",
       "      <td>0.218612</td>\n",
       "      <td>4432.0</td>\n",
       "      <td>6352.99</td>\n",
       "      <td>6370.00</td>\n",
       "      <td>6345.76</td>\n",
       "      <td>6356.48</td>\n",
       "      <td>126.46</td>\n",
       "      <td>804221.55</td>\n",
       "      <td>6359.53</td>\n",
       "    </tr>\n",
       "    <tr>\n",
       "      <th>2018-07-11 22:00:00</th>\n",
       "      <td>2018-07-11 22:27:44.646705152</td>\n",
       "      <td>0.096688</td>\n",
       "      <td>0.231342</td>\n",
       "      <td>3980.0</td>\n",
       "      <td>6350.85</td>\n",
       "      <td>6378.47</td>\n",
       "      <td>6345.00</td>\n",
       "      <td>6361.93</td>\n",
       "      <td>259.10</td>\n",
       "      <td>1646353.87</td>\n",
       "      <td>6354.12</td>\n",
       "    </tr>\n",
       "    <tr>\n",
       "      <th>2018-07-11 23:00:00</th>\n",
       "      <td>2018-07-11 23:28:06.455850496</td>\n",
       "      <td>0.103997</td>\n",
       "      <td>0.217739</td>\n",
       "      <td>3830.0</td>\n",
       "      <td>6362.36</td>\n",
       "      <td>6381.25</td>\n",
       "      <td>6356.74</td>\n",
       "      <td>6368.78</td>\n",
       "      <td>81.54</td>\n",
       "      <td>519278.69</td>\n",
       "      <td>6368.23</td>\n",
       "    </tr>\n",
       "    <tr>\n",
       "      <th>2018-07-12 00:00:00</th>\n",
       "      <td>2018-07-12 00:28:47.975385344</td>\n",
       "      <td>0.094383</td>\n",
       "      <td>0.195256</td>\n",
       "      <td>3998.0</td>\n",
       "      <td>6369.49</td>\n",
       "      <td>6381.25</td>\n",
       "      <td>6361.83</td>\n",
       "      <td>6380.00</td>\n",
       "      <td>124.55</td>\n",
       "      <td>793560.22</td>\n",
       "      <td>6371.51</td>\n",
       "    </tr>\n",
       "  </tbody>\n",
       "</table>\n",
       "</div>"
      ],
      "text/plain": [
       "                                               dt  polarity  sensitivity  \\\n",
       "2018-07-11 20:00:00 2018-07-11 20:27:49.510636288  0.102657     0.216148   \n",
       "2018-07-11 21:00:00 2018-07-11 21:28:35.636368640  0.098004     0.218612   \n",
       "2018-07-11 22:00:00 2018-07-11 22:27:44.646705152  0.096688     0.231342   \n",
       "2018-07-11 23:00:00 2018-07-11 23:28:06.455850496  0.103997     0.217739   \n",
       "2018-07-12 00:00:00 2018-07-12 00:28:47.975385344  0.094383     0.195256   \n",
       "\n",
       "                     Tweet_vol     Open     High      Low    Close  \\\n",
       "2018-07-11 20:00:00     4354.0  6342.97  6354.19  6291.00  6350.00   \n",
       "2018-07-11 21:00:00     4432.0  6352.99  6370.00  6345.76  6356.48   \n",
       "2018-07-11 22:00:00     3980.0  6350.85  6378.47  6345.00  6361.93   \n",
       "2018-07-11 23:00:00     3830.0  6362.36  6381.25  6356.74  6368.78   \n",
       "2018-07-12 00:00:00     3998.0  6369.49  6381.25  6361.83  6380.00   \n",
       "\n",
       "                     Volume (BTC)  Volume (Currency)  Weighted Price  \n",
       "2018-07-11 20:00:00        986.73         6231532.37         6315.33  \n",
       "2018-07-11 21:00:00        126.46          804221.55         6359.53  \n",
       "2018-07-11 22:00:00        259.10         1646353.87         6354.12  \n",
       "2018-07-11 23:00:00         81.54          519278.69         6368.23  \n",
       "2018-07-12 00:00:00        124.55          793560.22         6371.51  "
      ]
     },
     "execution_count": 41,
     "metadata": {},
     "output_type": "execute_result"
    }
   ],
   "source": [
    "Final_df.head()"
   ]
  },
  {
   "cell_type": "code",
   "execution_count": 42,
   "metadata": {
    "_uuid": "d67a1db2a748641cee09b861bca24255edeb0d56"
   },
   "outputs": [
    {
     "name": "stdout",
     "output_type": "stream",
     "text": [
      "<class 'pandas.core.frame.DataFrame'>\n",
      "DatetimeIndex: 294 entries, 2018-07-11 20:00:00 to 2018-07-24 01:00:00\n",
      "Data columns (total 11 columns):\n",
      " #   Column             Non-Null Count  Dtype         \n",
      "---  ------             --------------  -----         \n",
      " 0   dt                 294 non-null    datetime64[ns]\n",
      " 1   polarity           294 non-null    float64       \n",
      " 2   sensitivity        294 non-null    float64       \n",
      " 3   Tweet_vol          294 non-null    float64       \n",
      " 4   Open               294 non-null    float64       \n",
      " 5   High               294 non-null    float64       \n",
      " 6   Low                294 non-null    float64       \n",
      " 7   Close              294 non-null    float64       \n",
      " 8   Volume (BTC)       294 non-null    float64       \n",
      " 9   Volume (Currency)  294 non-null    float64       \n",
      " 10  Weighted Price     294 non-null    float64       \n",
      "dtypes: datetime64[ns](1), float64(10)\n",
      "memory usage: 27.6 KB\n"
     ]
    }
   ],
   "source": [
    "Final_df.info()"
   ]
  },
  {
   "cell_type": "code",
   "execution_count": 47,
   "metadata": {
    "_uuid": "9c86baae1119fb26becd9e8478b655061dd9e5f1"
   },
   "outputs": [
    {
     "ename": "KeyError",
     "evalue": "\"['Weighted Price'] not found in axis\"",
     "output_type": "error",
     "traceback": [
      "\u001b[0;31m---------------------------------------------------------------------------\u001b[0m",
      "\u001b[0;31mKeyError\u001b[0m                                  Traceback (most recent call last)",
      "\u001b[0;32m<ipython-input-47-d5484d10c19d>\u001b[0m in \u001b[0;36m<module>\u001b[0;34m\u001b[0m\n\u001b[0;32m----> 1\u001b[0;31m \u001b[0mFinal_df\u001b[0m\u001b[0;34m=\u001b[0m\u001b[0mFinal_df\u001b[0m\u001b[0;34m.\u001b[0m\u001b[0mdrop\u001b[0m\u001b[0;34m(\u001b[0m\u001b[0;34m[\u001b[0m\u001b[0;34m'Weighted Price'\u001b[0m\u001b[0;34m]\u001b[0m\u001b[0;34m,\u001b[0m\u001b[0maxis\u001b[0m\u001b[0;34m=\u001b[0m\u001b[0;36m1\u001b[0m \u001b[0;34m)\u001b[0m\u001b[0;34m\u001b[0m\u001b[0;34m\u001b[0m\u001b[0m\n\u001b[0m",
      "\u001b[0;32m~/.local/lib/python3.6/site-packages/pandas/core/frame.py\u001b[0m in \u001b[0;36mdrop\u001b[0;34m(self, labels, axis, index, columns, level, inplace, errors)\u001b[0m\n\u001b[1;32m   3995\u001b[0m             \u001b[0mlevel\u001b[0m\u001b[0;34m=\u001b[0m\u001b[0mlevel\u001b[0m\u001b[0;34m,\u001b[0m\u001b[0;34m\u001b[0m\u001b[0;34m\u001b[0m\u001b[0m\n\u001b[1;32m   3996\u001b[0m             \u001b[0minplace\u001b[0m\u001b[0;34m=\u001b[0m\u001b[0minplace\u001b[0m\u001b[0;34m,\u001b[0m\u001b[0;34m\u001b[0m\u001b[0;34m\u001b[0m\u001b[0m\n\u001b[0;32m-> 3997\u001b[0;31m             \u001b[0merrors\u001b[0m\u001b[0;34m=\u001b[0m\u001b[0merrors\u001b[0m\u001b[0;34m,\u001b[0m\u001b[0;34m\u001b[0m\u001b[0;34m\u001b[0m\u001b[0m\n\u001b[0m\u001b[1;32m   3998\u001b[0m         )\n\u001b[1;32m   3999\u001b[0m \u001b[0;34m\u001b[0m\u001b[0m\n",
      "\u001b[0;32m~/.local/lib/python3.6/site-packages/pandas/core/generic.py\u001b[0m in \u001b[0;36mdrop\u001b[0;34m(self, labels, axis, index, columns, level, inplace, errors)\u001b[0m\n\u001b[1;32m   3934\u001b[0m         \u001b[0;32mfor\u001b[0m \u001b[0maxis\u001b[0m\u001b[0;34m,\u001b[0m \u001b[0mlabels\u001b[0m \u001b[0;32min\u001b[0m \u001b[0maxes\u001b[0m\u001b[0;34m.\u001b[0m\u001b[0mitems\u001b[0m\u001b[0;34m(\u001b[0m\u001b[0;34m)\u001b[0m\u001b[0;34m:\u001b[0m\u001b[0;34m\u001b[0m\u001b[0;34m\u001b[0m\u001b[0m\n\u001b[1;32m   3935\u001b[0m             \u001b[0;32mif\u001b[0m \u001b[0mlabels\u001b[0m \u001b[0;32mis\u001b[0m \u001b[0;32mnot\u001b[0m \u001b[0;32mNone\u001b[0m\u001b[0;34m:\u001b[0m\u001b[0;34m\u001b[0m\u001b[0;34m\u001b[0m\u001b[0m\n\u001b[0;32m-> 3936\u001b[0;31m                 \u001b[0mobj\u001b[0m \u001b[0;34m=\u001b[0m \u001b[0mobj\u001b[0m\u001b[0;34m.\u001b[0m\u001b[0m_drop_axis\u001b[0m\u001b[0;34m(\u001b[0m\u001b[0mlabels\u001b[0m\u001b[0;34m,\u001b[0m \u001b[0maxis\u001b[0m\u001b[0;34m,\u001b[0m \u001b[0mlevel\u001b[0m\u001b[0;34m=\u001b[0m\u001b[0mlevel\u001b[0m\u001b[0;34m,\u001b[0m \u001b[0merrors\u001b[0m\u001b[0;34m=\u001b[0m\u001b[0merrors\u001b[0m\u001b[0;34m)\u001b[0m\u001b[0;34m\u001b[0m\u001b[0;34m\u001b[0m\u001b[0m\n\u001b[0m\u001b[1;32m   3937\u001b[0m \u001b[0;34m\u001b[0m\u001b[0m\n\u001b[1;32m   3938\u001b[0m         \u001b[0;32mif\u001b[0m \u001b[0minplace\u001b[0m\u001b[0;34m:\u001b[0m\u001b[0;34m\u001b[0m\u001b[0;34m\u001b[0m\u001b[0m\n",
      "\u001b[0;32m~/.local/lib/python3.6/site-packages/pandas/core/generic.py\u001b[0m in \u001b[0;36m_drop_axis\u001b[0;34m(self, labels, axis, level, errors)\u001b[0m\n\u001b[1;32m   3968\u001b[0m                 \u001b[0mnew_axis\u001b[0m \u001b[0;34m=\u001b[0m \u001b[0maxis\u001b[0m\u001b[0;34m.\u001b[0m\u001b[0mdrop\u001b[0m\u001b[0;34m(\u001b[0m\u001b[0mlabels\u001b[0m\u001b[0;34m,\u001b[0m \u001b[0mlevel\u001b[0m\u001b[0;34m=\u001b[0m\u001b[0mlevel\u001b[0m\u001b[0;34m,\u001b[0m \u001b[0merrors\u001b[0m\u001b[0;34m=\u001b[0m\u001b[0merrors\u001b[0m\u001b[0;34m)\u001b[0m\u001b[0;34m\u001b[0m\u001b[0;34m\u001b[0m\u001b[0m\n\u001b[1;32m   3969\u001b[0m             \u001b[0;32melse\u001b[0m\u001b[0;34m:\u001b[0m\u001b[0;34m\u001b[0m\u001b[0;34m\u001b[0m\u001b[0m\n\u001b[0;32m-> 3970\u001b[0;31m                 \u001b[0mnew_axis\u001b[0m \u001b[0;34m=\u001b[0m \u001b[0maxis\u001b[0m\u001b[0;34m.\u001b[0m\u001b[0mdrop\u001b[0m\u001b[0;34m(\u001b[0m\u001b[0mlabels\u001b[0m\u001b[0;34m,\u001b[0m \u001b[0merrors\u001b[0m\u001b[0;34m=\u001b[0m\u001b[0merrors\u001b[0m\u001b[0;34m)\u001b[0m\u001b[0;34m\u001b[0m\u001b[0;34m\u001b[0m\u001b[0m\n\u001b[0m\u001b[1;32m   3971\u001b[0m             \u001b[0mresult\u001b[0m \u001b[0;34m=\u001b[0m \u001b[0mself\u001b[0m\u001b[0;34m.\u001b[0m\u001b[0mreindex\u001b[0m\u001b[0;34m(\u001b[0m\u001b[0;34m**\u001b[0m\u001b[0;34m{\u001b[0m\u001b[0maxis_name\u001b[0m\u001b[0;34m:\u001b[0m \u001b[0mnew_axis\u001b[0m\u001b[0;34m}\u001b[0m\u001b[0;34m)\u001b[0m\u001b[0;34m\u001b[0m\u001b[0;34m\u001b[0m\u001b[0m\n\u001b[1;32m   3972\u001b[0m \u001b[0;34m\u001b[0m\u001b[0m\n",
      "\u001b[0;32m~/.local/lib/python3.6/site-packages/pandas/core/indexes/base.py\u001b[0m in \u001b[0;36mdrop\u001b[0;34m(self, labels, errors)\u001b[0m\n\u001b[1;32m   5016\u001b[0m         \u001b[0;32mif\u001b[0m \u001b[0mmask\u001b[0m\u001b[0;34m.\u001b[0m\u001b[0many\u001b[0m\u001b[0;34m(\u001b[0m\u001b[0;34m)\u001b[0m\u001b[0;34m:\u001b[0m\u001b[0;34m\u001b[0m\u001b[0;34m\u001b[0m\u001b[0m\n\u001b[1;32m   5017\u001b[0m             \u001b[0;32mif\u001b[0m \u001b[0merrors\u001b[0m \u001b[0;34m!=\u001b[0m \u001b[0;34m\"ignore\"\u001b[0m\u001b[0;34m:\u001b[0m\u001b[0;34m\u001b[0m\u001b[0;34m\u001b[0m\u001b[0m\n\u001b[0;32m-> 5018\u001b[0;31m                 \u001b[0;32mraise\u001b[0m \u001b[0mKeyError\u001b[0m\u001b[0;34m(\u001b[0m\u001b[0;34mf\"{labels[mask]} not found in axis\"\u001b[0m\u001b[0;34m)\u001b[0m\u001b[0;34m\u001b[0m\u001b[0;34m\u001b[0m\u001b[0m\n\u001b[0m\u001b[1;32m   5019\u001b[0m             \u001b[0mindexer\u001b[0m \u001b[0;34m=\u001b[0m \u001b[0mindexer\u001b[0m\u001b[0;34m[\u001b[0m\u001b[0;34m~\u001b[0m\u001b[0mmask\u001b[0m\u001b[0;34m]\u001b[0m\u001b[0;34m\u001b[0m\u001b[0;34m\u001b[0m\u001b[0m\n\u001b[1;32m   5020\u001b[0m         \u001b[0;32mreturn\u001b[0m \u001b[0mself\u001b[0m\u001b[0;34m.\u001b[0m\u001b[0mdelete\u001b[0m\u001b[0;34m(\u001b[0m\u001b[0mindexer\u001b[0m\u001b[0;34m)\u001b[0m\u001b[0;34m\u001b[0m\u001b[0;34m\u001b[0m\u001b[0m\n",
      "\u001b[0;31mKeyError\u001b[0m: \"['Weighted Price'] not found in axis\""
     ]
    }
   ],
   "source": [
    "Final_df=Final_df.drop(['Weighted Price'],axis=1 )"
   ]
  },
  {
   "cell_type": "code",
   "execution_count": 48,
   "metadata": {},
   "outputs": [],
   "source": [
    "Final_df=Final_df.drop(['dt'],axis=1 )"
   ]
  },
  {
   "cell_type": "code",
   "execution_count": 49,
   "metadata": {
    "_uuid": "29ebcdfbc4a47788ae7ad96a427012c2b8e217c3"
   },
   "outputs": [
    {
     "data": {
      "text/html": [
       "<div>\n",
       "<style scoped>\n",
       "    .dataframe tbody tr th:only-of-type {\n",
       "        vertical-align: middle;\n",
       "    }\n",
       "\n",
       "    .dataframe tbody tr th {\n",
       "        vertical-align: top;\n",
       "    }\n",
       "\n",
       "    .dataframe thead th {\n",
       "        text-align: right;\n",
       "    }\n",
       "</style>\n",
       "<table border=\"1\" class=\"dataframe\">\n",
       "  <thead>\n",
       "    <tr style=\"text-align: right;\">\n",
       "      <th></th>\n",
       "      <th>polarity</th>\n",
       "      <th>sensitivity</th>\n",
       "      <th>Tweet_vol</th>\n",
       "      <th>Open</th>\n",
       "      <th>High</th>\n",
       "      <th>Low</th>\n",
       "      <th>Close</th>\n",
       "      <th>Volume (BTC)</th>\n",
       "      <th>Volume (Currency)</th>\n",
       "    </tr>\n",
       "  </thead>\n",
       "  <tbody>\n",
       "    <tr>\n",
       "      <th>2018-07-11 20:00:00</th>\n",
       "      <td>0.102657</td>\n",
       "      <td>0.216148</td>\n",
       "      <td>4354.0</td>\n",
       "      <td>6342.97</td>\n",
       "      <td>6354.19</td>\n",
       "      <td>6291.00</td>\n",
       "      <td>6350.00</td>\n",
       "      <td>986.73</td>\n",
       "      <td>6231532.37</td>\n",
       "    </tr>\n",
       "    <tr>\n",
       "      <th>2018-07-11 21:00:00</th>\n",
       "      <td>0.098004</td>\n",
       "      <td>0.218612</td>\n",
       "      <td>4432.0</td>\n",
       "      <td>6352.99</td>\n",
       "      <td>6370.00</td>\n",
       "      <td>6345.76</td>\n",
       "      <td>6356.48</td>\n",
       "      <td>126.46</td>\n",
       "      <td>804221.55</td>\n",
       "    </tr>\n",
       "    <tr>\n",
       "      <th>2018-07-11 22:00:00</th>\n",
       "      <td>0.096688</td>\n",
       "      <td>0.231342</td>\n",
       "      <td>3980.0</td>\n",
       "      <td>6350.85</td>\n",
       "      <td>6378.47</td>\n",
       "      <td>6345.00</td>\n",
       "      <td>6361.93</td>\n",
       "      <td>259.10</td>\n",
       "      <td>1646353.87</td>\n",
       "    </tr>\n",
       "    <tr>\n",
       "      <th>2018-07-11 23:00:00</th>\n",
       "      <td>0.103997</td>\n",
       "      <td>0.217739</td>\n",
       "      <td>3830.0</td>\n",
       "      <td>6362.36</td>\n",
       "      <td>6381.25</td>\n",
       "      <td>6356.74</td>\n",
       "      <td>6368.78</td>\n",
       "      <td>81.54</td>\n",
       "      <td>519278.69</td>\n",
       "    </tr>\n",
       "    <tr>\n",
       "      <th>2018-07-12 00:00:00</th>\n",
       "      <td>0.094383</td>\n",
       "      <td>0.195256</td>\n",
       "      <td>3998.0</td>\n",
       "      <td>6369.49</td>\n",
       "      <td>6381.25</td>\n",
       "      <td>6361.83</td>\n",
       "      <td>6380.00</td>\n",
       "      <td>124.55</td>\n",
       "      <td>793560.22</td>\n",
       "    </tr>\n",
       "  </tbody>\n",
       "</table>\n",
       "</div>"
      ],
      "text/plain": [
       "                     polarity  sensitivity  Tweet_vol     Open     High  \\\n",
       "2018-07-11 20:00:00  0.102657     0.216148     4354.0  6342.97  6354.19   \n",
       "2018-07-11 21:00:00  0.098004     0.218612     4432.0  6352.99  6370.00   \n",
       "2018-07-11 22:00:00  0.096688     0.231342     3980.0  6350.85  6378.47   \n",
       "2018-07-11 23:00:00  0.103997     0.217739     3830.0  6362.36  6381.25   \n",
       "2018-07-12 00:00:00  0.094383     0.195256     3998.0  6369.49  6381.25   \n",
       "\n",
       "                         Low    Close  Volume (BTC)  Volume (Currency)  \n",
       "2018-07-11 20:00:00  6291.00  6350.00        986.73         6231532.37  \n",
       "2018-07-11 21:00:00  6345.76  6356.48        126.46          804221.55  \n",
       "2018-07-11 22:00:00  6345.00  6361.93        259.10         1646353.87  \n",
       "2018-07-11 23:00:00  6356.74  6368.78         81.54          519278.69  \n",
       "2018-07-12 00:00:00  6361.83  6380.00        124.55          793560.22  "
      ]
     },
     "execution_count": 49,
     "metadata": {},
     "output_type": "execute_result"
    }
   ],
   "source": [
    "Final_df.head()"
   ]
  },
  {
   "cell_type": "code",
   "execution_count": 50,
   "metadata": {
    "_uuid": "d3a7cffb45d346d2aad9045e0bc7e0ac28cda13f"
   },
   "outputs": [],
   "source": [
    "Final_df.columns = ['Polarity', 'Sensitivity','Tweet_vol','Open','High','Low', 'Close_Price', 'Volume_BTC', 'Volume_Dollar']"
   ]
  },
  {
   "cell_type": "code",
   "execution_count": 51,
   "metadata": {
    "_uuid": "64ab938cd9c18c54653364110fc6617abf4ed6a6"
   },
   "outputs": [
    {
     "data": {
      "text/html": [
       "<div>\n",
       "<style scoped>\n",
       "    .dataframe tbody tr th:only-of-type {\n",
       "        vertical-align: middle;\n",
       "    }\n",
       "\n",
       "    .dataframe tbody tr th {\n",
       "        vertical-align: top;\n",
       "    }\n",
       "\n",
       "    .dataframe thead th {\n",
       "        text-align: right;\n",
       "    }\n",
       "</style>\n",
       "<table border=\"1\" class=\"dataframe\">\n",
       "  <thead>\n",
       "    <tr style=\"text-align: right;\">\n",
       "      <th></th>\n",
       "      <th>Polarity</th>\n",
       "      <th>Sensitivity</th>\n",
       "      <th>Tweet_vol</th>\n",
       "      <th>Open</th>\n",
       "      <th>High</th>\n",
       "      <th>Low</th>\n",
       "      <th>Close_Price</th>\n",
       "      <th>Volume_BTC</th>\n",
       "      <th>Volume_Dollar</th>\n",
       "    </tr>\n",
       "  </thead>\n",
       "  <tbody>\n",
       "    <tr>\n",
       "      <th>2018-07-11 20:00:00</th>\n",
       "      <td>0.102657</td>\n",
       "      <td>0.216148</td>\n",
       "      <td>4354.0</td>\n",
       "      <td>6342.97</td>\n",
       "      <td>6354.19</td>\n",
       "      <td>6291.00</td>\n",
       "      <td>6350.00</td>\n",
       "      <td>986.73</td>\n",
       "      <td>6231532.37</td>\n",
       "    </tr>\n",
       "    <tr>\n",
       "      <th>2018-07-11 21:00:00</th>\n",
       "      <td>0.098004</td>\n",
       "      <td>0.218612</td>\n",
       "      <td>4432.0</td>\n",
       "      <td>6352.99</td>\n",
       "      <td>6370.00</td>\n",
       "      <td>6345.76</td>\n",
       "      <td>6356.48</td>\n",
       "      <td>126.46</td>\n",
       "      <td>804221.55</td>\n",
       "    </tr>\n",
       "    <tr>\n",
       "      <th>2018-07-11 22:00:00</th>\n",
       "      <td>0.096688</td>\n",
       "      <td>0.231342</td>\n",
       "      <td>3980.0</td>\n",
       "      <td>6350.85</td>\n",
       "      <td>6378.47</td>\n",
       "      <td>6345.00</td>\n",
       "      <td>6361.93</td>\n",
       "      <td>259.10</td>\n",
       "      <td>1646353.87</td>\n",
       "    </tr>\n",
       "    <tr>\n",
       "      <th>2018-07-11 23:00:00</th>\n",
       "      <td>0.103997</td>\n",
       "      <td>0.217739</td>\n",
       "      <td>3830.0</td>\n",
       "      <td>6362.36</td>\n",
       "      <td>6381.25</td>\n",
       "      <td>6356.74</td>\n",
       "      <td>6368.78</td>\n",
       "      <td>81.54</td>\n",
       "      <td>519278.69</td>\n",
       "    </tr>\n",
       "    <tr>\n",
       "      <th>2018-07-12 00:00:00</th>\n",
       "      <td>0.094383</td>\n",
       "      <td>0.195256</td>\n",
       "      <td>3998.0</td>\n",
       "      <td>6369.49</td>\n",
       "      <td>6381.25</td>\n",
       "      <td>6361.83</td>\n",
       "      <td>6380.00</td>\n",
       "      <td>124.55</td>\n",
       "      <td>793560.22</td>\n",
       "    </tr>\n",
       "  </tbody>\n",
       "</table>\n",
       "</div>"
      ],
      "text/plain": [
       "                     Polarity  Sensitivity  Tweet_vol     Open     High  \\\n",
       "2018-07-11 20:00:00  0.102657     0.216148     4354.0  6342.97  6354.19   \n",
       "2018-07-11 21:00:00  0.098004     0.218612     4432.0  6352.99  6370.00   \n",
       "2018-07-11 22:00:00  0.096688     0.231342     3980.0  6350.85  6378.47   \n",
       "2018-07-11 23:00:00  0.103997     0.217739     3830.0  6362.36  6381.25   \n",
       "2018-07-12 00:00:00  0.094383     0.195256     3998.0  6369.49  6381.25   \n",
       "\n",
       "                         Low  Close_Price  Volume_BTC  Volume_Dollar  \n",
       "2018-07-11 20:00:00  6291.00      6350.00      986.73     6231532.37  \n",
       "2018-07-11 21:00:00  6345.76      6356.48      126.46      804221.55  \n",
       "2018-07-11 22:00:00  6345.00      6361.93      259.10     1646353.87  \n",
       "2018-07-11 23:00:00  6356.74      6368.78       81.54      519278.69  \n",
       "2018-07-12 00:00:00  6361.83      6380.00      124.55      793560.22  "
      ]
     },
     "execution_count": 51,
     "metadata": {},
     "output_type": "execute_result"
    }
   ],
   "source": [
    "Final_df.head()"
   ]
  },
  {
   "cell_type": "code",
   "execution_count": 52,
   "metadata": {
    "_uuid": "d256322016d09fba98d1685d09a164dd6a9ef842"
   },
   "outputs": [],
   "source": [
    "Final_df = Final_df[['Polarity', 'Sensitivity','Tweet_vol', 'Open','High','Low', 'Volume_BTC', 'Volume_Dollar', 'Close_Price']]"
   ]
  },
  {
   "cell_type": "code",
   "execution_count": 53,
   "metadata": {
    "_uuid": "4ec1b8f62ba36cdbab04f3c5bd985222692c7bcf"
   },
   "outputs": [
    {
     "data": {
      "text/html": [
       "<div>\n",
       "<style scoped>\n",
       "    .dataframe tbody tr th:only-of-type {\n",
       "        vertical-align: middle;\n",
       "    }\n",
       "\n",
       "    .dataframe tbody tr th {\n",
       "        vertical-align: top;\n",
       "    }\n",
       "\n",
       "    .dataframe thead th {\n",
       "        text-align: right;\n",
       "    }\n",
       "</style>\n",
       "<table border=\"1\" class=\"dataframe\">\n",
       "  <thead>\n",
       "    <tr style=\"text-align: right;\">\n",
       "      <th></th>\n",
       "      <th>Polarity</th>\n",
       "      <th>Sensitivity</th>\n",
       "      <th>Tweet_vol</th>\n",
       "      <th>Open</th>\n",
       "      <th>High</th>\n",
       "      <th>Low</th>\n",
       "      <th>Volume_BTC</th>\n",
       "      <th>Volume_Dollar</th>\n",
       "      <th>Close_Price</th>\n",
       "    </tr>\n",
       "  </thead>\n",
       "  <tbody>\n",
       "    <tr>\n",
       "      <th>2018-07-11 20:00:00</th>\n",
       "      <td>0.102657</td>\n",
       "      <td>0.216148</td>\n",
       "      <td>4354.0</td>\n",
       "      <td>6342.97</td>\n",
       "      <td>6354.19</td>\n",
       "      <td>6291.00</td>\n",
       "      <td>986.73</td>\n",
       "      <td>6231532.37</td>\n",
       "      <td>6350.00</td>\n",
       "    </tr>\n",
       "    <tr>\n",
       "      <th>2018-07-11 21:00:00</th>\n",
       "      <td>0.098004</td>\n",
       "      <td>0.218612</td>\n",
       "      <td>4432.0</td>\n",
       "      <td>6352.99</td>\n",
       "      <td>6370.00</td>\n",
       "      <td>6345.76</td>\n",
       "      <td>126.46</td>\n",
       "      <td>804221.55</td>\n",
       "      <td>6356.48</td>\n",
       "    </tr>\n",
       "    <tr>\n",
       "      <th>2018-07-11 22:00:00</th>\n",
       "      <td>0.096688</td>\n",
       "      <td>0.231342</td>\n",
       "      <td>3980.0</td>\n",
       "      <td>6350.85</td>\n",
       "      <td>6378.47</td>\n",
       "      <td>6345.00</td>\n",
       "      <td>259.10</td>\n",
       "      <td>1646353.87</td>\n",
       "      <td>6361.93</td>\n",
       "    </tr>\n",
       "    <tr>\n",
       "      <th>2018-07-11 23:00:00</th>\n",
       "      <td>0.103997</td>\n",
       "      <td>0.217739</td>\n",
       "      <td>3830.0</td>\n",
       "      <td>6362.36</td>\n",
       "      <td>6381.25</td>\n",
       "      <td>6356.74</td>\n",
       "      <td>81.54</td>\n",
       "      <td>519278.69</td>\n",
       "      <td>6368.78</td>\n",
       "    </tr>\n",
       "    <tr>\n",
       "      <th>2018-07-12 00:00:00</th>\n",
       "      <td>0.094383</td>\n",
       "      <td>0.195256</td>\n",
       "      <td>3998.0</td>\n",
       "      <td>6369.49</td>\n",
       "      <td>6381.25</td>\n",
       "      <td>6361.83</td>\n",
       "      <td>124.55</td>\n",
       "      <td>793560.22</td>\n",
       "      <td>6380.00</td>\n",
       "    </tr>\n",
       "    <tr>\n",
       "      <th>...</th>\n",
       "      <td>...</td>\n",
       "      <td>...</td>\n",
       "      <td>...</td>\n",
       "      <td>...</td>\n",
       "      <td>...</td>\n",
       "      <td>...</td>\n",
       "      <td>...</td>\n",
       "      <td>...</td>\n",
       "      <td>...</td>\n",
       "    </tr>\n",
       "    <tr>\n",
       "      <th>2018-07-23 21:00:00</th>\n",
       "      <td>0.107282</td>\n",
       "      <td>0.235636</td>\n",
       "      <td>5164.0</td>\n",
       "      <td>7746.99</td>\n",
       "      <td>7763.59</td>\n",
       "      <td>7690.16</td>\n",
       "      <td>237.63</td>\n",
       "      <td>1836633.86</td>\n",
       "      <td>7706.00</td>\n",
       "    </tr>\n",
       "    <tr>\n",
       "      <th>2018-07-23 22:00:00</th>\n",
       "      <td>0.094493</td>\n",
       "      <td>0.271796</td>\n",
       "      <td>4646.0</td>\n",
       "      <td>7699.13</td>\n",
       "      <td>7759.99</td>\n",
       "      <td>7690.50</td>\n",
       "      <td>63.31</td>\n",
       "      <td>489000.25</td>\n",
       "      <td>7750.09</td>\n",
       "    </tr>\n",
       "    <tr>\n",
       "      <th>2018-07-23 23:00:00</th>\n",
       "      <td>0.074246</td>\n",
       "      <td>0.231640</td>\n",
       "      <td>4455.0</td>\n",
       "      <td>7754.57</td>\n",
       "      <td>7777.00</td>\n",
       "      <td>7715.45</td>\n",
       "      <td>280.46</td>\n",
       "      <td>2173424.81</td>\n",
       "      <td>7722.32</td>\n",
       "    </tr>\n",
       "    <tr>\n",
       "      <th>2018-07-24 00:00:00</th>\n",
       "      <td>0.080870</td>\n",
       "      <td>0.219367</td>\n",
       "      <td>3862.0</td>\n",
       "      <td>7722.95</td>\n",
       "      <td>7730.61</td>\n",
       "      <td>7690.17</td>\n",
       "      <td>496.48</td>\n",
       "      <td>3830571.66</td>\n",
       "      <td>7719.62</td>\n",
       "    </tr>\n",
       "    <tr>\n",
       "      <th>2018-07-24 01:00:00</th>\n",
       "      <td>0.090717</td>\n",
       "      <td>0.212626</td>\n",
       "      <td>4620.0</td>\n",
       "      <td>7712.46</td>\n",
       "      <td>7727.70</td>\n",
       "      <td>7691.14</td>\n",
       "      <td>163.99</td>\n",
       "      <td>1264085.79</td>\n",
       "      <td>7723.22</td>\n",
       "    </tr>\n",
       "  </tbody>\n",
       "</table>\n",
       "<p>294 rows × 9 columns</p>\n",
       "</div>"
      ],
      "text/plain": [
       "                     Polarity  Sensitivity  Tweet_vol     Open     High  \\\n",
       "2018-07-11 20:00:00  0.102657     0.216148     4354.0  6342.97  6354.19   \n",
       "2018-07-11 21:00:00  0.098004     0.218612     4432.0  6352.99  6370.00   \n",
       "2018-07-11 22:00:00  0.096688     0.231342     3980.0  6350.85  6378.47   \n",
       "2018-07-11 23:00:00  0.103997     0.217739     3830.0  6362.36  6381.25   \n",
       "2018-07-12 00:00:00  0.094383     0.195256     3998.0  6369.49  6381.25   \n",
       "...                       ...          ...        ...      ...      ...   \n",
       "2018-07-23 21:00:00  0.107282     0.235636     5164.0  7746.99  7763.59   \n",
       "2018-07-23 22:00:00  0.094493     0.271796     4646.0  7699.13  7759.99   \n",
       "2018-07-23 23:00:00  0.074246     0.231640     4455.0  7754.57  7777.00   \n",
       "2018-07-24 00:00:00  0.080870     0.219367     3862.0  7722.95  7730.61   \n",
       "2018-07-24 01:00:00  0.090717     0.212626     4620.0  7712.46  7727.70   \n",
       "\n",
       "                         Low  Volume_BTC  Volume_Dollar  Close_Price  \n",
       "2018-07-11 20:00:00  6291.00      986.73     6231532.37      6350.00  \n",
       "2018-07-11 21:00:00  6345.76      126.46      804221.55      6356.48  \n",
       "2018-07-11 22:00:00  6345.00      259.10     1646353.87      6361.93  \n",
       "2018-07-11 23:00:00  6356.74       81.54      519278.69      6368.78  \n",
       "2018-07-12 00:00:00  6361.83      124.55      793560.22      6380.00  \n",
       "...                      ...         ...            ...          ...  \n",
       "2018-07-23 21:00:00  7690.16      237.63     1836633.86      7706.00  \n",
       "2018-07-23 22:00:00  7690.50       63.31      489000.25      7750.09  \n",
       "2018-07-23 23:00:00  7715.45      280.46     2173424.81      7722.32  \n",
       "2018-07-24 00:00:00  7690.17      496.48     3830571.66      7719.62  \n",
       "2018-07-24 01:00:00  7691.14      163.99     1264085.79      7723.22  \n",
       "\n",
       "[294 rows x 9 columns]"
      ]
     },
     "execution_count": 53,
     "metadata": {},
     "output_type": "execute_result"
    }
   ],
   "source": [
    "Final_df"
   ]
  },
  {
   "cell_type": "code",
   "execution_count": 54,
   "metadata": {
    "_uuid": "e3b1a60dec0fa76b26893ca051eb145f7d35a9ba"
   },
   "outputs": [],
   "source": [
    "#---------------Stage 1 Complete ------------------#\n",
    "#Final_df.to_csv('Desktop/Sentiment.csv')"
   ]
  },
  {
   "cell_type": "markdown",
   "metadata": {
    "_uuid": "3ef466549870c90a637c88c45e259816a34c07d2"
   },
   "source": [
    "# Exploratory Analysis"
   ]
  },
  {
   "cell_type": "code",
   "execution_count": 55,
   "metadata": {
    "_uuid": "dcf4e169e5eb2c6b476f442314b66717bd524c5b",
    "scrolled": true
   },
   "outputs": [
    {
     "data": {
      "image/png": "[encoded data removed]",
      "text/plain": [
       "<Figure size 432x288 with 8 Axes>"
      ]
     },
     "metadata": {
      "needs_background": "light"
     },
     "output_type": "display_data"
    }
   ],
   "source": [
    "#--------------Analysis----------------------------#\n",
    "\n",
    "values = Final_df.values\n",
    "groups = [0,1,2,3,4,5,6,7]\n",
    "i = 1  \n",
    "pyplot.figure()\n",
    "for group in groups:\n",
    "    pyplot.subplot(len(groups), 1,i)\n",
    "    pyplot.plot(values[:,group])\n",
    "    pyplot.title(Final_df.columns[group], y=.5, loc='right')\n",
    "    i += 1\n",
    "pyplot.show()"
   ]
  },
  {
   "cell_type": "code",
   "execution_count": 56,
   "metadata": {
    "_uuid": "e86896cdb80dd037dfb7b7a9c88b493c2b31a6e6"
   },
   "outputs": [
    {
     "data": {
      "text/plain": [
       "2640.49"
      ]
     },
     "execution_count": 56,
     "metadata": {},
     "output_type": "execute_result"
    }
   ],
   "source": [
    "Final_df['Volume_BTC'].max()"
   ]
  },
  {
   "cell_type": "code",
   "execution_count": 57,
   "metadata": {
    "_uuid": "55588535d921e707c05bfa25eb404a679cadd0c2"
   },
   "outputs": [
    {
     "data": {
      "text/plain": [
       "19126407.89"
      ]
     },
     "execution_count": 57,
     "metadata": {},
     "output_type": "execute_result"
    }
   ],
   "source": [
    "Final_df['Volume_Dollar'].max()"
   ]
  },
  {
   "cell_type": "code",
   "execution_count": 58,
   "metadata": {
    "_uuid": "1cd2d1d24fa3ff7eaa5ef3b97d102b2b8987ff74"
   },
   "outputs": [
    {
     "data": {
      "text/plain": [
       "96945.04000000001"
      ]
     },
     "execution_count": 58,
     "metadata": {},
     "output_type": "execute_result"
    }
   ],
   "source": [
    "Final_df['Volume_BTC'].sum()"
   ]
  },
  {
   "cell_type": "code",
   "execution_count": 59,
   "metadata": {
    "_uuid": "ab617ef71a24fc5e6d93f6559b276807e0749fe2"
   },
   "outputs": [
    {
     "data": {
      "text/plain": [
       "684457140.05"
      ]
     },
     "execution_count": 59,
     "metadata": {},
     "output_type": "execute_result"
    }
   ],
   "source": [
    "Final_df['Volume_Dollar'].sum()"
   ]
  },
  {
   "cell_type": "code",
   "execution_count": 60,
   "metadata": {
    "_uuid": "f15e357b4aaace7439c520730dd1f431889aac6d"
   },
   "outputs": [
    {
     "data": {
      "text/plain": [
       "10452.0"
      ]
     },
     "execution_count": 60,
     "metadata": {},
     "output_type": "execute_result"
    }
   ],
   "source": [
    "Final_df['Tweet_vol'].max()"
   ]
  },
  {
   "cell_type": "code",
   "execution_count": 61,
   "metadata": {
    "_uuid": "568881a0cdc80c611bacfbdc3a8f52ad283f024e"
   },
   "outputs": [
    {
     "data": {
      "text/html": [
       "<div>\n",
       "<style scoped>\n",
       "    .dataframe tbody tr th:only-of-type {\n",
       "        vertical-align: middle;\n",
       "    }\n",
       "\n",
       "    .dataframe tbody tr th {\n",
       "        vertical-align: top;\n",
       "    }\n",
       "\n",
       "    .dataframe thead th {\n",
       "        text-align: right;\n",
       "    }\n",
       "</style>\n",
       "<table border=\"1\" class=\"dataframe\">\n",
       "  <thead>\n",
       "    <tr style=\"text-align: right;\">\n",
       "      <th></th>\n",
       "      <th>Polarity</th>\n",
       "      <th>Sensitivity</th>\n",
       "      <th>Tweet_vol</th>\n",
       "      <th>Open</th>\n",
       "      <th>High</th>\n",
       "      <th>Low</th>\n",
       "      <th>Volume_BTC</th>\n",
       "      <th>Volume_Dollar</th>\n",
       "      <th>Close_Price</th>\n",
       "    </tr>\n",
       "  </thead>\n",
       "  <tbody>\n",
       "    <tr>\n",
       "      <th>count</th>\n",
       "      <td>294.000000</td>\n",
       "      <td>294.000000</td>\n",
       "      <td>294.000000</td>\n",
       "      <td>294.000000</td>\n",
       "      <td>294.000000</td>\n",
       "      <td>294.000000</td>\n",
       "      <td>294.000000</td>\n",
       "      <td>2.940000e+02</td>\n",
       "      <td>294.000000</td>\n",
       "    </tr>\n",
       "    <tr>\n",
       "      <th>mean</th>\n",
       "      <td>0.099534</td>\n",
       "      <td>0.214141</td>\n",
       "      <td>4691.119048</td>\n",
       "      <td>6915.349388</td>\n",
       "      <td>6946.782925</td>\n",
       "      <td>6889.661054</td>\n",
       "      <td>329.745034</td>\n",
       "      <td>2.328086e+06</td>\n",
       "      <td>6920.150000</td>\n",
       "    </tr>\n",
       "    <tr>\n",
       "      <th>std</th>\n",
       "      <td>0.012114</td>\n",
       "      <td>0.014940</td>\n",
       "      <td>1048.922706</td>\n",
       "      <td>564.467674</td>\n",
       "      <td>573.078843</td>\n",
       "      <td>559.037540</td>\n",
       "      <td>344.527625</td>\n",
       "      <td>2.508128e+06</td>\n",
       "      <td>565.424866</td>\n",
       "    </tr>\n",
       "    <tr>\n",
       "      <th>min</th>\n",
       "      <td>0.051695</td>\n",
       "      <td>0.174330</td>\n",
       "      <td>2998.000000</td>\n",
       "      <td>6149.110000</td>\n",
       "      <td>6173.610000</td>\n",
       "      <td>6072.000000</td>\n",
       "      <td>22.000000</td>\n",
       "      <td>1.379601e+05</td>\n",
       "      <td>6149.110000</td>\n",
       "    </tr>\n",
       "    <tr>\n",
       "      <th>25%</th>\n",
       "      <td>0.091489</td>\n",
       "      <td>0.203450</td>\n",
       "      <td>3878.750000</td>\n",
       "      <td>6285.077500</td>\n",
       "      <td>6334.942500</td>\n",
       "      <td>6266.522500</td>\n",
       "      <td>129.230000</td>\n",
       "      <td>8.412214e+05</td>\n",
       "      <td>6283.497500</td>\n",
       "    </tr>\n",
       "    <tr>\n",
       "      <th>50%</th>\n",
       "      <td>0.099198</td>\n",
       "      <td>0.214756</td>\n",
       "      <td>4452.000000</td>\n",
       "      <td>7276.845000</td>\n",
       "      <td>7311.380000</td>\n",
       "      <td>7245.580000</td>\n",
       "      <td>223.870000</td>\n",
       "      <td>1.607008e+06</td>\n",
       "      <td>7281.975000</td>\n",
       "    </tr>\n",
       "    <tr>\n",
       "      <th>75%</th>\n",
       "      <td>0.106649</td>\n",
       "      <td>0.223910</td>\n",
       "      <td>5429.750000</td>\n",
       "      <td>7422.957500</td>\n",
       "      <td>7457.202500</td>\n",
       "      <td>7396.427500</td>\n",
       "      <td>385.135000</td>\n",
       "      <td>2.662185e+06</td>\n",
       "      <td>7424.560000</td>\n",
       "    </tr>\n",
       "    <tr>\n",
       "      <th>max</th>\n",
       "      <td>0.135088</td>\n",
       "      <td>0.271796</td>\n",
       "      <td>10452.000000</td>\n",
       "      <td>7754.570000</td>\n",
       "      <td>7800.000000</td>\n",
       "      <td>7724.500000</td>\n",
       "      <td>2640.490000</td>\n",
       "      <td>1.912641e+07</td>\n",
       "      <td>7750.090000</td>\n",
       "    </tr>\n",
       "  </tbody>\n",
       "</table>\n",
       "</div>"
      ],
      "text/plain": [
       "         Polarity  Sensitivity     Tweet_vol         Open         High  \\\n",
       "count  294.000000   294.000000    294.000000   294.000000   294.000000   \n",
       "mean     0.099534     0.214141   4691.119048  6915.349388  6946.782925   \n",
       "std      0.012114     0.014940   1048.922706   564.467674   573.078843   \n",
       "min      0.051695     0.174330   2998.000000  6149.110000  6173.610000   \n",
       "25%      0.091489     0.203450   3878.750000  6285.077500  6334.942500   \n",
       "50%      0.099198     0.214756   4452.000000  7276.845000  7311.380000   \n",
       "75%      0.106649     0.223910   5429.750000  7422.957500  7457.202500   \n",
       "max      0.135088     0.271796  10452.000000  7754.570000  7800.000000   \n",
       "\n",
       "               Low   Volume_BTC  Volume_Dollar  Close_Price  \n",
       "count   294.000000   294.000000   2.940000e+02   294.000000  \n",
       "mean   6889.661054   329.745034   2.328086e+06  6920.150000  \n",
       "std     559.037540   344.527625   2.508128e+06   565.424866  \n",
       "min    6072.000000    22.000000   1.379601e+05  6149.110000  \n",
       "25%    6266.522500   129.230000   8.412214e+05  6283.497500  \n",
       "50%    7245.580000   223.870000   1.607008e+06  7281.975000  \n",
       "75%    7396.427500   385.135000   2.662185e+06  7424.560000  \n",
       "max    7724.500000  2640.490000   1.912641e+07  7750.090000  "
      ]
     },
     "execution_count": 61,
     "metadata": {},
     "output_type": "execute_result"
    }
   ],
   "source": [
    "Final_df.describe()"
   ]
  },
  {
   "cell_type": "code",
   "execution_count": 62,
   "metadata": {
    "_uuid": "2de9b3ea2a880f80a4929a1a704fc24a5b6631de"
   },
   "outputs": [
    {
     "data": {
      "text/html": [
       "<div>\n",
       "<style scoped>\n",
       "    .dataframe tbody tr th:only-of-type {\n",
       "        vertical-align: middle;\n",
       "    }\n",
       "\n",
       "    .dataframe tbody tr th {\n",
       "        vertical-align: top;\n",
       "    }\n",
       "\n",
       "    .dataframe thead th {\n",
       "        text-align: right;\n",
       "    }\n",
       "</style>\n",
       "<table border=\"1\" class=\"dataframe\">\n",
       "  <thead>\n",
       "    <tr style=\"text-align: right;\">\n",
       "      <th></th>\n",
       "      <th>Polarity</th>\n",
       "      <th>Sensitivity</th>\n",
       "      <th>Tweet_vol</th>\n",
       "      <th>Open</th>\n",
       "      <th>High</th>\n",
       "      <th>Low</th>\n",
       "      <th>Volume_BTC</th>\n",
       "      <th>Volume_Dollar</th>\n",
       "      <th>Close_Price</th>\n",
       "    </tr>\n",
       "  </thead>\n",
       "  <tbody>\n",
       "    <tr>\n",
       "      <th>Polarity</th>\n",
       "      <td>1.000000</td>\n",
       "      <td>0.380350</td>\n",
       "      <td>-0.167573</td>\n",
       "      <td>0.179056</td>\n",
       "      <td>0.176277</td>\n",
       "      <td>0.180088</td>\n",
       "      <td>-0.062868</td>\n",
       "      <td>-0.052646</td>\n",
       "      <td>0.178456</td>\n",
       "    </tr>\n",
       "    <tr>\n",
       "      <th>Sensitivity</th>\n",
       "      <td>0.380350</td>\n",
       "      <td>1.000000</td>\n",
       "      <td>0.053903</td>\n",
       "      <td>0.194763</td>\n",
       "      <td>0.200611</td>\n",
       "      <td>0.190222</td>\n",
       "      <td>0.097124</td>\n",
       "      <td>0.112425</td>\n",
       "      <td>0.193203</td>\n",
       "    </tr>\n",
       "    <tr>\n",
       "      <th>Tweet_vol</th>\n",
       "      <td>-0.167573</td>\n",
       "      <td>0.053903</td>\n",
       "      <td>1.000000</td>\n",
       "      <td>0.237185</td>\n",
       "      <td>0.262207</td>\n",
       "      <td>0.234330</td>\n",
       "      <td>0.541112</td>\n",
       "      <td>0.545850</td>\n",
       "      <td>0.250448</td>\n",
       "    </tr>\n",
       "    <tr>\n",
       "      <th>Open</th>\n",
       "      <td>0.179056</td>\n",
       "      <td>0.194763</td>\n",
       "      <td>0.237185</td>\n",
       "      <td>1.000000</td>\n",
       "      <td>0.997128</td>\n",
       "      <td>0.998799</td>\n",
       "      <td>0.217478</td>\n",
       "      <td>0.277600</td>\n",
       "      <td>0.997217</td>\n",
       "    </tr>\n",
       "    <tr>\n",
       "      <th>High</th>\n",
       "      <td>0.176277</td>\n",
       "      <td>0.200611</td>\n",
       "      <td>0.262207</td>\n",
       "      <td>0.997128</td>\n",
       "      <td>1.000000</td>\n",
       "      <td>0.996650</td>\n",
       "      <td>0.270551</td>\n",
       "      <td>0.329816</td>\n",
       "      <td>0.998816</td>\n",
       "    </tr>\n",
       "    <tr>\n",
       "      <th>Low</th>\n",
       "      <td>0.180088</td>\n",
       "      <td>0.190222</td>\n",
       "      <td>0.234330</td>\n",
       "      <td>0.998799</td>\n",
       "      <td>0.996650</td>\n",
       "      <td>1.000000</td>\n",
       "      <td>0.202895</td>\n",
       "      <td>0.263863</td>\n",
       "      <td>0.998058</td>\n",
       "    </tr>\n",
       "    <tr>\n",
       "      <th>Volume_BTC</th>\n",
       "      <td>-0.062868</td>\n",
       "      <td>0.097124</td>\n",
       "      <td>0.541112</td>\n",
       "      <td>0.217478</td>\n",
       "      <td>0.270551</td>\n",
       "      <td>0.202895</td>\n",
       "      <td>1.000000</td>\n",
       "      <td>0.995873</td>\n",
       "      <td>0.243875</td>\n",
       "    </tr>\n",
       "    <tr>\n",
       "      <th>Volume_Dollar</th>\n",
       "      <td>-0.052646</td>\n",
       "      <td>0.112425</td>\n",
       "      <td>0.545850</td>\n",
       "      <td>0.277600</td>\n",
       "      <td>0.329816</td>\n",
       "      <td>0.263863</td>\n",
       "      <td>0.995873</td>\n",
       "      <td>1.000000</td>\n",
       "      <td>0.303347</td>\n",
       "    </tr>\n",
       "    <tr>\n",
       "      <th>Close_Price</th>\n",
       "      <td>0.178456</td>\n",
       "      <td>0.193203</td>\n",
       "      <td>0.250448</td>\n",
       "      <td>0.997217</td>\n",
       "      <td>0.998816</td>\n",
       "      <td>0.998058</td>\n",
       "      <td>0.243875</td>\n",
       "      <td>0.303347</td>\n",
       "      <td>1.000000</td>\n",
       "    </tr>\n",
       "  </tbody>\n",
       "</table>\n",
       "</div>"
      ],
      "text/plain": [
       "               Polarity  Sensitivity  Tweet_vol      Open      High       Low  \\\n",
       "Polarity       1.000000     0.380350  -0.167573  0.179056  0.176277  0.180088   \n",
       "Sensitivity    0.380350     1.000000   0.053903  0.194763  0.200611  0.190222   \n",
       "Tweet_vol     -0.167573     0.053903   1.000000  0.237185  0.262207  0.234330   \n",
       "Open           0.179056     0.194763   0.237185  1.000000  0.997128  0.998799   \n",
       "High           0.176277     0.200611   0.262207  0.997128  1.000000  0.996650   \n",
       "Low            0.180088     0.190222   0.234330  0.998799  0.996650  1.000000   \n",
       "Volume_BTC    -0.062868     0.097124   0.541112  0.217478  0.270551  0.202895   \n",
       "Volume_Dollar -0.052646     0.112425   0.545850  0.277600  0.329816  0.263863   \n",
       "Close_Price    0.178456     0.193203   0.250448  0.997217  0.998816  0.998058   \n",
       "\n",
       "               Volume_BTC  Volume_Dollar  Close_Price  \n",
       "Polarity        -0.062868      -0.052646     0.178456  \n",
       "Sensitivity      0.097124       0.112425     0.193203  \n",
       "Tweet_vol        0.541112       0.545850     0.250448  \n",
       "Open             0.217478       0.277600     0.997217  \n",
       "High             0.270551       0.329816     0.998816  \n",
       "Low              0.202895       0.263863     0.998058  \n",
       "Volume_BTC       1.000000       0.995873     0.243875  \n",
       "Volume_Dollar    0.995873       1.000000     0.303347  \n",
       "Close_Price      0.243875       0.303347     1.000000  "
      ]
     },
     "execution_count": 62,
     "metadata": {},
     "output_type": "execute_result"
    }
   ],
   "source": [
    "cor = Final_df.corr()\n",
    "cor"
   ]
  },
  {
   "cell_type": "code",
   "execution_count": 63,
   "metadata": {
    "_uuid": "768ef0d890519b8ca9686dd5e1053773d11f9780"
   },
   "outputs": [
    {
     "data": {
      "text/plain": [
       "2018-07-17 18:00:00    2640.49\n",
       "2018-07-17 19:00:00    2600.32\n",
       "2018-07-23 03:00:00    1669.28\n",
       "2018-07-18 04:00:00    1576.15\n",
       "2018-07-20 17:00:00    1510.00\n",
       "2018-07-18 19:00:00    1490.02\n",
       "2018-07-23 19:00:00    1396.32\n",
       "2018-07-12 07:00:00    1211.64\n",
       "2018-07-16 10:00:00    1147.69\n",
       "2018-07-23 08:00:00    1135.38\n",
       "Name: Volume_BTC, dtype: float64"
      ]
     },
     "execution_count": 63,
     "metadata": {},
     "output_type": "execute_result"
    }
   ],
   "source": [
    "Top_Vol = Final_df['Volume_BTC'].nlargest(10)\n",
    "Top_Vol"
   ]
  },
  {
   "cell_type": "code",
   "execution_count": 64,
   "metadata": {
    "_uuid": "42e5a8f8c638bba891be985cda197f344a79428f"
   },
   "outputs": [
    {
     "data": {
      "text/plain": [
       "2018-07-23 22:00:00    0.271796\n",
       "2018-07-19 20:00:00    0.262048\n",
       "2018-07-21 19:00:00    0.256952\n",
       "2018-07-20 22:00:00    0.246046\n",
       "2018-07-22 06:00:00    0.245820\n",
       "2018-07-19 19:00:00    0.244655\n",
       "2018-07-19 21:00:00    0.244215\n",
       "2018-07-18 20:00:00    0.243534\n",
       "2018-07-18 21:00:00    0.243422\n",
       "2018-07-18 18:00:00    0.241287\n",
       "Name: Sensitivity, dtype: float64"
      ]
     },
     "execution_count": 64,
     "metadata": {},
     "output_type": "execute_result"
    }
   ],
   "source": [
    "Top_Sen = Final_df['Sensitivity'].nlargest(10)\n",
    "Top_Sen"
   ]
  },
  {
   "cell_type": "code",
   "execution_count": 65,
   "metadata": {
    "_uuid": "e79dcf077343fc5adf4de7f7b211f68a4d91f86a"
   },
   "outputs": [
    {
     "data": {
      "text/plain": [
       "2018-07-22 05:00:00    0.135088\n",
       "2018-07-16 03:00:00    0.130634\n",
       "2018-07-19 20:00:00    0.127696\n",
       "2018-07-15 10:00:00    0.127469\n",
       "2018-07-22 06:00:00    0.126299\n",
       "2018-07-15 06:00:00    0.124505\n",
       "2018-07-16 05:00:00    0.124210\n",
       "2018-07-22 09:00:00    0.122784\n",
       "2018-07-15 13:00:00    0.122411\n",
       "2018-07-22 12:00:00    0.122021\n",
       "Name: Polarity, dtype: float64"
      ]
     },
     "execution_count": 65,
     "metadata": {},
     "output_type": "execute_result"
    }
   ],
   "source": [
    "Top_Pol = Final_df['Polarity'].nlargest(10)\n",
    "Top_Pol"
   ]
  },
  {
   "cell_type": "code",
   "execution_count": 66,
   "metadata": {
    "_uuid": "dfd4bd69741ceffa845c6d78bd31855868f96f1c"
   },
   "outputs": [
    {
     "data": {
      "text/plain": [
       "2018-07-17 19:00:00    10452.0\n",
       "2018-07-17 18:00:00     7995.0\n",
       "2018-07-17 20:00:00     7354.0\n",
       "2018-07-16 14:00:00     7280.0\n",
       "2018-07-18 15:00:00     7222.0\n",
       "2018-07-18 14:00:00     7209.0\n",
       "2018-07-18 13:00:00     7171.0\n",
       "2018-07-16 13:00:00     7133.0\n",
       "2018-07-19 16:00:00     6886.0\n",
       "2018-07-18 12:00:00     6844.0\n",
       "Name: Tweet_vol, dtype: float64"
      ]
     },
     "execution_count": 66,
     "metadata": {},
     "output_type": "execute_result"
    }
   ],
   "source": [
    "Top_Tweet = Final_df['Tweet_vol'].nlargest(10)\n",
    "Top_Tweet"
   ]
  },
  {
   "cell_type": "code",
   "execution_count": 67,
   "metadata": {
    "_uuid": "6990a33baca941477f5636922b89a5a58df11345"
   },
   "outputs": [
    {
     "data": {
      "image/png": "[encoded data removed]",
      "text/plain": [
       "<Figure size 792x648 with 2 Axes>"
      ]
     },
     "metadata": {},
     "output_type": "display_data"
    }
   ],
   "source": [
    "import matplotlib.pyplot as plt\n",
    "sns.set(style=\"white\")\n",
    "f, ax = plt.subplots(figsize=(11, 9))\n",
    "\n",
    "cmap = sns.diverging_palette(220, 10, as_cmap=True)\n",
    "ax = sns.heatmap(cor, cmap=cmap, vmax=1, center=0,\n",
    "            square=True, linewidths=.5, cbar_kws={\"shrink\": .7})\n",
    "plt.show()"
   ]
  },
  {
   "cell_type": "code",
   "execution_count": 72,
   "metadata": {
    "_uuid": "8583fc85f4d8e1220e1df75c93b0d60f452ccffc"
   },
   "outputs": [
    {
     "data": {
      "image/png": "[encoded data removed]",
      "text/plain": [
       "<Figure size 432x288 with 1 Axes>"
      ]
     },
     "metadata": {},
     "output_type": "display_data"
    },
    {
     "data": {
      "image/png": "[encoded data removed]",
      "text/plain": [
       "<Figure size 432x288 with 1 Axes>"
      ]
     },
     "metadata": {},
     "output_type": "display_data"
    },
    {
     "data": {
      "image/png": "[encoded data removed]",
      "text/plain": [
       "<Figure size 432x288 with 1 Axes>"
      ]
     },
     "metadata": {},
     "output_type": "display_data"
    },
    {
     "data": {
      "image/png": "[encoded data removed]",
      "text/plain": [
       "<Figure size 432x288 with 1 Axes>"
      ]
     },
     "metadata": {},
     "output_type": "display_data"
    }
   ],
   "source": [
    "plt.plot(Final_df.index, Final_df['Close_Price'], 'black')\n",
    "plt.plot(Final_df.index, Final_df['Open'], 'yellow')\n",
    "plt.plot(Final_df.index, Final_df['Low'], 'red')\n",
    "plt.plot(Final_df.index, Final_df['High'], 'green')\n",
    "plt.title('BTC Close Price(hr)')\n",
    "plt.xticks(rotation='vertical')\n",
    "plt.ylabel('Price ($)');\n",
    "plt.show();\n",
    "\n",
    "plt.plot(Final_df.index, Final_df['Volume_BTC'], 'g')\n",
    "plt.title('Trading Vol BTC(hr)')\n",
    "plt.xticks(rotation='vertical')\n",
    "plt.ylabel('Vol BTC');\n",
    "plt.show();\n",
    "\n",
    "plt.plot(Final_df.index, Final_df['Polarity'], 'b')\n",
    "plt.xticks(rotation='vertical')\n",
    "plt.title('Twitter Sentiment(hr)')\n",
    "plt.ylabel('Pol (0-1)');\n",
    "plt.show();\n",
    "\n",
    "plt.plot(Final_df.index, Final_df['Tweet_vol'], 'b')\n",
    "plt.xticks(rotation='vertical')\n",
    "plt.title('Tweet Vol(hr)')\n",
    "plt.ylabel('No. of Tweets');\n",
    "plt.show();"
   ]
  },
  {
   "cell_type": "code",
   "execution_count": 70,
   "metadata": {
    "_uuid": "8f93944d12561a30247c6584b52e891e22c26ad6"
   },
   "outputs": [],
   "source": [
    "#sns Heatmap for Hour x volume \n",
    "#Final_df['time']=Final_df.index.time()\n",
    "Final_df['time']=Final_df.index.to_series().apply(lambda x: x.strftime(\"%X\"))"
   ]
  },
  {
   "cell_type": "code",
   "execution_count": 71,
   "metadata": {
    "_uuid": "a9ad630b18148762dcfc1fff2fb0976fe7a2284e"
   },
   "outputs": [
    {
     "data": {
      "text/html": [
       "<div>\n",
       "<style scoped>\n",
       "    .dataframe tbody tr th:only-of-type {\n",
       "        vertical-align: middle;\n",
       "    }\n",
       "\n",
       "    .dataframe tbody tr th {\n",
       "        vertical-align: top;\n",
       "    }\n",
       "\n",
       "    .dataframe thead th {\n",
       "        text-align: right;\n",
       "    }\n",
       "</style>\n",
       "<table border=\"1\" class=\"dataframe\">\n",
       "  <thead>\n",
       "    <tr style=\"text-align: right;\">\n",
       "      <th></th>\n",
       "      <th>Polarity</th>\n",
       "      <th>Sensitivity</th>\n",
       "      <th>Tweet_vol</th>\n",
       "      <th>Open</th>\n",
       "      <th>High</th>\n",
       "      <th>Low</th>\n",
       "      <th>Volume_BTC</th>\n",
       "      <th>Volume_Dollar</th>\n",
       "      <th>Close_Price</th>\n",
       "      <th>time</th>\n",
       "    </tr>\n",
       "  </thead>\n",
       "  <tbody>\n",
       "    <tr>\n",
       "      <th>2018-07-11 20:00:00</th>\n",
       "      <td>0.102657</td>\n",
       "      <td>0.216148</td>\n",
       "      <td>4354.0</td>\n",
       "      <td>6342.97</td>\n",
       "      <td>6354.19</td>\n",
       "      <td>6291.00</td>\n",
       "      <td>986.73</td>\n",
       "      <td>6231532.37</td>\n",
       "      <td>6350.00</td>\n",
       "      <td>20:00:00</td>\n",
       "    </tr>\n",
       "    <tr>\n",
       "      <th>2018-07-11 21:00:00</th>\n",
       "      <td>0.098004</td>\n",
       "      <td>0.218612</td>\n",
       "      <td>4432.0</td>\n",
       "      <td>6352.99</td>\n",
       "      <td>6370.00</td>\n",
       "      <td>6345.76</td>\n",
       "      <td>126.46</td>\n",
       "      <td>804221.55</td>\n",
       "      <td>6356.48</td>\n",
       "      <td>21:00:00</td>\n",
       "    </tr>\n",
       "    <tr>\n",
       "      <th>2018-07-11 22:00:00</th>\n",
       "      <td>0.096688</td>\n",
       "      <td>0.231342</td>\n",
       "      <td>3980.0</td>\n",
       "      <td>6350.85</td>\n",
       "      <td>6378.47</td>\n",
       "      <td>6345.00</td>\n",
       "      <td>259.10</td>\n",
       "      <td>1646353.87</td>\n",
       "      <td>6361.93</td>\n",
       "      <td>22:00:00</td>\n",
       "    </tr>\n",
       "    <tr>\n",
       "      <th>2018-07-11 23:00:00</th>\n",
       "      <td>0.103997</td>\n",
       "      <td>0.217739</td>\n",
       "      <td>3830.0</td>\n",
       "      <td>6362.36</td>\n",
       "      <td>6381.25</td>\n",
       "      <td>6356.74</td>\n",
       "      <td>81.54</td>\n",
       "      <td>519278.69</td>\n",
       "      <td>6368.78</td>\n",
       "      <td>23:00:00</td>\n",
       "    </tr>\n",
       "    <tr>\n",
       "      <th>2018-07-12 00:00:00</th>\n",
       "      <td>0.094383</td>\n",
       "      <td>0.195256</td>\n",
       "      <td>3998.0</td>\n",
       "      <td>6369.49</td>\n",
       "      <td>6381.25</td>\n",
       "      <td>6361.83</td>\n",
       "      <td>124.55</td>\n",
       "      <td>793560.22</td>\n",
       "      <td>6380.00</td>\n",
       "      <td>00:00:00</td>\n",
       "    </tr>\n",
       "  </tbody>\n",
       "</table>\n",
       "</div>"
      ],
      "text/plain": [
       "                     Polarity  Sensitivity  Tweet_vol     Open     High  \\\n",
       "2018-07-11 20:00:00  0.102657     0.216148     4354.0  6342.97  6354.19   \n",
       "2018-07-11 21:00:00  0.098004     0.218612     4432.0  6352.99  6370.00   \n",
       "2018-07-11 22:00:00  0.096688     0.231342     3980.0  6350.85  6378.47   \n",
       "2018-07-11 23:00:00  0.103997     0.217739     3830.0  6362.36  6381.25   \n",
       "2018-07-12 00:00:00  0.094383     0.195256     3998.0  6369.49  6381.25   \n",
       "\n",
       "                         Low  Volume_BTC  Volume_Dollar  Close_Price      time  \n",
       "2018-07-11 20:00:00  6291.00      986.73     6231532.37      6350.00  20:00:00  \n",
       "2018-07-11 21:00:00  6345.76      126.46      804221.55      6356.48  21:00:00  \n",
       "2018-07-11 22:00:00  6345.00      259.10     1646353.87      6361.93  22:00:00  \n",
       "2018-07-11 23:00:00  6356.74       81.54      519278.69      6368.78  23:00:00  \n",
       "2018-07-12 00:00:00  6361.83      124.55      793560.22      6380.00  00:00:00  "
      ]
     },
     "execution_count": 71,
     "metadata": {},
     "output_type": "execute_result"
    }
   ],
   "source": [
    "Final_df.head()"
   ]
  },
  {
   "cell_type": "code",
   "execution_count": 73,
   "metadata": {
    "_uuid": "15e69117506d3e0b9e269af2ed60f433963232ed"
   },
   "outputs": [],
   "source": [
    "hour_df=Final_df"
   ]
  },
  {
   "cell_type": "code",
   "execution_count": 74,
   "metadata": {
    "_uuid": "d0d23c4a61c4b08c50a1d2c5252c6b89883f235f"
   },
   "outputs": [],
   "source": [
    "hour_df=hour_df.groupby('time').agg(lambda x: x.mean())"
   ]
  },
  {
   "cell_type": "code",
   "execution_count": 75,
   "metadata": {
    "_uuid": "b775bacdd82ac2d5e32d2da61caa710d684959e9"
   },
   "outputs": [
    {
     "data": {
      "text/html": [
       "<div>\n",
       "<style scoped>\n",
       "    .dataframe tbody tr th:only-of-type {\n",
       "        vertical-align: middle;\n",
       "    }\n",
       "\n",
       "    .dataframe tbody tr th {\n",
       "        vertical-align: top;\n",
       "    }\n",
       "\n",
       "    .dataframe thead th {\n",
       "        text-align: right;\n",
       "    }\n",
       "</style>\n",
       "<table border=\"1\" class=\"dataframe\">\n",
       "  <thead>\n",
       "    <tr style=\"text-align: right;\">\n",
       "      <th></th>\n",
       "      <th>Polarity</th>\n",
       "      <th>Sensitivity</th>\n",
       "      <th>Tweet_vol</th>\n",
       "      <th>Open</th>\n",
       "      <th>High</th>\n",
       "      <th>Low</th>\n",
       "      <th>Volume_BTC</th>\n",
       "      <th>Volume_Dollar</th>\n",
       "      <th>Close_Price</th>\n",
       "    </tr>\n",
       "    <tr>\n",
       "      <th>time</th>\n",
       "      <th></th>\n",
       "      <th></th>\n",
       "      <th></th>\n",
       "      <th></th>\n",
       "      <th></th>\n",
       "      <th></th>\n",
       "      <th></th>\n",
       "      <th></th>\n",
       "      <th></th>\n",
       "    </tr>\n",
       "  </thead>\n",
       "  <tbody>\n",
       "    <tr>\n",
       "      <th>00:00:00</th>\n",
       "      <td>0.090298</td>\n",
       "      <td>0.211771</td>\n",
       "      <td>3976.384615</td>\n",
       "      <td>6930.237692</td>\n",
       "      <td>6958.360769</td>\n",
       "      <td>6900.588462</td>\n",
       "      <td>322.836154</td>\n",
       "      <td>2.228120e+06</td>\n",
       "      <td>6935.983077</td>\n",
       "    </tr>\n",
       "    <tr>\n",
       "      <th>01:00:00</th>\n",
       "      <td>0.099596</td>\n",
       "      <td>0.211714</td>\n",
       "      <td>4016.615385</td>\n",
       "      <td>6935.140769</td>\n",
       "      <td>6963.533846</td>\n",
       "      <td>6894.772308</td>\n",
       "      <td>318.415385</td>\n",
       "      <td>2.243338e+06</td>\n",
       "      <td>6933.794615</td>\n",
       "    </tr>\n",
       "    <tr>\n",
       "      <th>02:00:00</th>\n",
       "      <td>0.102724</td>\n",
       "      <td>0.204445</td>\n",
       "      <td>3824.083333</td>\n",
       "      <td>6868.211667</td>\n",
       "      <td>6889.440000</td>\n",
       "      <td>6842.588333</td>\n",
       "      <td>158.836667</td>\n",
       "      <td>1.105651e+06</td>\n",
       "      <td>6870.695833</td>\n",
       "    </tr>\n",
       "    <tr>\n",
       "      <th>03:00:00</th>\n",
       "      <td>0.105586</td>\n",
       "      <td>0.214824</td>\n",
       "      <td>3791.666667</td>\n",
       "      <td>6870.573333</td>\n",
       "      <td>6909.675833</td>\n",
       "      <td>6855.316667</td>\n",
       "      <td>328.811667</td>\n",
       "      <td>2.385733e+06</td>\n",
       "      <td>6888.139167</td>\n",
       "    </tr>\n",
       "    <tr>\n",
       "      <th>04:00:00</th>\n",
       "      <td>0.103095</td>\n",
       "      <td>0.208516</td>\n",
       "      <td>3822.916667</td>\n",
       "      <td>6887.420000</td>\n",
       "      <td>6911.649167</td>\n",
       "      <td>6872.603333</td>\n",
       "      <td>271.692500</td>\n",
       "      <td>1.949230e+06</td>\n",
       "      <td>6890.985000</td>\n",
       "    </tr>\n",
       "    <tr>\n",
       "      <th>05:00:00</th>\n",
       "      <td>0.108032</td>\n",
       "      <td>0.215058</td>\n",
       "      <td>3904.166667</td>\n",
       "      <td>6891.468333</td>\n",
       "      <td>6911.175833</td>\n",
       "      <td>6869.017500</td>\n",
       "      <td>213.315000</td>\n",
       "      <td>1.524601e+06</td>\n",
       "      <td>6890.451667</td>\n",
       "    </tr>\n",
       "    <tr>\n",
       "      <th>06:00:00</th>\n",
       "      <td>0.104412</td>\n",
       "      <td>0.210424</td>\n",
       "      <td>3760.250000</td>\n",
       "      <td>6889.327500</td>\n",
       "      <td>6907.070833</td>\n",
       "      <td>6868.484167</td>\n",
       "      <td>183.329167</td>\n",
       "      <td>1.281427e+06</td>\n",
       "      <td>6891.371667</td>\n",
       "    </tr>\n",
       "    <tr>\n",
       "      <th>07:00:00</th>\n",
       "      <td>0.100942</td>\n",
       "      <td>0.209435</td>\n",
       "      <td>4056.000000</td>\n",
       "      <td>6891.645833</td>\n",
       "      <td>6908.654167</td>\n",
       "      <td>6858.290833</td>\n",
       "      <td>329.882500</td>\n",
       "      <td>2.263694e+06</td>\n",
       "      <td>6878.757500</td>\n",
       "    </tr>\n",
       "    <tr>\n",
       "      <th>08:00:00</th>\n",
       "      <td>0.099380</td>\n",
       "      <td>0.210113</td>\n",
       "      <td>5095.583333</td>\n",
       "      <td>6878.635833</td>\n",
       "      <td>6903.660833</td>\n",
       "      <td>6851.435833</td>\n",
       "      <td>368.109167</td>\n",
       "      <td>2.616314e+06</td>\n",
       "      <td>6885.867500</td>\n",
       "    </tr>\n",
       "    <tr>\n",
       "      <th>09:00:00</th>\n",
       "      <td>0.099369</td>\n",
       "      <td>0.204565</td>\n",
       "      <td>4650.083333</td>\n",
       "      <td>6886.526667</td>\n",
       "      <td>6915.735000</td>\n",
       "      <td>6852.922500</td>\n",
       "      <td>397.702500</td>\n",
       "      <td>2.740251e+06</td>\n",
       "      <td>6888.328333</td>\n",
       "    </tr>\n",
       "    <tr>\n",
       "      <th>10:00:00</th>\n",
       "      <td>0.099587</td>\n",
       "      <td>0.203848</td>\n",
       "      <td>4932.833333</td>\n",
       "      <td>6888.095000</td>\n",
       "      <td>6921.905000</td>\n",
       "      <td>6870.502500</td>\n",
       "      <td>318.982500</td>\n",
       "      <td>2.194532e+06</td>\n",
       "      <td>6905.600833</td>\n",
       "    </tr>\n",
       "    <tr>\n",
       "      <th>11:00:00</th>\n",
       "      <td>0.097061</td>\n",
       "      <td>0.203488</td>\n",
       "      <td>4996.333333</td>\n",
       "      <td>6904.373333</td>\n",
       "      <td>6928.490000</td>\n",
       "      <td>6885.326667</td>\n",
       "      <td>256.131667</td>\n",
       "      <td>1.766995e+06</td>\n",
       "      <td>6907.590000</td>\n",
       "    </tr>\n",
       "    <tr>\n",
       "      <th>12:00:00</th>\n",
       "      <td>0.099139</td>\n",
       "      <td>0.207495</td>\n",
       "      <td>5446.583333</td>\n",
       "      <td>6908.016667</td>\n",
       "      <td>6942.194167</td>\n",
       "      <td>6890.370000</td>\n",
       "      <td>314.837500</td>\n",
       "      <td>2.200126e+06</td>\n",
       "      <td>6922.389167</td>\n",
       "    </tr>\n",
       "    <tr>\n",
       "      <th>13:00:00</th>\n",
       "      <td>0.097565</td>\n",
       "      <td>0.208969</td>\n",
       "      <td>5565.083333</td>\n",
       "      <td>6922.530000</td>\n",
       "      <td>6948.463333</td>\n",
       "      <td>6902.968333</td>\n",
       "      <td>260.825000</td>\n",
       "      <td>1.808326e+06</td>\n",
       "      <td>6925.079167</td>\n",
       "    </tr>\n",
       "    <tr>\n",
       "      <th>14:00:00</th>\n",
       "      <td>0.098485</td>\n",
       "      <td>0.212563</td>\n",
       "      <td>5736.583333</td>\n",
       "      <td>6925.589167</td>\n",
       "      <td>6952.400833</td>\n",
       "      <td>6908.944167</td>\n",
       "      <td>288.322500</td>\n",
       "      <td>2.033892e+06</td>\n",
       "      <td>6936.545833</td>\n",
       "    </tr>\n",
       "    <tr>\n",
       "      <th>15:00:00</th>\n",
       "      <td>0.099428</td>\n",
       "      <td>0.212782</td>\n",
       "      <td>5686.500000</td>\n",
       "      <td>6934.180833</td>\n",
       "      <td>6965.962500</td>\n",
       "      <td>6915.395833</td>\n",
       "      <td>326.230000</td>\n",
       "      <td>2.313765e+06</td>\n",
       "      <td>6937.513333</td>\n",
       "    </tr>\n",
       "    <tr>\n",
       "      <th>16:00:00</th>\n",
       "      <td>0.098327</td>\n",
       "      <td>0.215643</td>\n",
       "      <td>5647.250000</td>\n",
       "      <td>6937.987500</td>\n",
       "      <td>6970.406667</td>\n",
       "      <td>6914.132500</td>\n",
       "      <td>411.930833</td>\n",
       "      <td>2.977255e+06</td>\n",
       "      <td>6947.045000</td>\n",
       "    </tr>\n",
       "    <tr>\n",
       "      <th>17:00:00</th>\n",
       "      <td>0.099674</td>\n",
       "      <td>0.219544</td>\n",
       "      <td>5482.333333</td>\n",
       "      <td>6947.205000</td>\n",
       "      <td>6986.905000</td>\n",
       "      <td>6928.375833</td>\n",
       "      <td>421.290833</td>\n",
       "      <td>3.020724e+06</td>\n",
       "      <td>6946.573333</td>\n",
       "    </tr>\n",
       "    <tr>\n",
       "      <th>18:00:00</th>\n",
       "      <td>0.098512</td>\n",
       "      <td>0.223854</td>\n",
       "      <td>5340.666667</td>\n",
       "      <td>6946.270833</td>\n",
       "      <td>7020.676667</td>\n",
       "      <td>6917.940000</td>\n",
       "      <td>621.599167</td>\n",
       "      <td>4.405309e+06</td>\n",
       "      <td>6985.155833</td>\n",
       "    </tr>\n",
       "    <tr>\n",
       "      <th>19:00:00</th>\n",
       "      <td>0.094025</td>\n",
       "      <td>0.227546</td>\n",
       "      <td>5345.583333</td>\n",
       "      <td>6984.812500</td>\n",
       "      <td>7048.856667</td>\n",
       "      <td>6948.802500</td>\n",
       "      <td>635.320833</td>\n",
       "      <td>4.639426e+06</td>\n",
       "      <td>6990.852500</td>\n",
       "    </tr>\n",
       "    <tr>\n",
       "      <th>20:00:00</th>\n",
       "      <td>0.096545</td>\n",
       "      <td>0.221846</td>\n",
       "      <td>4829.692308</td>\n",
       "      <td>6941.196923</td>\n",
       "      <td>6968.019231</td>\n",
       "      <td>6903.869231</td>\n",
       "      <td>396.382308</td>\n",
       "      <td>2.764029e+06</td>\n",
       "      <td>6937.162308</td>\n",
       "    </tr>\n",
       "    <tr>\n",
       "      <th>21:00:00</th>\n",
       "      <td>0.100486</td>\n",
       "      <td>0.227031</td>\n",
       "      <td>4586.076923</td>\n",
       "      <td>6937.536923</td>\n",
       "      <td>6961.624615</td>\n",
       "      <td>6902.450000</td>\n",
       "      <td>320.918462</td>\n",
       "      <td>2.235449e+06</td>\n",
       "      <td>6929.238462</td>\n",
       "    </tr>\n",
       "    <tr>\n",
       "      <th>22:00:00</th>\n",
       "      <td>0.101451</td>\n",
       "      <td>0.231768</td>\n",
       "      <td>4215.769231</td>\n",
       "      <td>6928.340769</td>\n",
       "      <td>6960.293846</td>\n",
       "      <td>6899.097692</td>\n",
       "      <td>201.525385</td>\n",
       "      <td>1.425684e+06</td>\n",
       "      <td>6924.276923</td>\n",
       "    </tr>\n",
       "    <tr>\n",
       "      <th>23:00:00</th>\n",
       "      <td>0.096164</td>\n",
       "      <td>0.218966</td>\n",
       "      <td>4081.230769</td>\n",
       "      <td>6924.337692</td>\n",
       "      <td>6960.037692</td>\n",
       "      <td>6893.017692</td>\n",
       "      <td>259.863846</td>\n",
       "      <td>1.851852e+06</td>\n",
       "      <td>6928.529231</td>\n",
       "    </tr>\n",
       "  </tbody>\n",
       "</table>\n",
       "</div>"
      ],
      "text/plain": [
       "          Polarity  Sensitivity    Tweet_vol         Open         High  \\\n",
       "time                                                                     \n",
       "00:00:00  0.090298     0.211771  3976.384615  6930.237692  6958.360769   \n",
       "01:00:00  0.099596     0.211714  4016.615385  6935.140769  6963.533846   \n",
       "02:00:00  0.102724     0.204445  3824.083333  6868.211667  6889.440000   \n",
       "03:00:00  0.105586     0.214824  3791.666667  6870.573333  6909.675833   \n",
       "04:00:00  0.103095     0.208516  3822.916667  6887.420000  6911.649167   \n",
       "05:00:00  0.108032     0.215058  3904.166667  6891.468333  6911.175833   \n",
       "06:00:00  0.104412     0.210424  3760.250000  6889.327500  6907.070833   \n",
       "07:00:00  0.100942     0.209435  4056.000000  6891.645833  6908.654167   \n",
       "08:00:00  0.099380     0.210113  5095.583333  6878.635833  6903.660833   \n",
       "09:00:00  0.099369     0.204565  4650.083333  6886.526667  6915.735000   \n",
       "10:00:00  0.099587     0.203848  4932.833333  6888.095000  6921.905000   \n",
       "11:00:00  0.097061     0.203488  4996.333333  6904.373333  6928.490000   \n",
       "12:00:00  0.099139     0.207495  5446.583333  6908.016667  6942.194167   \n",
       "13:00:00  0.097565     0.208969  5565.083333  6922.530000  6948.463333   \n",
       "14:00:00  0.098485     0.212563  5736.583333  6925.589167  6952.400833   \n",
       "15:00:00  0.099428     0.212782  5686.500000  6934.180833  6965.962500   \n",
       "16:00:00  0.098327     0.215643  5647.250000  6937.987500  6970.406667   \n",
       "17:00:00  0.099674     0.219544  5482.333333  6947.205000  6986.905000   \n",
       "18:00:00  0.098512     0.223854  5340.666667  6946.270833  7020.676667   \n",
       "19:00:00  0.094025     0.227546  5345.583333  6984.812500  7048.856667   \n",
       "20:00:00  0.096545     0.221846  4829.692308  6941.196923  6968.019231   \n",
       "21:00:00  0.100486     0.227031  4586.076923  6937.536923  6961.624615   \n",
       "22:00:00  0.101451     0.231768  4215.769231  6928.340769  6960.293846   \n",
       "23:00:00  0.096164     0.218966  4081.230769  6924.337692  6960.037692   \n",
       "\n",
       "                  Low  Volume_BTC  Volume_Dollar  Close_Price  \n",
       "time                                                           \n",
       "00:00:00  6900.588462  322.836154   2.228120e+06  6935.983077  \n",
       "01:00:00  6894.772308  318.415385   2.243338e+06  6933.794615  \n",
       "02:00:00  6842.588333  158.836667   1.105651e+06  6870.695833  \n",
       "03:00:00  6855.316667  328.811667   2.385733e+06  6888.139167  \n",
       "04:00:00  6872.603333  271.692500   1.949230e+06  6890.985000  \n",
       "05:00:00  6869.017500  213.315000   1.524601e+06  6890.451667  \n",
       "06:00:00  6868.484167  183.329167   1.281427e+06  6891.371667  \n",
       "07:00:00  6858.290833  329.882500   2.263694e+06  6878.757500  \n",
       "08:00:00  6851.435833  368.109167   2.616314e+06  6885.867500  \n",
       "09:00:00  6852.922500  397.702500   2.740251e+06  6888.328333  \n",
       "10:00:00  6870.502500  318.982500   2.194532e+06  6905.600833  \n",
       "11:00:00  6885.326667  256.131667   1.766995e+06  6907.590000  \n",
       "12:00:00  6890.370000  314.837500   2.200126e+06  6922.389167  \n",
       "13:00:00  6902.968333  260.825000   1.808326e+06  6925.079167  \n",
       "14:00:00  6908.944167  288.322500   2.033892e+06  6936.545833  \n",
       "15:00:00  6915.395833  326.230000   2.313765e+06  6937.513333  \n",
       "16:00:00  6914.132500  411.930833   2.977255e+06  6947.045000  \n",
       "17:00:00  6928.375833  421.290833   3.020724e+06  6946.573333  \n",
       "18:00:00  6917.940000  621.599167   4.405309e+06  6985.155833  \n",
       "19:00:00  6948.802500  635.320833   4.639426e+06  6990.852500  \n",
       "20:00:00  6903.869231  396.382308   2.764029e+06  6937.162308  \n",
       "21:00:00  6902.450000  320.918462   2.235449e+06  6929.238462  \n",
       "22:00:00  6899.097692  201.525385   1.425684e+06  6924.276923  \n",
       "23:00:00  6893.017692  259.863846   1.851852e+06  6928.529231  "
      ]
     },
     "execution_count": 75,
     "metadata": {},
     "output_type": "execute_result"
    }
   ],
   "source": [
    "hour_df"
   ]
  },
  {
   "cell_type": "code",
   "execution_count": 76,
   "metadata": {
    "_uuid": "b91b3d741a17c83cf34f54a8832828027819f42f"
   },
   "outputs": [
    {
     "data": {
      "text/html": [
       "<div>\n",
       "<style scoped>\n",
       "    .dataframe tbody tr th:only-of-type {\n",
       "        vertical-align: middle;\n",
       "    }\n",
       "\n",
       "    .dataframe tbody tr th {\n",
       "        vertical-align: top;\n",
       "    }\n",
       "\n",
       "    .dataframe thead th {\n",
       "        text-align: right;\n",
       "    }\n",
       "</style>\n",
       "<table border=\"1\" class=\"dataframe\">\n",
       "  <thead>\n",
       "    <tr style=\"text-align: right;\">\n",
       "      <th></th>\n",
       "      <th>Polarity</th>\n",
       "      <th>Sensitivity</th>\n",
       "      <th>Tweet_vol</th>\n",
       "      <th>Open</th>\n",
       "      <th>High</th>\n",
       "      <th>Low</th>\n",
       "      <th>Volume_BTC</th>\n",
       "      <th>Volume_Dollar</th>\n",
       "      <th>Close_Price</th>\n",
       "    </tr>\n",
       "    <tr>\n",
       "      <th>time</th>\n",
       "      <th></th>\n",
       "      <th></th>\n",
       "      <th></th>\n",
       "      <th></th>\n",
       "      <th></th>\n",
       "      <th></th>\n",
       "      <th></th>\n",
       "      <th></th>\n",
       "      <th></th>\n",
       "    </tr>\n",
       "  </thead>\n",
       "  <tbody>\n",
       "    <tr>\n",
       "      <th>00:00:00</th>\n",
       "      <td>0.090298</td>\n",
       "      <td>0.211771</td>\n",
       "      <td>3976.384615</td>\n",
       "      <td>6930.237692</td>\n",
       "      <td>6958.360769</td>\n",
       "      <td>6900.588462</td>\n",
       "      <td>322.836154</td>\n",
       "      <td>2.228120e+06</td>\n",
       "      <td>6935.983077</td>\n",
       "    </tr>\n",
       "    <tr>\n",
       "      <th>01:00:00</th>\n",
       "      <td>0.099596</td>\n",
       "      <td>0.211714</td>\n",
       "      <td>4016.615385</td>\n",
       "      <td>6935.140769</td>\n",
       "      <td>6963.533846</td>\n",
       "      <td>6894.772308</td>\n",
       "      <td>318.415385</td>\n",
       "      <td>2.243338e+06</td>\n",
       "      <td>6933.794615</td>\n",
       "    </tr>\n",
       "    <tr>\n",
       "      <th>02:00:00</th>\n",
       "      <td>0.102724</td>\n",
       "      <td>0.204445</td>\n",
       "      <td>3824.083333</td>\n",
       "      <td>6868.211667</td>\n",
       "      <td>6889.440000</td>\n",
       "      <td>6842.588333</td>\n",
       "      <td>158.836667</td>\n",
       "      <td>1.105651e+06</td>\n",
       "      <td>6870.695833</td>\n",
       "    </tr>\n",
       "    <tr>\n",
       "      <th>03:00:00</th>\n",
       "      <td>0.105586</td>\n",
       "      <td>0.214824</td>\n",
       "      <td>3791.666667</td>\n",
       "      <td>6870.573333</td>\n",
       "      <td>6909.675833</td>\n",
       "      <td>6855.316667</td>\n",
       "      <td>328.811667</td>\n",
       "      <td>2.385733e+06</td>\n",
       "      <td>6888.139167</td>\n",
       "    </tr>\n",
       "    <tr>\n",
       "      <th>04:00:00</th>\n",
       "      <td>0.103095</td>\n",
       "      <td>0.208516</td>\n",
       "      <td>3822.916667</td>\n",
       "      <td>6887.420000</td>\n",
       "      <td>6911.649167</td>\n",
       "      <td>6872.603333</td>\n",
       "      <td>271.692500</td>\n",
       "      <td>1.949230e+06</td>\n",
       "      <td>6890.985000</td>\n",
       "    </tr>\n",
       "  </tbody>\n",
       "</table>\n",
       "</div>"
      ],
      "text/plain": [
       "          Polarity  Sensitivity    Tweet_vol         Open         High  \\\n",
       "time                                                                     \n",
       "00:00:00  0.090298     0.211771  3976.384615  6930.237692  6958.360769   \n",
       "01:00:00  0.099596     0.211714  4016.615385  6935.140769  6963.533846   \n",
       "02:00:00  0.102724     0.204445  3824.083333  6868.211667  6889.440000   \n",
       "03:00:00  0.105586     0.214824  3791.666667  6870.573333  6909.675833   \n",
       "04:00:00  0.103095     0.208516  3822.916667  6887.420000  6911.649167   \n",
       "\n",
       "                  Low  Volume_BTC  Volume_Dollar  Close_Price  \n",
       "time                                                           \n",
       "00:00:00  6900.588462  322.836154   2.228120e+06  6935.983077  \n",
       "01:00:00  6894.772308  318.415385   2.243338e+06  6933.794615  \n",
       "02:00:00  6842.588333  158.836667   1.105651e+06  6870.695833  \n",
       "03:00:00  6855.316667  328.811667   2.385733e+06  6888.139167  \n",
       "04:00:00  6872.603333  271.692500   1.949230e+06  6890.985000  "
      ]
     },
     "execution_count": 76,
     "metadata": {},
     "output_type": "execute_result"
    }
   ],
   "source": [
    "hour_df.head()"
   ]
  },
  {
   "cell_type": "code",
   "execution_count": 77,
   "metadata": {
    "_uuid": "ebc381771aa7b44f8556e818a2a95dbdb82f58dc"
   },
   "outputs": [
    {
     "data": {
      "image/png": "[encoded data removed]",
      "text/plain": [
       "<Figure size 432x288 with 2 Axes>"
      ]
     },
     "metadata": {},
     "output_type": "display_data"
    }
   ],
   "source": [
    "#sns Hourly Heatmap\n",
    "hour_df['hour'] = hour_df.index\n",
    "result = hour_df.pivot(index='hour', columns='Polarity', values='Volume_BTC')\n",
    "sns.heatmap(result, annot=True, fmt=\"g\", cmap='viridis')\n",
    "plt.title('Polarity x BTC Volume avg(Hr)')\n",
    "plt.show()\n",
    "\n",
    "#sns daily heatmap?"
   ]
  },
  {
   "cell_type": "code",
   "execution_count": 78,
   "metadata": {
    "_uuid": "33b6d6339bf05215e76ea3455f451695101e7304"
   },
   "outputs": [
    {
     "data": {
      "image/png": "[encoded data removed]",
      "text/plain": [
       "<Figure size 432x288 with 2 Axes>"
      ]
     },
     "metadata": {},
     "output_type": "display_data"
    }
   ],
   "source": [
    "hour_df['hour'] = hour_df.index\n",
    "result = hour_df.pivot(index='Volume_BTC', columns='hour', values='Tweet_vol')\n",
    "sns.heatmap(result, annot=True, fmt=\"g\", cmap='viridis')\n",
    "plt.title('BTC Vol x Tweet Vol avg(Hr)')\n",
    "plt.show()"
   ]
  },
  {
   "cell_type": "code",
   "execution_count": 79,
   "metadata": {
    "_uuid": "c5d0f21b260502b5aff192e275dd93f57a07f7ae"
   },
   "outputs": [
    {
     "data": {
      "text/html": [
       "<div>\n",
       "<style scoped>\n",
       "    .dataframe tbody tr th:only-of-type {\n",
       "        vertical-align: middle;\n",
       "    }\n",
       "\n",
       "    .dataframe tbody tr th {\n",
       "        vertical-align: top;\n",
       "    }\n",
       "\n",
       "    .dataframe thead th {\n",
       "        text-align: right;\n",
       "    }\n",
       "</style>\n",
       "<table border=\"1\" class=\"dataframe\">\n",
       "  <thead>\n",
       "    <tr style=\"text-align: right;\">\n",
       "      <th></th>\n",
       "      <th>Polarity</th>\n",
       "      <th>Sensitivity</th>\n",
       "      <th>Tweet_vol</th>\n",
       "      <th>Open</th>\n",
       "      <th>High</th>\n",
       "      <th>Low</th>\n",
       "      <th>Volume_BTC</th>\n",
       "      <th>Volume_Dollar</th>\n",
       "      <th>Close_Price</th>\n",
       "    </tr>\n",
       "  </thead>\n",
       "  <tbody>\n",
       "    <tr>\n",
       "      <th>Polarity</th>\n",
       "      <td>1.000000</td>\n",
       "      <td>0.380350</td>\n",
       "      <td>-0.167573</td>\n",
       "      <td>0.179056</td>\n",
       "      <td>0.176277</td>\n",
       "      <td>0.180088</td>\n",
       "      <td>-0.062868</td>\n",
       "      <td>-0.052646</td>\n",
       "      <td>0.178456</td>\n",
       "    </tr>\n",
       "    <tr>\n",
       "      <th>Sensitivity</th>\n",
       "      <td>0.380350</td>\n",
       "      <td>1.000000</td>\n",
       "      <td>0.053903</td>\n",
       "      <td>0.194763</td>\n",
       "      <td>0.200611</td>\n",
       "      <td>0.190222</td>\n",
       "      <td>0.097124</td>\n",
       "      <td>0.112425</td>\n",
       "      <td>0.193203</td>\n",
       "    </tr>\n",
       "    <tr>\n",
       "      <th>Tweet_vol</th>\n",
       "      <td>-0.167573</td>\n",
       "      <td>0.053903</td>\n",
       "      <td>1.000000</td>\n",
       "      <td>0.237185</td>\n",
       "      <td>0.262207</td>\n",
       "      <td>0.234330</td>\n",
       "      <td>0.541112</td>\n",
       "      <td>0.545850</td>\n",
       "      <td>0.250448</td>\n",
       "    </tr>\n",
       "    <tr>\n",
       "      <th>Open</th>\n",
       "      <td>0.179056</td>\n",
       "      <td>0.194763</td>\n",
       "      <td>0.237185</td>\n",
       "      <td>1.000000</td>\n",
       "      <td>0.997128</td>\n",
       "      <td>0.998799</td>\n",
       "      <td>0.217478</td>\n",
       "      <td>0.277600</td>\n",
       "      <td>0.997217</td>\n",
       "    </tr>\n",
       "    <tr>\n",
       "      <th>High</th>\n",
       "      <td>0.176277</td>\n",
       "      <td>0.200611</td>\n",
       "      <td>0.262207</td>\n",
       "      <td>0.997128</td>\n",
       "      <td>1.000000</td>\n",
       "      <td>0.996650</td>\n",
       "      <td>0.270551</td>\n",
       "      <td>0.329816</td>\n",
       "      <td>0.998816</td>\n",
       "    </tr>\n",
       "    <tr>\n",
       "      <th>Low</th>\n",
       "      <td>0.180088</td>\n",
       "      <td>0.190222</td>\n",
       "      <td>0.234330</td>\n",
       "      <td>0.998799</td>\n",
       "      <td>0.996650</td>\n",
       "      <td>1.000000</td>\n",
       "      <td>0.202895</td>\n",
       "      <td>0.263863</td>\n",
       "      <td>0.998058</td>\n",
       "    </tr>\n",
       "    <tr>\n",
       "      <th>Volume_BTC</th>\n",
       "      <td>-0.062868</td>\n",
       "      <td>0.097124</td>\n",
       "      <td>0.541112</td>\n",
       "      <td>0.217478</td>\n",
       "      <td>0.270551</td>\n",
       "      <td>0.202895</td>\n",
       "      <td>1.000000</td>\n",
       "      <td>0.995873</td>\n",
       "      <td>0.243875</td>\n",
       "    </tr>\n",
       "    <tr>\n",
       "      <th>Volume_Dollar</th>\n",
       "      <td>-0.052646</td>\n",
       "      <td>0.112425</td>\n",
       "      <td>0.545850</td>\n",
       "      <td>0.277600</td>\n",
       "      <td>0.329816</td>\n",
       "      <td>0.263863</td>\n",
       "      <td>0.995873</td>\n",
       "      <td>1.000000</td>\n",
       "      <td>0.303347</td>\n",
       "    </tr>\n",
       "    <tr>\n",
       "      <th>Close_Price</th>\n",
       "      <td>0.178456</td>\n",
       "      <td>0.193203</td>\n",
       "      <td>0.250448</td>\n",
       "      <td>0.997217</td>\n",
       "      <td>0.998816</td>\n",
       "      <td>0.998058</td>\n",
       "      <td>0.243875</td>\n",
       "      <td>0.303347</td>\n",
       "      <td>1.000000</td>\n",
       "    </tr>\n",
       "  </tbody>\n",
       "</table>\n",
       "</div>"
      ],
      "text/plain": [
       "               Polarity  Sensitivity  Tweet_vol      Open      High       Low  \\\n",
       "Polarity       1.000000     0.380350  -0.167573  0.179056  0.176277  0.180088   \n",
       "Sensitivity    0.380350     1.000000   0.053903  0.194763  0.200611  0.190222   \n",
       "Tweet_vol     -0.167573     0.053903   1.000000  0.237185  0.262207  0.234330   \n",
       "Open           0.179056     0.194763   0.237185  1.000000  0.997128  0.998799   \n",
       "High           0.176277     0.200611   0.262207  0.997128  1.000000  0.996650   \n",
       "Low            0.180088     0.190222   0.234330  0.998799  0.996650  1.000000   \n",
       "Volume_BTC    -0.062868     0.097124   0.541112  0.217478  0.270551  0.202895   \n",
       "Volume_Dollar -0.052646     0.112425   0.545850  0.277600  0.329816  0.263863   \n",
       "Close_Price    0.178456     0.193203   0.250448  0.997217  0.998816  0.998058   \n",
       "\n",
       "               Volume_BTC  Volume_Dollar  Close_Price  \n",
       "Polarity        -0.062868      -0.052646     0.178456  \n",
       "Sensitivity      0.097124       0.112425     0.193203  \n",
       "Tweet_vol        0.541112       0.545850     0.250448  \n",
       "Open             0.217478       0.277600     0.997217  \n",
       "High             0.270551       0.329816     0.998816  \n",
       "Low              0.202895       0.263863     0.998058  \n",
       "Volume_BTC       1.000000       0.995873     0.243875  \n",
       "Volume_Dollar    0.995873       1.000000     0.303347  \n",
       "Close_Price      0.243875       0.303347     1.000000  "
      ]
     },
     "execution_count": 79,
     "metadata": {},
     "output_type": "execute_result"
    }
   ],
   "source": [
    "cor = Final_df.corr()\n",
    "cor"
   ]
  },
  {
   "cell_type": "code",
   "execution_count": 80,
   "metadata": {
    "_uuid": "21a2d551ead3bba9e8fe836ae149dbd75698c058"
   },
   "outputs": [],
   "source": [
    "#----------------End Analysis------------------------#"
   ]
  },
  {
   "cell_type": "code",
   "execution_count": 81,
   "metadata": {
    "_uuid": "7f17e26175a1a9f0d16bad12c115c15baff5599f"
   },
   "outputs": [],
   "source": [
    "#---------------- LSTM Prep ------------------------#"
   ]
  },
  {
   "cell_type": "code",
   "execution_count": 82,
   "metadata": {
    "_uuid": "12815ec88c823657a84575e0a664327909f8c9cc"
   },
   "outputs": [],
   "source": [
    "df = Final_df"
   ]
  },
  {
   "cell_type": "code",
   "execution_count": 83,
   "metadata": {
    "_uuid": "2b5734e6d6ab2eb2e33e8c5531726306d31d1a6a"
   },
   "outputs": [
    {
     "name": "stdout",
     "output_type": "stream",
     "text": [
      "<class 'pandas.core.frame.DataFrame'>\n",
      "DatetimeIndex: 294 entries, 2018-07-11 20:00:00 to 2018-07-24 01:00:00\n",
      "Data columns (total 10 columns):\n",
      " #   Column         Non-Null Count  Dtype  \n",
      "---  ------         --------------  -----  \n",
      " 0   Polarity       294 non-null    float64\n",
      " 1   Sensitivity    294 non-null    float64\n",
      " 2   Tweet_vol      294 non-null    float64\n",
      " 3   Open           294 non-null    float64\n",
      " 4   High           294 non-null    float64\n",
      " 5   Low            294 non-null    float64\n",
      " 6   Volume_BTC     294 non-null    float64\n",
      " 7   Volume_Dollar  294 non-null    float64\n",
      " 8   Close_Price    294 non-null    float64\n",
      " 9   time           294 non-null    object \n",
      "dtypes: float64(9), object(1)\n",
      "memory usage: 35.3+ KB\n"
     ]
    }
   ],
   "source": [
    "df.info()"
   ]
  },
  {
   "cell_type": "code",
   "execution_count": 84,
   "metadata": {
    "_uuid": "76108a35d9f6d5396d7a34077f68105c7f7e2ae9"
   },
   "outputs": [
    {
     "data": {
      "text/html": [
       "<div>\n",
       "<style scoped>\n",
       "    .dataframe tbody tr th:only-of-type {\n",
       "        vertical-align: middle;\n",
       "    }\n",
       "\n",
       "    .dataframe tbody tr th {\n",
       "        vertical-align: top;\n",
       "    }\n",
       "\n",
       "    .dataframe thead th {\n",
       "        text-align: right;\n",
       "    }\n",
       "</style>\n",
       "<table border=\"1\" class=\"dataframe\">\n",
       "  <thead>\n",
       "    <tr style=\"text-align: right;\">\n",
       "      <th></th>\n",
       "      <th>Polarity</th>\n",
       "      <th>Sensitivity</th>\n",
       "      <th>Tweet_vol</th>\n",
       "      <th>Volume_BTC</th>\n",
       "      <th>Close_Price</th>\n",
       "      <th>time</th>\n",
       "    </tr>\n",
       "  </thead>\n",
       "  <tbody>\n",
       "    <tr>\n",
       "      <th>2018-07-11 20:00:00</th>\n",
       "      <td>0.102657</td>\n",
       "      <td>0.216148</td>\n",
       "      <td>4354.0</td>\n",
       "      <td>986.73</td>\n",
       "      <td>6350.00</td>\n",
       "      <td>20:00:00</td>\n",
       "    </tr>\n",
       "    <tr>\n",
       "      <th>2018-07-11 21:00:00</th>\n",
       "      <td>0.098004</td>\n",
       "      <td>0.218612</td>\n",
       "      <td>4432.0</td>\n",
       "      <td>126.46</td>\n",
       "      <td>6356.48</td>\n",
       "      <td>21:00:00</td>\n",
       "    </tr>\n",
       "    <tr>\n",
       "      <th>2018-07-11 22:00:00</th>\n",
       "      <td>0.096688</td>\n",
       "      <td>0.231342</td>\n",
       "      <td>3980.0</td>\n",
       "      <td>259.10</td>\n",
       "      <td>6361.93</td>\n",
       "      <td>22:00:00</td>\n",
       "    </tr>\n",
       "    <tr>\n",
       "      <th>2018-07-11 23:00:00</th>\n",
       "      <td>0.103997</td>\n",
       "      <td>0.217739</td>\n",
       "      <td>3830.0</td>\n",
       "      <td>81.54</td>\n",
       "      <td>6368.78</td>\n",
       "      <td>23:00:00</td>\n",
       "    </tr>\n",
       "    <tr>\n",
       "      <th>2018-07-12 00:00:00</th>\n",
       "      <td>0.094383</td>\n",
       "      <td>0.195256</td>\n",
       "      <td>3998.0</td>\n",
       "      <td>124.55</td>\n",
       "      <td>6380.00</td>\n",
       "      <td>00:00:00</td>\n",
       "    </tr>\n",
       "  </tbody>\n",
       "</table>\n",
       "</div>"
      ],
      "text/plain": [
       "                     Polarity  Sensitivity  Tweet_vol  Volume_BTC  \\\n",
       "2018-07-11 20:00:00  0.102657     0.216148     4354.0      986.73   \n",
       "2018-07-11 21:00:00  0.098004     0.218612     4432.0      126.46   \n",
       "2018-07-11 22:00:00  0.096688     0.231342     3980.0      259.10   \n",
       "2018-07-11 23:00:00  0.103997     0.217739     3830.0       81.54   \n",
       "2018-07-12 00:00:00  0.094383     0.195256     3998.0      124.55   \n",
       "\n",
       "                     Close_Price      time  \n",
       "2018-07-11 20:00:00      6350.00  20:00:00  \n",
       "2018-07-11 21:00:00      6356.48  21:00:00  \n",
       "2018-07-11 22:00:00      6361.93  22:00:00  \n",
       "2018-07-11 23:00:00      6368.78  23:00:00  \n",
       "2018-07-12 00:00:00      6380.00  00:00:00  "
      ]
     },
     "execution_count": 84,
     "metadata": {},
     "output_type": "execute_result"
    }
   ],
   "source": [
    "df = df.drop(['Open','High', 'Low', 'Volume_Dollar'], axis=1)\n",
    "df.head()"
   ]
  },
  {
   "cell_type": "code",
   "execution_count": 85,
   "metadata": {
    "_uuid": "afdac4c3b1b4b8b8fc989aff7589d4e4c4bdb19f"
   },
   "outputs": [
    {
     "data": {
      "text/html": [
       "<div>\n",
       "<style scoped>\n",
       "    .dataframe tbody tr th:only-of-type {\n",
       "        vertical-align: middle;\n",
       "    }\n",
       "\n",
       "    .dataframe tbody tr th {\n",
       "        vertical-align: top;\n",
       "    }\n",
       "\n",
       "    .dataframe thead th {\n",
       "        text-align: right;\n",
       "    }\n",
       "</style>\n",
       "<table border=\"1\" class=\"dataframe\">\n",
       "  <thead>\n",
       "    <tr style=\"text-align: right;\">\n",
       "      <th></th>\n",
       "      <th>Close_Price</th>\n",
       "      <th>Polarity</th>\n",
       "      <th>Sensitivity</th>\n",
       "      <th>Tweet_vol</th>\n",
       "      <th>Volume_BTC</th>\n",
       "    </tr>\n",
       "  </thead>\n",
       "  <tbody>\n",
       "    <tr>\n",
       "      <th>2018-07-11 20:00:00</th>\n",
       "      <td>6350.00</td>\n",
       "      <td>0.102657</td>\n",
       "      <td>0.216148</td>\n",
       "      <td>4354.0</td>\n",
       "      <td>986.73</td>\n",
       "    </tr>\n",
       "    <tr>\n",
       "      <th>2018-07-11 21:00:00</th>\n",
       "      <td>6356.48</td>\n",
       "      <td>0.098004</td>\n",
       "      <td>0.218612</td>\n",
       "      <td>4432.0</td>\n",
       "      <td>126.46</td>\n",
       "    </tr>\n",
       "    <tr>\n",
       "      <th>2018-07-11 22:00:00</th>\n",
       "      <td>6361.93</td>\n",
       "      <td>0.096688</td>\n",
       "      <td>0.231342</td>\n",
       "      <td>3980.0</td>\n",
       "      <td>259.10</td>\n",
       "    </tr>\n",
       "    <tr>\n",
       "      <th>2018-07-11 23:00:00</th>\n",
       "      <td>6368.78</td>\n",
       "      <td>0.103997</td>\n",
       "      <td>0.217739</td>\n",
       "      <td>3830.0</td>\n",
       "      <td>81.54</td>\n",
       "    </tr>\n",
       "    <tr>\n",
       "      <th>2018-07-12 00:00:00</th>\n",
       "      <td>6380.00</td>\n",
       "      <td>0.094383</td>\n",
       "      <td>0.195256</td>\n",
       "      <td>3998.0</td>\n",
       "      <td>124.55</td>\n",
       "    </tr>\n",
       "  </tbody>\n",
       "</table>\n",
       "</div>"
      ],
      "text/plain": [
       "                     Close_Price  Polarity  Sensitivity  Tweet_vol  Volume_BTC\n",
       "2018-07-11 20:00:00      6350.00  0.102657     0.216148     4354.0      986.73\n",
       "2018-07-11 21:00:00      6356.48  0.098004     0.218612     4432.0      126.46\n",
       "2018-07-11 22:00:00      6361.93  0.096688     0.231342     3980.0      259.10\n",
       "2018-07-11 23:00:00      6368.78  0.103997     0.217739     3830.0       81.54\n",
       "2018-07-12 00:00:00      6380.00  0.094383     0.195256     3998.0      124.55"
      ]
     },
     "execution_count": 85,
     "metadata": {},
     "output_type": "execute_result"
    }
   ],
   "source": [
    "df = df[['Close_Price', 'Polarity', 'Sensitivity','Tweet_vol','Volume_BTC']]\n",
    "df.head()"
   ]
  },
  {
   "cell_type": "code",
   "execution_count": 86,
   "metadata": {
    "_uuid": "74a7fd9d0a2a4936aae7db927fe185fdc17952f0"
   },
   "outputs": [
    {
     "data": {
      "image/png": "[encoded data removed]",
      "text/plain": [
       "<Figure size 792x648 with 2 Axes>"
      ]
     },
     "metadata": {},
     "output_type": "display_data"
    }
   ],
   "source": [
    "cor = df.corr()\n",
    "import matplotlib.pyplot as plt\n",
    "sns.set(style=\"white\")\n",
    "f, ax = plt.subplots(figsize=(11, 9))\n",
    "\n",
    "cmap = sns.diverging_palette(220, 10, as_cmap=True)\n",
    "ax =sns.heatmap(cor, cmap=cmap, vmax=1, center=0,\n",
    "            square=True, linewidths=.5, cbar_kws={\"shrink\": .7})\n",
    "plt.show()"
   ]
  },
  {
   "cell_type": "markdown",
   "metadata": {
    "_uuid": "49b989963d666f6a13789dbcea23264469691fdb"
   },
   "source": [
    "# LSTM Model"
   ]
  },
  {
   "cell_type": "code",
   "execution_count": 98,
   "metadata": {
    "_uuid": "e31a80ceef1f69fbc2eeb31f1fdb5094c9e82e28"
   },
   "outputs": [],
   "source": [
    "from math import sqrt\n",
    "from numpy import concatenate\n",
    "from sklearn.preprocessing import MinMaxScaler\n",
    "from sklearn.preprocessing import LabelEncoder\n",
    "from sklearn.metrics import mean_squared_error\n",
    "from matplotlib import pyplot\n",
    "\n",
    "from pandas import read_csv\n",
    "from pandas import DataFrame\n",
    "from pandas import concat\n",
    "from tensorflow.keras.models import Sequential\n",
    "from tensorflow.keras.layers import Dense\n",
    "from tensorflow.keras.layers import LSTM\n",
    "\n",
    "# convert series to supervised learning\n",
    "def series_to_supervised(data, n_in=1, n_out=1, dropnan=True):\n",
    "\tn_vars = 1 if type(data) is list else data.shape[1]\n",
    "\tdf = DataFrame(data)\n",
    "\tcols, names = list(), list()\n",
    "\t# input sequence (t-n, ... t-1)\n",
    "\tfor i in range(n_in, 0, -1):\n",
    "\t\tcols.append(df.shift(i))\n",
    "\t\tnames += [('var%d(t-%d)' % (j+1, i)) for j in range(n_vars)]\n",
    "\t# forecast sequence (t, t+1, ... t+n)\n",
    "\tfor i in range(0, n_out):\n",
    "\t\tcols.append(df.shift(-i))\n",
    "\t\tif i == 0:\n",
    "\t\t\tnames += [('var%d(t)' % (j+1)) for j in range(n_vars)]\n",
    "\t\telse:\n",
    "\t\t\tnames += [('var%d(t+%d)' % (j+1, i)) for j in range(n_vars)]\n",
    "\t# put it all together\n",
    "\tagg = concat(cols, axis=1)\n",
    "\tagg.columns = names\n",
    "\t# drop rows with NaN values\n",
    "\tif dropnan:\n",
    "\t\tagg.dropna(inplace=True)\n",
    "\treturn agg"
   ]
  },
  {
   "cell_type": "code",
   "execution_count": 88,
   "metadata": {
    "_uuid": "f418eb58dc832a1516e76147c6fcca0217990ffc"
   },
   "outputs": [
    {
     "data": {
      "text/html": [
       "<div>\n",
       "<style scoped>\n",
       "    .dataframe tbody tr th:only-of-type {\n",
       "        vertical-align: middle;\n",
       "    }\n",
       "\n",
       "    .dataframe tbody tr th {\n",
       "        vertical-align: top;\n",
       "    }\n",
       "\n",
       "    .dataframe thead th {\n",
       "        text-align: right;\n",
       "    }\n",
       "</style>\n",
       "<table border=\"1\" class=\"dataframe\">\n",
       "  <thead>\n",
       "    <tr style=\"text-align: right;\">\n",
       "      <th></th>\n",
       "      <th>Close_Price</th>\n",
       "      <th>Polarity</th>\n",
       "      <th>Sensitivity</th>\n",
       "      <th>Tweet_vol</th>\n",
       "      <th>Volume_BTC</th>\n",
       "    </tr>\n",
       "  </thead>\n",
       "  <tbody>\n",
       "    <tr>\n",
       "      <th>2018-07-11 20:00:00</th>\n",
       "      <td>6350.00</td>\n",
       "      <td>0.102657</td>\n",
       "      <td>0.216148</td>\n",
       "      <td>4354.0</td>\n",
       "      <td>986.73</td>\n",
       "    </tr>\n",
       "    <tr>\n",
       "      <th>2018-07-11 21:00:00</th>\n",
       "      <td>6356.48</td>\n",
       "      <td>0.098004</td>\n",
       "      <td>0.218612</td>\n",
       "      <td>4432.0</td>\n",
       "      <td>126.46</td>\n",
       "    </tr>\n",
       "    <tr>\n",
       "      <th>2018-07-11 22:00:00</th>\n",
       "      <td>6361.93</td>\n",
       "      <td>0.096688</td>\n",
       "      <td>0.231342</td>\n",
       "      <td>3980.0</td>\n",
       "      <td>259.10</td>\n",
       "    </tr>\n",
       "    <tr>\n",
       "      <th>2018-07-11 23:00:00</th>\n",
       "      <td>6368.78</td>\n",
       "      <td>0.103997</td>\n",
       "      <td>0.217739</td>\n",
       "      <td>3830.0</td>\n",
       "      <td>81.54</td>\n",
       "    </tr>\n",
       "    <tr>\n",
       "      <th>2018-07-12 00:00:00</th>\n",
       "      <td>6380.00</td>\n",
       "      <td>0.094383</td>\n",
       "      <td>0.195256</td>\n",
       "      <td>3998.0</td>\n",
       "      <td>124.55</td>\n",
       "    </tr>\n",
       "  </tbody>\n",
       "</table>\n",
       "</div>"
      ],
      "text/plain": [
       "                     Close_Price  Polarity  Sensitivity  Tweet_vol  Volume_BTC\n",
       "2018-07-11 20:00:00      6350.00  0.102657     0.216148     4354.0      986.73\n",
       "2018-07-11 21:00:00      6356.48  0.098004     0.218612     4432.0      126.46\n",
       "2018-07-11 22:00:00      6361.93  0.096688     0.231342     3980.0      259.10\n",
       "2018-07-11 23:00:00      6368.78  0.103997     0.217739     3830.0       81.54\n",
       "2018-07-12 00:00:00      6380.00  0.094383     0.195256     3998.0      124.55"
      ]
     },
     "execution_count": 88,
     "metadata": {},
     "output_type": "execute_result"
    }
   ],
   "source": [
    "values = df.values\n",
    "cols = df.columns.tolist()\n",
    "cols = cols[-1:] + cols[:-1]\n",
    "df = df[cols]\n",
    "df = df[['Close_Price', 'Polarity', 'Sensitivity','Tweet_vol','Volume_BTC']]\n",
    "df.head()"
   ]
  },
  {
   "cell_type": "code",
   "execution_count": 89,
   "metadata": {
    "_uuid": "bdbdccbe6c18cc63036eb434066d64a5bcb1cd7f"
   },
   "outputs": [],
   "source": [
    "scaler = MinMaxScaler(feature_range=(0, 1))\n",
    "scaled = scaler.fit_transform(df.values)"
   ]
  },
  {
   "cell_type": "code",
   "execution_count": 90,
   "metadata": {
    "_uuid": "f415bc8c3a803e9d1b30355d0751a1510c9379c5"
   },
   "outputs": [],
   "source": [
    "n_hours = 3 #adding 3 hours lags creating number of observations \n",
    "n_features = 5 #Features in the dataset.\n",
    "n_obs = n_hours*n_features"
   ]
  },
  {
   "cell_type": "code",
   "execution_count": 91,
   "metadata": {
    "_uuid": "800c5b4a11d9e3e61b15fc10a3d1ee3bad101074"
   },
   "outputs": [
    {
     "data": {
      "text/html": [
       "<div>\n",
       "<style scoped>\n",
       "    .dataframe tbody tr th:only-of-type {\n",
       "        vertical-align: middle;\n",
       "    }\n",
       "\n",
       "    .dataframe tbody tr th {\n",
       "        vertical-align: top;\n",
       "    }\n",
       "\n",
       "    .dataframe thead th {\n",
       "        text-align: right;\n",
       "    }\n",
       "</style>\n",
       "<table border=\"1\" class=\"dataframe\">\n",
       "  <thead>\n",
       "    <tr style=\"text-align: right;\">\n",
       "      <th></th>\n",
       "      <th>var1(t-3)</th>\n",
       "      <th>var2(t-3)</th>\n",
       "      <th>var3(t-3)</th>\n",
       "      <th>var4(t-3)</th>\n",
       "      <th>var5(t-3)</th>\n",
       "      <th>var1(t-2)</th>\n",
       "      <th>var2(t-2)</th>\n",
       "      <th>var3(t-2)</th>\n",
       "      <th>var4(t-2)</th>\n",
       "      <th>var5(t-2)</th>\n",
       "      <th>var1(t-1)</th>\n",
       "      <th>var2(t-1)</th>\n",
       "      <th>var3(t-1)</th>\n",
       "      <th>var4(t-1)</th>\n",
       "      <th>var5(t-1)</th>\n",
       "      <th>var1(t)</th>\n",
       "      <th>var2(t)</th>\n",
       "      <th>var3(t)</th>\n",
       "      <th>var4(t)</th>\n",
       "      <th>var5(t)</th>\n",
       "    </tr>\n",
       "  </thead>\n",
       "  <tbody>\n",
       "    <tr>\n",
       "      <th>3</th>\n",
       "      <td>0.125479</td>\n",
       "      <td>0.611105</td>\n",
       "      <td>0.429055</td>\n",
       "      <td>0.181916</td>\n",
       "      <td>0.368430</td>\n",
       "      <td>0.129527</td>\n",
       "      <td>0.555312</td>\n",
       "      <td>0.454335</td>\n",
       "      <td>0.192380</td>\n",
       "      <td>0.039893</td>\n",
       "      <td>0.132931</td>\n",
       "      <td>0.539534</td>\n",
       "      <td>0.584943</td>\n",
       "      <td>0.131741</td>\n",
       "      <td>0.090548</td>\n",
       "      <td>0.137210</td>\n",
       "      <td>0.627175</td>\n",
       "      <td>0.445375</td>\n",
       "      <td>0.111618</td>\n",
       "      <td>0.022738</td>\n",
       "    </tr>\n",
       "    <tr>\n",
       "      <th>4</th>\n",
       "      <td>0.129527</td>\n",
       "      <td>0.555312</td>\n",
       "      <td>0.454335</td>\n",
       "      <td>0.192380</td>\n",
       "      <td>0.039893</td>\n",
       "      <td>0.132931</td>\n",
       "      <td>0.539534</td>\n",
       "      <td>0.584943</td>\n",
       "      <td>0.131741</td>\n",
       "      <td>0.090548</td>\n",
       "      <td>0.137210</td>\n",
       "      <td>0.627175</td>\n",
       "      <td>0.445375</td>\n",
       "      <td>0.111618</td>\n",
       "      <td>0.022738</td>\n",
       "      <td>0.144218</td>\n",
       "      <td>0.511893</td>\n",
       "      <td>0.214693</td>\n",
       "      <td>0.134156</td>\n",
       "      <td>0.039164</td>\n",
       "    </tr>\n",
       "    <tr>\n",
       "      <th>5</th>\n",
       "      <td>0.132931</td>\n",
       "      <td>0.539534</td>\n",
       "      <td>0.584943</td>\n",
       "      <td>0.131741</td>\n",
       "      <td>0.090548</td>\n",
       "      <td>0.137210</td>\n",
       "      <td>0.627175</td>\n",
       "      <td>0.445375</td>\n",
       "      <td>0.111618</td>\n",
       "      <td>0.022738</td>\n",
       "      <td>0.144218</td>\n",
       "      <td>0.511893</td>\n",
       "      <td>0.214693</td>\n",
       "      <td>0.134156</td>\n",
       "      <td>0.039164</td>\n",
       "      <td>0.135117</td>\n",
       "      <td>0.589271</td>\n",
       "      <td>0.500135</td>\n",
       "      <td>0.095922</td>\n",
       "      <td>0.045637</td>\n",
       "    </tr>\n",
       "    <tr>\n",
       "      <th>6</th>\n",
       "      <td>0.137210</td>\n",
       "      <td>0.627175</td>\n",
       "      <td>0.445375</td>\n",
       "      <td>0.111618</td>\n",
       "      <td>0.022738</td>\n",
       "      <td>0.144218</td>\n",
       "      <td>0.511893</td>\n",
       "      <td>0.214693</td>\n",
       "      <td>0.134156</td>\n",
       "      <td>0.039164</td>\n",
       "      <td>0.135117</td>\n",
       "      <td>0.589271</td>\n",
       "      <td>0.500135</td>\n",
       "      <td>0.095922</td>\n",
       "      <td>0.045637</td>\n",
       "      <td>0.111700</td>\n",
       "      <td>0.722717</td>\n",
       "      <td>0.212514</td>\n",
       "      <td>0.113362</td>\n",
       "      <td>0.045561</td>\n",
       "    </tr>\n",
       "    <tr>\n",
       "      <th>7</th>\n",
       "      <td>0.144218</td>\n",
       "      <td>0.511893</td>\n",
       "      <td>0.214693</td>\n",
       "      <td>0.134156</td>\n",
       "      <td>0.039164</td>\n",
       "      <td>0.135117</td>\n",
       "      <td>0.589271</td>\n",
       "      <td>0.500135</td>\n",
       "      <td>0.095922</td>\n",
       "      <td>0.045637</td>\n",
       "      <td>0.111700</td>\n",
       "      <td>0.722717</td>\n",
       "      <td>0.212514</td>\n",
       "      <td>0.113362</td>\n",
       "      <td>0.045561</td>\n",
       "      <td>0.111101</td>\n",
       "      <td>0.649855</td>\n",
       "      <td>0.365349</td>\n",
       "      <td>0.111752</td>\n",
       "      <td>0.053607</td>\n",
       "    </tr>\n",
       "  </tbody>\n",
       "</table>\n",
       "</div>"
      ],
      "text/plain": [
       "   var1(t-3)  var2(t-3)  var3(t-3)  var4(t-3)  var5(t-3)  var1(t-2)  \\\n",
       "3   0.125479   0.611105   0.429055   0.181916   0.368430   0.129527   \n",
       "4   0.129527   0.555312   0.454335   0.192380   0.039893   0.132931   \n",
       "5   0.132931   0.539534   0.584943   0.131741   0.090548   0.137210   \n",
       "6   0.137210   0.627175   0.445375   0.111618   0.022738   0.144218   \n",
       "7   0.144218   0.511893   0.214693   0.134156   0.039164   0.135117   \n",
       "\n",
       "   var2(t-2)  var3(t-2)  var4(t-2)  var5(t-2)  var1(t-1)  var2(t-1)  \\\n",
       "3   0.555312   0.454335   0.192380   0.039893   0.132931   0.539534   \n",
       "4   0.539534   0.584943   0.131741   0.090548   0.137210   0.627175   \n",
       "5   0.627175   0.445375   0.111618   0.022738   0.144218   0.511893   \n",
       "6   0.511893   0.214693   0.134156   0.039164   0.135117   0.589271   \n",
       "7   0.589271   0.500135   0.095922   0.045637   0.111700   0.722717   \n",
       "\n",
       "   var3(t-1)  var4(t-1)  var5(t-1)   var1(t)   var2(t)   var3(t)   var4(t)  \\\n",
       "3   0.584943   0.131741   0.090548  0.137210  0.627175  0.445375  0.111618   \n",
       "4   0.445375   0.111618   0.022738  0.144218  0.511893  0.214693  0.134156   \n",
       "5   0.214693   0.134156   0.039164  0.135117  0.589271  0.500135  0.095922   \n",
       "6   0.500135   0.095922   0.045637  0.111700  0.722717  0.212514  0.113362   \n",
       "7   0.212514   0.113362   0.045561  0.111101  0.649855  0.365349  0.111752   \n",
       "\n",
       "    var5(t)  \n",
       "3  0.022738  \n",
       "4  0.039164  \n",
       "5  0.045637  \n",
       "6  0.045561  \n",
       "7  0.053607  "
      ]
     },
     "execution_count": 91,
     "metadata": {},
     "output_type": "execute_result"
    }
   ],
   "source": [
    "reframed = series_to_supervised(scaled, n_hours, 1)\n",
    "reframed.head()"
   ]
  },
  {
   "cell_type": "code",
   "execution_count": 92,
   "metadata": {
    "_uuid": "a3192a321f850ad620ea55e29e24aeae5d31c6f1"
   },
   "outputs": [
    {
     "data": {
      "text/html": [
       "<div>\n",
       "<style scoped>\n",
       "    .dataframe tbody tr th:only-of-type {\n",
       "        vertical-align: middle;\n",
       "    }\n",
       "\n",
       "    .dataframe tbody tr th {\n",
       "        vertical-align: top;\n",
       "    }\n",
       "\n",
       "    .dataframe thead th {\n",
       "        text-align: right;\n",
       "    }\n",
       "</style>\n",
       "<table border=\"1\" class=\"dataframe\">\n",
       "  <thead>\n",
       "    <tr style=\"text-align: right;\">\n",
       "      <th></th>\n",
       "      <th>var1(t-3)</th>\n",
       "      <th>var2(t-3)</th>\n",
       "      <th>var3(t-3)</th>\n",
       "      <th>var4(t-3)</th>\n",
       "      <th>var5(t-3)</th>\n",
       "      <th>var1(t-2)</th>\n",
       "      <th>var2(t-2)</th>\n",
       "      <th>var3(t-2)</th>\n",
       "      <th>var4(t-2)</th>\n",
       "      <th>var5(t-2)</th>\n",
       "      <th>var1(t-1)</th>\n",
       "      <th>var2(t-1)</th>\n",
       "      <th>var3(t-1)</th>\n",
       "      <th>var4(t-1)</th>\n",
       "      <th>var5(t-1)</th>\n",
       "      <th>var1(t)</th>\n",
       "      <th>var2(t)</th>\n",
       "      <th>var3(t)</th>\n",
       "      <th>var4(t)</th>\n",
       "      <th>var5(t)</th>\n",
       "    </tr>\n",
       "  </thead>\n",
       "  <tbody>\n",
       "    <tr>\n",
       "      <th>3</th>\n",
       "      <td>0.125479</td>\n",
       "      <td>0.611105</td>\n",
       "      <td>0.429055</td>\n",
       "      <td>0.181916</td>\n",
       "      <td>0.368430</td>\n",
       "      <td>0.129527</td>\n",
       "      <td>0.555312</td>\n",
       "      <td>0.454335</td>\n",
       "      <td>0.192380</td>\n",
       "      <td>0.039893</td>\n",
       "      <td>0.132931</td>\n",
       "      <td>0.539534</td>\n",
       "      <td>0.584943</td>\n",
       "      <td>0.131741</td>\n",
       "      <td>0.090548</td>\n",
       "      <td>0.137210</td>\n",
       "      <td>0.627175</td>\n",
       "      <td>0.445375</td>\n",
       "      <td>0.111618</td>\n",
       "      <td>0.022738</td>\n",
       "    </tr>\n",
       "    <tr>\n",
       "      <th>4</th>\n",
       "      <td>0.129527</td>\n",
       "      <td>0.555312</td>\n",
       "      <td>0.454335</td>\n",
       "      <td>0.192380</td>\n",
       "      <td>0.039893</td>\n",
       "      <td>0.132931</td>\n",
       "      <td>0.539534</td>\n",
       "      <td>0.584943</td>\n",
       "      <td>0.131741</td>\n",
       "      <td>0.090548</td>\n",
       "      <td>0.137210</td>\n",
       "      <td>0.627175</td>\n",
       "      <td>0.445375</td>\n",
       "      <td>0.111618</td>\n",
       "      <td>0.022738</td>\n",
       "      <td>0.144218</td>\n",
       "      <td>0.511893</td>\n",
       "      <td>0.214693</td>\n",
       "      <td>0.134156</td>\n",
       "      <td>0.039164</td>\n",
       "    </tr>\n",
       "    <tr>\n",
       "      <th>5</th>\n",
       "      <td>0.132931</td>\n",
       "      <td>0.539534</td>\n",
       "      <td>0.584943</td>\n",
       "      <td>0.131741</td>\n",
       "      <td>0.090548</td>\n",
       "      <td>0.137210</td>\n",
       "      <td>0.627175</td>\n",
       "      <td>0.445375</td>\n",
       "      <td>0.111618</td>\n",
       "      <td>0.022738</td>\n",
       "      <td>0.144218</td>\n",
       "      <td>0.511893</td>\n",
       "      <td>0.214693</td>\n",
       "      <td>0.134156</td>\n",
       "      <td>0.039164</td>\n",
       "      <td>0.135117</td>\n",
       "      <td>0.589271</td>\n",
       "      <td>0.500135</td>\n",
       "      <td>0.095922</td>\n",
       "      <td>0.045637</td>\n",
       "    </tr>\n",
       "    <tr>\n",
       "      <th>6</th>\n",
       "      <td>0.137210</td>\n",
       "      <td>0.627175</td>\n",
       "      <td>0.445375</td>\n",
       "      <td>0.111618</td>\n",
       "      <td>0.022738</td>\n",
       "      <td>0.144218</td>\n",
       "      <td>0.511893</td>\n",
       "      <td>0.214693</td>\n",
       "      <td>0.134156</td>\n",
       "      <td>0.039164</td>\n",
       "      <td>0.135117</td>\n",
       "      <td>0.589271</td>\n",
       "      <td>0.500135</td>\n",
       "      <td>0.095922</td>\n",
       "      <td>0.045637</td>\n",
       "      <td>0.111700</td>\n",
       "      <td>0.722717</td>\n",
       "      <td>0.212514</td>\n",
       "      <td>0.113362</td>\n",
       "      <td>0.045561</td>\n",
       "    </tr>\n",
       "    <tr>\n",
       "      <th>7</th>\n",
       "      <td>0.144218</td>\n",
       "      <td>0.511893</td>\n",
       "      <td>0.214693</td>\n",
       "      <td>0.134156</td>\n",
       "      <td>0.039164</td>\n",
       "      <td>0.135117</td>\n",
       "      <td>0.589271</td>\n",
       "      <td>0.500135</td>\n",
       "      <td>0.095922</td>\n",
       "      <td>0.045637</td>\n",
       "      <td>0.111700</td>\n",
       "      <td>0.722717</td>\n",
       "      <td>0.212514</td>\n",
       "      <td>0.113362</td>\n",
       "      <td>0.045561</td>\n",
       "      <td>0.111101</td>\n",
       "      <td>0.649855</td>\n",
       "      <td>0.365349</td>\n",
       "      <td>0.111752</td>\n",
       "      <td>0.053607</td>\n",
       "    </tr>\n",
       "  </tbody>\n",
       "</table>\n",
       "</div>"
      ],
      "text/plain": [
       "   var1(t-3)  var2(t-3)  var3(t-3)  var4(t-3)  var5(t-3)  var1(t-2)  \\\n",
       "3   0.125479   0.611105   0.429055   0.181916   0.368430   0.129527   \n",
       "4   0.129527   0.555312   0.454335   0.192380   0.039893   0.132931   \n",
       "5   0.132931   0.539534   0.584943   0.131741   0.090548   0.137210   \n",
       "6   0.137210   0.627175   0.445375   0.111618   0.022738   0.144218   \n",
       "7   0.144218   0.511893   0.214693   0.134156   0.039164   0.135117   \n",
       "\n",
       "   var2(t-2)  var3(t-2)  var4(t-2)  var5(t-2)  var1(t-1)  var2(t-1)  \\\n",
       "3   0.555312   0.454335   0.192380   0.039893   0.132931   0.539534   \n",
       "4   0.539534   0.584943   0.131741   0.090548   0.137210   0.627175   \n",
       "5   0.627175   0.445375   0.111618   0.022738   0.144218   0.511893   \n",
       "6   0.511893   0.214693   0.134156   0.039164   0.135117   0.589271   \n",
       "7   0.589271   0.500135   0.095922   0.045637   0.111700   0.722717   \n",
       "\n",
       "   var3(t-1)  var4(t-1)  var5(t-1)   var1(t)   var2(t)   var3(t)   var4(t)  \\\n",
       "3   0.584943   0.131741   0.090548  0.137210  0.627175  0.445375  0.111618   \n",
       "4   0.445375   0.111618   0.022738  0.144218  0.511893  0.214693  0.134156   \n",
       "5   0.214693   0.134156   0.039164  0.135117  0.589271  0.500135  0.095922   \n",
       "6   0.500135   0.095922   0.045637  0.111700  0.722717  0.212514  0.113362   \n",
       "7   0.212514   0.113362   0.045561  0.111101  0.649855  0.365349  0.111752   \n",
       "\n",
       "    var5(t)  \n",
       "3  0.022738  \n",
       "4  0.039164  \n",
       "5  0.045637  \n",
       "6  0.045561  \n",
       "7  0.053607  "
      ]
     },
     "execution_count": 92,
     "metadata": {},
     "output_type": "execute_result"
    }
   ],
   "source": [
    "reframed.drop(reframed.columns[-4], axis=1)\n",
    "reframed.head()"
   ]
  },
  {
   "cell_type": "code",
   "execution_count": 93,
   "metadata": {
    "_uuid": "6d524d80ae37802727a0b61d2199d94a0fc4e2dc"
   },
   "outputs": [
    {
     "name": "stdout",
     "output_type": "stream",
     "text": [
      "   var1(t-3)  var2(t-3)  var3(t-3)  var4(t-3)  var5(t-3)  var1(t-2)  \\\n",
      "3   0.125479   0.611105   0.429055   0.181916   0.368430   0.129527   \n",
      "4   0.129527   0.555312   0.454335   0.192380   0.039893   0.132931   \n",
      "5   0.132931   0.539534   0.584943   0.131741   0.090548   0.137210   \n",
      "6   0.137210   0.627175   0.445375   0.111618   0.022738   0.144218   \n",
      "7   0.144218   0.511893   0.214693   0.134156   0.039164   0.135117   \n",
      "\n",
      "   var2(t-2)  var3(t-2)  var4(t-2)  var5(t-2)  var1(t-1)  var2(t-1)  \\\n",
      "3   0.555312   0.454335   0.192380   0.039893   0.132931   0.539534   \n",
      "4   0.539534   0.584943   0.131741   0.090548   0.137210   0.627175   \n",
      "5   0.627175   0.445375   0.111618   0.022738   0.144218   0.511893   \n",
      "6   0.511893   0.214693   0.134156   0.039164   0.135117   0.589271   \n",
      "7   0.589271   0.500135   0.095922   0.045637   0.111700   0.722717   \n",
      "\n",
      "   var3(t-1)  var4(t-1)  var5(t-1)   var1(t)   var2(t)   var3(t)   var4(t)  \\\n",
      "3   0.584943   0.131741   0.090548  0.137210  0.627175  0.445375  0.111618   \n",
      "4   0.445375   0.111618   0.022738  0.144218  0.511893  0.214693  0.134156   \n",
      "5   0.214693   0.134156   0.039164  0.135117  0.589271  0.500135  0.095922   \n",
      "6   0.500135   0.095922   0.045637  0.111700  0.722717  0.212514  0.113362   \n",
      "7   0.212514   0.113362   0.045561  0.111101  0.649855  0.365349  0.111752   \n",
      "\n",
      "    var5(t)  \n",
      "3  0.022738  \n",
      "4  0.039164  \n",
      "5  0.045637  \n",
      "6  0.045561  \n",
      "7  0.053607  \n"
     ]
    }
   ],
   "source": [
    "print(reframed.head())"
   ]
  },
  {
   "cell_type": "code",
   "execution_count": 94,
   "metadata": {
    "_uuid": "fc43ba4acac4903b8591ecb475fb497a060a67e7"
   },
   "outputs": [
    {
     "data": {
      "text/plain": [
       "(200, 20)"
      ]
     },
     "execution_count": 94,
     "metadata": {},
     "output_type": "execute_result"
    }
   ],
   "source": [
    "values = reframed.values\n",
    "n_train_hours = 200\n",
    "train = values[:n_train_hours, :]\n",
    "test = values[n_train_hours:, :]\n",
    "train.shape"
   ]
  },
  {
   "cell_type": "code",
   "execution_count": 95,
   "metadata": {
    "_uuid": "80174c6721da8a6dad4adcfa13d98ea20f9c1070"
   },
   "outputs": [],
   "source": [
    "# split into input and outputs\n",
    "train_X, train_y = train[:, :n_obs], train[:, -n_features]\n",
    "test_X, test_y = test[:, :n_obs], test[:, -n_features]"
   ]
  },
  {
   "cell_type": "code",
   "execution_count": 96,
   "metadata": {
    "_uuid": "ffcdaebb530fc706edbd5c56b6b9550d7dac65fe"
   },
   "outputs": [
    {
     "name": "stdout",
     "output_type": "stream",
     "text": [
      "(200, 3, 5) (200,) (91, 3, 5) (91,)\n"
     ]
    }
   ],
   "source": [
    "# reshape input to be 3D [samples, timesteps, features]\n",
    "train_X = train_X.reshape((train_X.shape[0], n_hours, n_features))\n",
    "test_X = test_X.reshape((test_X.shape[0], n_hours, n_features))\n",
    "print(train_X.shape, train_y.shape, test_X.shape, test_y.shape)"
   ]
  },
  {
   "cell_type": "code",
   "execution_count": 97,
   "metadata": {
    "_uuid": "6ca3338a33277cd4984e64115440e5b6adcf919c"
   },
   "outputs": [
    {
     "ename": "AttributeError",
     "evalue": "module 'tensorflow.python.framework.ops' has no attribute '_TensorLike'",
     "output_type": "error",
     "traceback": [
      "\u001b[0;31m---------------------------------------------------------------------------\u001b[0m",
      "\u001b[0;31mAttributeError\u001b[0m                            Traceback (most recent call last)",
      "\u001b[0;32m<ipython-input-97-a04ec7d7cbab>\u001b[0m in \u001b[0;36m<module>\u001b[0;34m\u001b[0m\n\u001b[1;32m      1\u001b[0m \u001b[0;31m# design network\u001b[0m\u001b[0;34m\u001b[0m\u001b[0;34m\u001b[0m\u001b[0;34m\u001b[0m\u001b[0m\n\u001b[1;32m      2\u001b[0m \u001b[0mmodel\u001b[0m \u001b[0;34m=\u001b[0m \u001b[0mSequential\u001b[0m\u001b[0;34m(\u001b[0m\u001b[0;34m)\u001b[0m\u001b[0;34m\u001b[0m\u001b[0;34m\u001b[0m\u001b[0m\n\u001b[0;32m----> 3\u001b[0;31m \u001b[0mmodel\u001b[0m\u001b[0;34m.\u001b[0m\u001b[0madd\u001b[0m\u001b[0;34m(\u001b[0m\u001b[0mLSTM\u001b[0m\u001b[0;34m(\u001b[0m\u001b[0;36m5\u001b[0m\u001b[0;34m,\u001b[0m \u001b[0minput_shape\u001b[0m\u001b[0;34m=\u001b[0m\u001b[0;34m(\u001b[0m\u001b[0mtrain_X\u001b[0m\u001b[0;34m.\u001b[0m\u001b[0mshape\u001b[0m\u001b[0;34m[\u001b[0m\u001b[0;36m1\u001b[0m\u001b[0;34m]\u001b[0m\u001b[0;34m,\u001b[0m \u001b[0mtrain_X\u001b[0m\u001b[0;34m.\u001b[0m\u001b[0mshape\u001b[0m\u001b[0;34m[\u001b[0m\u001b[0;36m2\u001b[0m\u001b[0;34m]\u001b[0m\u001b[0;34m)\u001b[0m\u001b[0;34m)\u001b[0m\u001b[0;34m)\u001b[0m\u001b[0;34m\u001b[0m\u001b[0;34m\u001b[0m\u001b[0m\n\u001b[0m\u001b[1;32m      4\u001b[0m \u001b[0mmodel\u001b[0m\u001b[0;34m.\u001b[0m\u001b[0madd\u001b[0m\u001b[0;34m(\u001b[0m\u001b[0mDense\u001b[0m\u001b[0;34m(\u001b[0m\u001b[0;36m1\u001b[0m\u001b[0;34m)\u001b[0m\u001b[0;34m)\u001b[0m\u001b[0;34m\u001b[0m\u001b[0;34m\u001b[0m\u001b[0m\n\u001b[1;32m      5\u001b[0m \u001b[0mmodel\u001b[0m\u001b[0;34m.\u001b[0m\u001b[0mcompile\u001b[0m\u001b[0;34m(\u001b[0m\u001b[0mloss\u001b[0m\u001b[0;34m=\u001b[0m\u001b[0;34m'mae'\u001b[0m\u001b[0;34m,\u001b[0m \u001b[0moptimizer\u001b[0m\u001b[0;34m=\u001b[0m\u001b[0;34m'adam'\u001b[0m\u001b[0;34m)\u001b[0m\u001b[0;34m\u001b[0m\u001b[0;34m\u001b[0m\u001b[0m\n",
      "\u001b[0;32m~/.local/lib/python3.6/site-packages/keras/engine/sequential.py\u001b[0m in \u001b[0;36madd\u001b[0;34m(self, layer)\u001b[0m\n\u001b[1;32m    163\u001b[0m                     \u001b[0;31m# and create the node connecting the current layer\u001b[0m\u001b[0;34m\u001b[0m\u001b[0;34m\u001b[0m\u001b[0;34m\u001b[0m\u001b[0m\n\u001b[1;32m    164\u001b[0m                     \u001b[0;31m# to the input layer we just created.\u001b[0m\u001b[0;34m\u001b[0m\u001b[0;34m\u001b[0m\u001b[0;34m\u001b[0m\u001b[0m\n\u001b[0;32m--> 165\u001b[0;31m                     \u001b[0mlayer\u001b[0m\u001b[0;34m(\u001b[0m\u001b[0mx\u001b[0m\u001b[0;34m)\u001b[0m\u001b[0;34m\u001b[0m\u001b[0;34m\u001b[0m\u001b[0m\n\u001b[0m\u001b[1;32m    166\u001b[0m                     \u001b[0mset_inputs\u001b[0m \u001b[0;34m=\u001b[0m \u001b[0;32mTrue\u001b[0m\u001b[0;34m\u001b[0m\u001b[0;34m\u001b[0m\u001b[0m\n\u001b[1;32m    167\u001b[0m             \u001b[0;32melse\u001b[0m\u001b[0;34m:\u001b[0m\u001b[0;34m\u001b[0m\u001b[0;34m\u001b[0m\u001b[0m\n",
      "\u001b[0;32m~/.local/lib/python3.6/site-packages/keras/layers/recurrent.py\u001b[0m in \u001b[0;36m__call__\u001b[0;34m(self, inputs, initial_state, constants, **kwargs)\u001b[0m\n\u001b[1;32m    530\u001b[0m \u001b[0;34m\u001b[0m\u001b[0m\n\u001b[1;32m    531\u001b[0m         \u001b[0;32mif\u001b[0m \u001b[0minitial_state\u001b[0m \u001b[0;32mis\u001b[0m \u001b[0;32mNone\u001b[0m \u001b[0;32mand\u001b[0m \u001b[0mconstants\u001b[0m \u001b[0;32mis\u001b[0m \u001b[0;32mNone\u001b[0m\u001b[0;34m:\u001b[0m\u001b[0;34m\u001b[0m\u001b[0;34m\u001b[0m\u001b[0m\n\u001b[0;32m--> 532\u001b[0;31m             \u001b[0;32mreturn\u001b[0m \u001b[0msuper\u001b[0m\u001b[0;34m(\u001b[0m\u001b[0mRNN\u001b[0m\u001b[0;34m,\u001b[0m \u001b[0mself\u001b[0m\u001b[0;34m)\u001b[0m\u001b[0;34m.\u001b[0m\u001b[0m__call__\u001b[0m\u001b[0;34m(\u001b[0m\u001b[0minputs\u001b[0m\u001b[0;34m,\u001b[0m \u001b[0;34m**\u001b[0m\u001b[0mkwargs\u001b[0m\u001b[0;34m)\u001b[0m\u001b[0;34m\u001b[0m\u001b[0;34m\u001b[0m\u001b[0m\n\u001b[0m\u001b[1;32m    533\u001b[0m \u001b[0;34m\u001b[0m\u001b[0m\n\u001b[1;32m    534\u001b[0m         \u001b[0;31m# If any of `initial_state` or `constants` are specified and are Keras\u001b[0m\u001b[0;34m\u001b[0m\u001b[0;34m\u001b[0m\u001b[0;34m\u001b[0m\u001b[0m\n",
      "\u001b[0;32m~/.local/lib/python3.6/site-packages/keras/engine/base_layer.py\u001b[0m in \u001b[0;36m__call__\u001b[0;34m(self, inputs, **kwargs)\u001b[0m\n\u001b[1;32m    412\u001b[0m                 \u001b[0;31m# Raise exceptions in case the input is not compatible\u001b[0m\u001b[0;34m\u001b[0m\u001b[0;34m\u001b[0m\u001b[0;34m\u001b[0m\u001b[0m\n\u001b[1;32m    413\u001b[0m                 \u001b[0;31m# with the input_spec specified in the layer constructor.\u001b[0m\u001b[0;34m\u001b[0m\u001b[0;34m\u001b[0m\u001b[0;34m\u001b[0m\u001b[0m\n\u001b[0;32m--> 414\u001b[0;31m                 \u001b[0mself\u001b[0m\u001b[0;34m.\u001b[0m\u001b[0massert_input_compatibility\u001b[0m\u001b[0;34m(\u001b[0m\u001b[0minputs\u001b[0m\u001b[0;34m)\u001b[0m\u001b[0;34m\u001b[0m\u001b[0;34m\u001b[0m\u001b[0m\n\u001b[0m\u001b[1;32m    415\u001b[0m \u001b[0;34m\u001b[0m\u001b[0m\n\u001b[1;32m    416\u001b[0m                 \u001b[0;31m# Collect input shapes to build layer.\u001b[0m\u001b[0;34m\u001b[0m\u001b[0;34m\u001b[0m\u001b[0;34m\u001b[0m\u001b[0m\n",
      "\u001b[0;32m~/.local/lib/python3.6/site-packages/keras/engine/base_layer.py\u001b[0m in \u001b[0;36massert_input_compatibility\u001b[0;34m(self, inputs)\u001b[0m\n\u001b[1;32m    277\u001b[0m         \u001b[0;32mfor\u001b[0m \u001b[0mx\u001b[0m \u001b[0;32min\u001b[0m \u001b[0minputs\u001b[0m\u001b[0;34m:\u001b[0m\u001b[0;34m\u001b[0m\u001b[0;34m\u001b[0m\u001b[0m\n\u001b[1;32m    278\u001b[0m             \u001b[0;32mtry\u001b[0m\u001b[0;34m:\u001b[0m\u001b[0;34m\u001b[0m\u001b[0;34m\u001b[0m\u001b[0m\n\u001b[0;32m--> 279\u001b[0;31m                 \u001b[0mK\u001b[0m\u001b[0;34m.\u001b[0m\u001b[0mis_keras_tensor\u001b[0m\u001b[0;34m(\u001b[0m\u001b[0mx\u001b[0m\u001b[0;34m)\u001b[0m\u001b[0;34m\u001b[0m\u001b[0;34m\u001b[0m\u001b[0m\n\u001b[0m\u001b[1;32m    280\u001b[0m             \u001b[0;32mexcept\u001b[0m \u001b[0mValueError\u001b[0m\u001b[0;34m:\u001b[0m\u001b[0;34m\u001b[0m\u001b[0;34m\u001b[0m\u001b[0m\n\u001b[1;32m    281\u001b[0m                 raise ValueError('Layer ' + self.name + ' was called with '\n",
      "\u001b[0;32m~/.local/lib/python3.6/site-packages/keras/backend/tensorflow_backend.py\u001b[0m in \u001b[0;36mis_keras_tensor\u001b[0;34m(x)\u001b[0m\n\u001b[1;32m    473\u001b[0m     \u001b[0;31m`\u001b[0m\u001b[0;31m`\u001b[0m\u001b[0;31m`\u001b[0m\u001b[0;34m\u001b[0m\u001b[0;34m\u001b[0m\u001b[0m\n\u001b[1;32m    474\u001b[0m     \"\"\"\n\u001b[0;32m--> 475\u001b[0;31m     \u001b[0;32mif\u001b[0m \u001b[0;32mnot\u001b[0m \u001b[0mis_tensor\u001b[0m\u001b[0;34m(\u001b[0m\u001b[0mx\u001b[0m\u001b[0;34m)\u001b[0m\u001b[0;34m:\u001b[0m\u001b[0;34m\u001b[0m\u001b[0;34m\u001b[0m\u001b[0m\n\u001b[0m\u001b[1;32m    476\u001b[0m         raise ValueError('Unexpectedly found an instance of type `' +\n\u001b[1;32m    477\u001b[0m                          \u001b[0mstr\u001b[0m\u001b[0;34m(\u001b[0m\u001b[0mtype\u001b[0m\u001b[0;34m(\u001b[0m\u001b[0mx\u001b[0m\u001b[0;34m)\u001b[0m\u001b[0;34m)\u001b[0m \u001b[0;34m+\u001b[0m \u001b[0;34m'`. '\u001b[0m\u001b[0;34m\u001b[0m\u001b[0;34m\u001b[0m\u001b[0m\n",
      "\u001b[0;32m~/.local/lib/python3.6/site-packages/keras/backend/tensorflow_backend.py\u001b[0m in \u001b[0;36mis_tensor\u001b[0;34m(x)\u001b[0m\n\u001b[1;32m    481\u001b[0m \u001b[0;34m\u001b[0m\u001b[0m\n\u001b[1;32m    482\u001b[0m \u001b[0;32mdef\u001b[0m \u001b[0mis_tensor\u001b[0m\u001b[0;34m(\u001b[0m\u001b[0mx\u001b[0m\u001b[0;34m)\u001b[0m\u001b[0;34m:\u001b[0m\u001b[0;34m\u001b[0m\u001b[0;34m\u001b[0m\u001b[0m\n\u001b[0;32m--> 483\u001b[0;31m     \u001b[0;32mreturn\u001b[0m \u001b[0misinstance\u001b[0m\u001b[0;34m(\u001b[0m\u001b[0mx\u001b[0m\u001b[0;34m,\u001b[0m \u001b[0mtf_ops\u001b[0m\u001b[0;34m.\u001b[0m\u001b[0m_TensorLike\u001b[0m\u001b[0;34m)\u001b[0m \u001b[0;32mor\u001b[0m \u001b[0mtf_ops\u001b[0m\u001b[0;34m.\u001b[0m\u001b[0mis_dense_tensor_like\u001b[0m\u001b[0;34m(\u001b[0m\u001b[0mx\u001b[0m\u001b[0;34m)\u001b[0m\u001b[0;34m\u001b[0m\u001b[0;34m\u001b[0m\u001b[0m\n\u001b[0m\u001b[1;32m    484\u001b[0m \u001b[0;34m\u001b[0m\u001b[0m\n\u001b[1;32m    485\u001b[0m \u001b[0;34m\u001b[0m\u001b[0m\n",
      "\u001b[0;31mAttributeError\u001b[0m: module 'tensorflow.python.framework.ops' has no attribute '_TensorLike'"
     ]
    }
   ],
   "source": [
    "# design network\n",
    "model = Sequential()\n",
    "model.add(LSTM(5, input_shape=(train_X.shape[1], train_X.shape[2])))\n",
    "model.add(Dense(1))\n",
    "model.compile(loss='mae', optimizer='adam')\n",
    "# fit network\n",
    "history = model.fit(train_X, train_y, epochs=50, batch_size=6, validation_data=(test_X, test_y), verbose=2, shuffle=False,validation_split=0.2)\n",
    "# plot history"
   ]
  },
  {
   "cell_type": "code",
   "execution_count": null,
   "metadata": {
    "_uuid": "c29c3ceacdfbee6afb4e8ba921426cb495e82f15"
   },
   "outputs": [],
   "source": [
    "plt.plot(history.history['loss'], label='train')\n",
    "plt.plot(history.history['val_loss'], label='test')\n",
    "plt.legend()\n",
    "plt.show()"
   ]
  },
  {
   "cell_type": "code",
   "execution_count": null,
   "metadata": {
    "_uuid": "3907ffedaa9463fd7ba9d9e46b19b3ab791bb158"
   },
   "outputs": [],
   "source": [
    "# make a prediction\n",
    "yhat = model.predict(test_X)\n",
    "test_X = test_X.reshape((test_X.shape[0], n_hours* n_features,))\n",
    "# invert scaling for forecast\n",
    "inv_yhat = concatenate((yhat, test_X[:, -4:]), axis=1)\n",
    "inv_yhat = scaler.inverse_transform(inv_yhat)\n",
    "inv_yhat = inv_yhat[:,0]\n",
    "# invert scaling for actual\n",
    "test_y = test_y.reshape((len(test_y), 1))\n",
    "inv_y = concatenate((test_y, test_X[:, -4:]), axis=1)\n",
    "inv_y = scaler.inverse_transform(inv_y)\n",
    "inv_y = inv_y[:,0]\n",
    "# calculate RMSE\n",
    "mse = (mean_squared_error(inv_y, inv_yhat))\n",
    "print('Test MSE: %.3f' % mse)\n",
    "rmse = sqrt(mean_squared_error(inv_y, inv_yhat))\n",
    "print('Test RMSE: %.3f' % rmse)\n"
   ]
  },
  {
   "cell_type": "code",
   "execution_count": null,
   "metadata": {
    "_uuid": "8260cbc86cacce0131fff9b27871ecd8771c0d66"
   },
   "outputs": [],
   "source": [
    "plt.plot(inv_y, label='Real')\n",
    "plt.plot(inv_yhat, label='Predicted')"
   ]
  },
  {
   "cell_type": "code",
   "execution_count": null,
   "metadata": {
    "_uuid": "3316296dd7c8cdeaf06dac98b9555ef40aa0c5b3"
   },
   "outputs": [],
   "source": [
    "plt.title('Real v Predicted Close_Price')\n",
    "plt.ylabel('Price ($)')\n",
    "plt.xlabel('epochs (Hr)')\n",
    "plt.show()"
   ]
  },
  {
   "cell_type": "code",
   "execution_count": null,
   "metadata": {
    "_uuid": "0b4b85bb98d31fce7c3c3837efcf02c10a9e5721"
   },
   "outputs": [],
   "source": []
  },
  {
   "cell_type": "code",
   "execution_count": null,
   "metadata": {
    "_uuid": "7bb6608bcdefc640277bd64341527c20fafd2c16"
   },
   "outputs": [],
   "source": []
  }
 ],
 "metadata": {
  "kernelspec": {
   "display_name": "Python 3",
   "language": "python",
   "name": "python3"
  },
  "language_info": {
   "codemirror_mode": {
    "name": "ipython",
    "version": 3
   },
   "file_extension": ".py",
   "mimetype": "text/x-python",
   "name": "python",
   "nbconvert_exporter": "python",
   "pygments_lexer": "ipython3",
   "version": "3.6.9"
  }
 },
 "nbformat": 4,
 "nbformat_minor": 1
}

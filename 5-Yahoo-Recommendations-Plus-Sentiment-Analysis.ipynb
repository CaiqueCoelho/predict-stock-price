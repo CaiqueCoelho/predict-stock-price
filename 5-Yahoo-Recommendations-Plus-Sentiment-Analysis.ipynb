{
 "cells": [
  {
   "cell_type": "code",
   "execution_count": 2,
   "metadata": {},
   "outputs": [],
   "source": [
    "# https://medium.com/datadriveninvestor/create-the-ultimate-stock-investing-portfolio-with-machine-learning-1f8034648211\n",
    "# https://medium.com/datadriveninvestor/maximize-your-stock-market-earnings-with-machine-learning-87709494b1e3\n",
    "# https://medium.com/datadriveninvestor/elons-lethal-mistake-predicting-the-stock-price-of-tesla-with-twitter-and-machine-learning-5e89282ce75f"
   ]
  },
  {
   "cell_type": "code",
   "execution_count": 1,
   "metadata": {},
   "outputs": [],
   "source": [
    "import requests\n",
    "import pandas as pd \n",
    "from yahoo_fin import stock_info as si \n",
    "from pandas_datareader import DataReader\n",
    "import numpy as np\n",
    "\n",
    "from urllib.request import urlopen, Request\n",
    "from bs4 import BeautifulSoup\n",
    "import os\n",
    "import pandas as pd\n",
    "import matplotlib.pyplot as plt\n",
    "%matplotlib inline\n",
    "from nltk.sentiment.vader import SentimentIntensityAnalyzer"
   ]
  },
  {
   "cell_type": "code",
   "execution_count": 55,
   "metadata": {},
   "outputs": [
    {
     "name": "stdout",
     "output_type": "stream",
     "text": [
      "  Código             Ação                                              Setor  \\\n",
      "0  ABEV3        AMBEV S/A  Consumo não Cíclico / Bebidas / Cervejas e Ref...   \n",
      "1  AZUL4             AZUL   Bens Industriais / Transporte / Transporte Aéreo   \n",
      "2  B3SA3               B3  Financeiro e Outros / Serviços Financeiros Div...   \n",
      "3  BBAS3  BANCO DO BRASIL  Financeiro e Outros / Intermediários Financeir...   \n",
      "4  BBDC3         BRADESCO  Financeiro e Outros / Intermediários Financeir...   \n",
      "\n",
      "        Tipo                         Site  \n",
      "0         ON       http://ri.ambev.com.br  \n",
      "1      PN N2  https://www.voeazul.com.br/  \n",
      "2      ON NM        http://www.b3.com.br/  \n",
      "3  ON ERJ NM        http://www.bb.com.br/  \n",
      "4      ON N1  http://www.bradesco.com.br/  \n"
     ]
    }
   ],
   "source": [
    "ibovespa = pd.read_html(\"https://pt.wikipedia.org/wiki/Lista_de_companhias_citadas_no_Ibovespa\")[0]\n",
    "print(ibovespa.head())\n",
    "ibovespa.columns = [\"Symbol\", \"Share\", \"Sector\", \"Type\", \"Site\"]\n",
    "ibovespa = sorted(ibovespa.Symbol.tolist())"
   ]
  },
  {
   "cell_type": "code",
   "execution_count": 56,
   "metadata": {},
   "outputs": [],
   "source": [
    "tickers = ibovespa"
   ]
  },
  {
   "cell_type": "code",
   "execution_count": 57,
   "metadata": {},
   "outputs": [],
   "source": [
    "from string import digits\n",
    "\n",
    "#for i in range(0, len(tickers)):\n",
    "#    tickers[i] = tickers[i].replace(' ', '.')\n",
    "#    tickers[i] = tickers[i].replace('/', '')\n",
    "\n",
    "#for i in range(0, len(tickers)):\n",
    "#    tickers[i] = tickers[i]+\".SA\"\n",
    "\n",
    "for i in range(0, len(tickers)):\n",
    "    remove_digits = str.maketrans('', '', digits)\n",
    "    tickers[i] = tickers[i].translate(remove_digits)"
   ]
  },
  {
   "cell_type": "code",
   "execution_count": 58,
   "metadata": {},
   "outputs": [
    {
     "data": {
      "text/plain": [
       "['ABEV',\n",
       " 'AZUL',\n",
       " 'BSA',\n",
       " 'BBAS',\n",
       " 'BBDC',\n",
       " 'BBDC',\n",
       " 'BBSE',\n",
       " 'BEEF',\n",
       " 'BPAC',\n",
       " 'BRAP',\n",
       " 'BRDT',\n",
       " 'BRFS',\n",
       " 'BRKM',\n",
       " 'BRML',\n",
       " 'BTOW',\n",
       " 'CCRO',\n",
       " 'CIEL',\n",
       " 'CMIG',\n",
       " 'COGN',\n",
       " 'CPFE',\n",
       " 'CRFB',\n",
       " 'CSAN',\n",
       " 'CSNA',\n",
       " 'CVCB',\n",
       " 'CYRE',\n",
       " 'ECOR',\n",
       " 'EGIE',\n",
       " 'ELET',\n",
       " 'ELET',\n",
       " 'EMBR',\n",
       " 'ENBR',\n",
       " 'ENGI',\n",
       " 'EQTL',\n",
       " 'FLRY',\n",
       " 'GGBR',\n",
       " 'GNDI',\n",
       " 'GOAU',\n",
       " 'GOLL',\n",
       " 'HAPV',\n",
       " 'HGTX',\n",
       " 'HYPE',\n",
       " 'IGTA',\n",
       " 'IRBR',\n",
       " 'ITSA',\n",
       " 'ITUB',\n",
       " 'JBSS',\n",
       " 'KLBN',\n",
       " 'LAME',\n",
       " 'LREN',\n",
       " 'MGLU',\n",
       " 'MRFG',\n",
       " 'MRVE',\n",
       " 'MULT',\n",
       " 'NTCO',\n",
       " 'PCAR',\n",
       " 'PETR',\n",
       " 'PETR',\n",
       " 'QUAL',\n",
       " 'RADL',\n",
       " 'RAIL',\n",
       " 'RENT',\n",
       " 'SANB',\n",
       " 'SBSP',\n",
       " 'SULA',\n",
       " 'SUZB',\n",
       " 'TAEE',\n",
       " 'TIMP',\n",
       " 'TOTS',\n",
       " 'UGPA',\n",
       " 'USIM',\n",
       " 'VALE',\n",
       " 'VIVT',\n",
       " 'VVAR',\n",
       " 'WEGE',\n",
       " 'YDUQ']"
      ]
     },
     "execution_count": 58,
     "metadata": {},
     "output_type": "execute_result"
    }
   ],
   "source": [
    "tickers"
   ]
  },
  {
   "cell_type": "code",
   "execution_count": 59,
   "metadata": {},
   "outputs": [
    {
     "data": {
      "text/plain": [
       "'ABEV'"
      ]
     },
     "execution_count": 59,
     "metadata": {},
     "output_type": "execute_result"
    }
   ],
   "source": [
    "tickers[0]"
   ]
  },
  {
   "cell_type": "code",
   "execution_count": 60,
   "metadata": {},
   "outputs": [
    {
     "data": {
      "text/plain": [
       "75"
      ]
     },
     "execution_count": 60,
     "metadata": {},
     "output_type": "execute_result"
    }
   ],
   "source": [
    "len(tickers)"
   ]
  },
  {
   "cell_type": "code",
   "execution_count": 62,
   "metadata": {},
   "outputs": [],
   "source": [
    "#tickers = si.tickers_sp500()\n",
    "recommendations = []\n",
    "\n",
    "for ticker in tickers:\n",
    "    lhs_url = 'https://query2.finance.yahoo.com/v10/finance/quoteSummary/'\n",
    "    rhs_url = '?modules=upgradeDowngradeHistory,recommendationTrend,' \\\n",
    "              'financialData,earningsHistory,earningsTrend,industryTrend&' \\\n",
    "              'corsDomain=finance.yahoo.com'\n",
    "              \n",
    "    url =  lhs_url + ticker + rhs_url\n",
    "    r = requests.get(url)\n",
    "    if not r.ok:\n",
    "        recommendation = 6\n",
    "    try:\n",
    "        result = r.json()['quoteSummary']['result'][0]\n",
    "        recommendation =result['financialData']['recommendationMean']['fmt']\n",
    "    except:\n",
    "        recommendation = 6\n",
    "    \n",
    "    recommendations.append(recommendation)"
   ]
  },
  {
   "cell_type": "code",
   "execution_count": 63,
   "metadata": {},
   "outputs": [
    {
     "data": {
      "text/plain": [
       "\"\\ntickers = si.tickers_sp500()\\nrecommendations = []\\n\\nfor ticker in tickers:\\n    lhs_url = 'https://query2.finance.yahoo.com/v10/finance/quoteSummary/'\\n    rhs_url = '?formatted=true&crumb=swg7qs5y9UP&lang=en-US&region=US&'               'modules=upgradeDowngradeHistory,recommendationTrend,'               'financialData,earningsHistory,earningsTrend,industryTrend&'               'corsDomain=finance.yahoo.com'\\n              \\n    url =  lhs_url + ticker + rhs_url\\n    r = requests.get(url)\\n    if not r.ok:\\n        recommendation = 6\\n    try:\\n        result = r.json()['quoteSummary']['result'][0]\\n        recommendation =result['financialData']['recommendationMean']['fmt']\\n    except:\\n        recommendation = 6\\n    \\n    recommendations.append(recommendation)\\n\""
      ]
     },
     "execution_count": 63,
     "metadata": {},
     "output_type": "execute_result"
    }
   ],
   "source": [
    "'''\n",
    "tickers = si.tickers_sp500()\n",
    "recommendations = []\n",
    "\n",
    "for ticker in tickers:\n",
    "    lhs_url = 'https://query2.finance.yahoo.com/v10/finance/quoteSummary/'\n",
    "    rhs_url = '?formatted=true&crumb=swg7qs5y9UP&lang=en-US&region=US&' \\\n",
    "              'modules=upgradeDowngradeHistory,recommendationTrend,' \\\n",
    "              'financialData,earningsHistory,earningsTrend,industryTrend&' \\\n",
    "              'corsDomain=finance.yahoo.com'\n",
    "              \n",
    "    url =  lhs_url + ticker + rhs_url\n",
    "    r = requests.get(url)\n",
    "    if not r.ok:\n",
    "        recommendation = 6\n",
    "    try:\n",
    "        result = r.json()['quoteSummary']['result'][0]\n",
    "        recommendation =result['financialData']['recommendationMean']['fmt']\n",
    "    except:\n",
    "        recommendation = 6\n",
    "    \n",
    "    recommendations.append(recommendation)\n",
    "'''"
   ]
  },
  {
   "cell_type": "code",
   "execution_count": 64,
   "metadata": {},
   "outputs": [
    {
     "data": {
      "text/html": [
       "<div>\n",
       "<style scoped>\n",
       "    .dataframe tbody tr th:only-of-type {\n",
       "        vertical-align: middle;\n",
       "    }\n",
       "\n",
       "    .dataframe tbody tr th {\n",
       "        vertical-align: top;\n",
       "    }\n",
       "\n",
       "    .dataframe thead th {\n",
       "        text-align: right;\n",
       "    }\n",
       "</style>\n",
       "<table border=\"1\" class=\"dataframe\">\n",
       "  <thead>\n",
       "    <tr style=\"text-align: right;\">\n",
       "      <th></th>\n",
       "      <th>Recommendations</th>\n",
       "      <th>Company</th>\n",
       "    </tr>\n",
       "  </thead>\n",
       "  <tbody>\n",
       "    <tr>\n",
       "      <th>45</th>\n",
       "      <td>1.0</td>\n",
       "      <td>JBSS</td>\n",
       "    </tr>\n",
       "    <tr>\n",
       "      <th>70</th>\n",
       "      <td>1.9</td>\n",
       "      <td>VALE</td>\n",
       "    </tr>\n",
       "    <tr>\n",
       "      <th>25</th>\n",
       "      <td>2.0</td>\n",
       "      <td>ECOR</td>\n",
       "    </tr>\n",
       "    <tr>\n",
       "      <th>4</th>\n",
       "      <td>2.1</td>\n",
       "      <td>BBDC</td>\n",
       "    </tr>\n",
       "    <tr>\n",
       "      <th>5</th>\n",
       "      <td>2.1</td>\n",
       "      <td>BBDC</td>\n",
       "    </tr>\n",
       "    <tr>\n",
       "      <th>11</th>\n",
       "      <td>2.2</td>\n",
       "      <td>BRFS</td>\n",
       "    </tr>\n",
       "    <tr>\n",
       "      <th>1</th>\n",
       "      <td>2.3</td>\n",
       "      <td>AZUL</td>\n",
       "    </tr>\n",
       "    <tr>\n",
       "      <th>54</th>\n",
       "      <td>2.5</td>\n",
       "      <td>PCAR</td>\n",
       "    </tr>\n",
       "    <tr>\n",
       "      <th>44</th>\n",
       "      <td>2.8</td>\n",
       "      <td>ITUB</td>\n",
       "    </tr>\n",
       "    <tr>\n",
       "      <th>0</th>\n",
       "      <td>3.0</td>\n",
       "      <td>ABEV</td>\n",
       "    </tr>\n",
       "    <tr>\n",
       "      <th>59</th>\n",
       "      <td>3.0</td>\n",
       "      <td>RAIL</td>\n",
       "    </tr>\n",
       "  </tbody>\n",
       "</table>\n",
       "</div>"
      ],
      "text/plain": [
       "    Recommendations Company\n",
       "45              1.0    JBSS\n",
       "70              1.9    VALE\n",
       "25              2.0    ECOR\n",
       "4               2.1    BBDC\n",
       "5               2.1    BBDC\n",
       "11              2.2    BRFS\n",
       "1               2.3    AZUL\n",
       "54              2.5    PCAR\n",
       "44              2.8    ITUB\n",
       "0               3.0    ABEV\n",
       "59              3.0    RAIL"
      ]
     },
     "execution_count": 64,
     "metadata": {},
     "output_type": "execute_result"
    }
   ],
   "source": [
    "df = pd.DataFrame()\n",
    "df['Recommendations'] = recommendations\n",
    "df['Company'] = tickers\n",
    "df['Recommendations'] = pd.to_numeric(df['Recommendations'])\n",
    "df = df[df.Recommendations != 6]\n",
    "df.sort_values(by=['Recommendations'], ascending = True)"
   ]
  },
  {
   "cell_type": "code",
   "execution_count": 65,
   "metadata": {},
   "outputs": [
    {
     "data": {
      "text/plain": [
       "(11, 2)"
      ]
     },
     "execution_count": 65,
     "metadata": {},
     "output_type": "execute_result"
    }
   ],
   "source": [
    "df.shape"
   ]
  },
  {
   "cell_type": "code",
   "execution_count": 4,
   "metadata": {},
   "outputs": [],
   "source": [
    "hold_df = df[df.Recommendations == 3]\n",
    "buy_df = df[df.Recommendations <= 1.5]\n",
    "sell_df = df[df.Recommendations >= 4.5]\n",
    "\n",
    "df_list = [hold_df, buy_df, sell_df]\n",
    "new_df = pd.concat(df_list)\n",
    "new_df.reset_index(level=0, inplace=True)"
   ]
  },
  {
   "cell_type": "code",
   "execution_count": 5,
   "metadata": {},
   "outputs": [],
   "source": [
    "# Get News\n",
    "tickers =[] \n",
    "  \n",
    "for index, rows in new_df.iterrows(): \n",
    "    tickers.append(rows.Company)"
   ]
  },
  {
   "cell_type": "code",
   "execution_count": 7,
   "metadata": {},
   "outputs": [
    {
     "name": "stderr",
     "output_type": "stream",
     "text": [
      "[nltk_data] Downloading package vader_lexicon to\n",
      "[nltk_data]     /home/caiquecoelho/nltk_data...\n"
     ]
    },
    {
     "data": {
      "text/html": [
       "<div>\n",
       "<style scoped>\n",
       "    .dataframe tbody tr th:only-of-type {\n",
       "        vertical-align: middle;\n",
       "    }\n",
       "\n",
       "    .dataframe tbody tr th {\n",
       "        vertical-align: top;\n",
       "    }\n",
       "\n",
       "    .dataframe thead th {\n",
       "        text-align: right;\n",
       "    }\n",
       "</style>\n",
       "<table border=\"1\" class=\"dataframe\">\n",
       "  <thead>\n",
       "    <tr style=\"text-align: right;\">\n",
       "      <th></th>\n",
       "      <th>ticker</th>\n",
       "      <th>date</th>\n",
       "      <th>time</th>\n",
       "      <th>headline</th>\n",
       "    </tr>\n",
       "  </thead>\n",
       "  <tbody>\n",
       "    <tr>\n",
       "      <th>0</th>\n",
       "      <td>CHRW</td>\n",
       "      <td>2020-09-28</td>\n",
       "      <td>04:15PM</td>\n",
       "      <td>C.H. Robinson Names Kermit Crawford to Board o...</td>\n",
       "    </tr>\n",
       "    <tr>\n",
       "      <th>1</th>\n",
       "      <td>CHRW</td>\n",
       "      <td>2020-09-28</td>\n",
       "      <td>12:34PM</td>\n",
       "      <td>Should I Avoid C.H. Robinson Worldwide, Inc. (...</td>\n",
       "    </tr>\n",
       "    <tr>\n",
       "      <th>2</th>\n",
       "      <td>CHRW</td>\n",
       "      <td>2020-09-27</td>\n",
       "      <td>01:30PM</td>\n",
       "      <td>Top 10 Logistics Companies in the World</td>\n",
       "    </tr>\n",
       "    <tr>\n",
       "      <th>3</th>\n",
       "      <td>CHRW</td>\n",
       "      <td>2020-09-24</td>\n",
       "      <td>10:36AM</td>\n",
       "      <td>Benzinga's Top Upgrades, Downgrades For Septem...</td>\n",
       "    </tr>\n",
       "    <tr>\n",
       "      <th>4</th>\n",
       "      <td>CHRW</td>\n",
       "      <td>2020-09-18</td>\n",
       "      <td>04:24PM</td>\n",
       "      <td>C.H. Robinson Worldwide, Inc. -- Moody's annou...</td>\n",
       "    </tr>\n",
       "  </tbody>\n",
       "</table>\n",
       "</div>"
      ],
      "text/plain": [
       "  ticker        date     time  \\\n",
       "0   CHRW  2020-09-28  04:15PM   \n",
       "1   CHRW  2020-09-28  12:34PM   \n",
       "2   CHRW  2020-09-27  01:30PM   \n",
       "3   CHRW  2020-09-24  10:36AM   \n",
       "4   CHRW  2020-09-18  04:24PM   \n",
       "\n",
       "                                            headline  \n",
       "0  C.H. Robinson Names Kermit Crawford to Board o...  \n",
       "1  Should I Avoid C.H. Robinson Worldwide, Inc. (...  \n",
       "2            Top 10 Logistics Companies in the World  \n",
       "3  Benzinga's Top Upgrades, Downgrades For Septem...  \n",
       "4  C.H. Robinson Worldwide, Inc. -- Moody's annou...  "
      ]
     },
     "execution_count": 7,
     "metadata": {},
     "output_type": "execute_result"
    }
   ],
   "source": [
    "import nltk\n",
    "nltk.download('vader_lexicon')\n",
    "\n",
    "finwiz_url = 'https://finviz.com/quote.ashx?t='\n",
    "\n",
    "news_tables = {}\n",
    "\n",
    "for ticker in tickers:\n",
    "    url = finwiz_url + ticker\n",
    "    req = Request(url=url,headers={'user-agent': 'my-app/0.0.1'}) \n",
    "    response = urlopen(req)    \n",
    "    html = BeautifulSoup(response)\n",
    "    news_table = html.find(id='news-table')\n",
    "    news_tables[ticker] = news_table\n",
    "    \n",
    "parsed_news = []\n",
    "\n",
    "for file_name, news_table in news_tables.items():\n",
    "    for x in news_table.findAll('tr'):\n",
    "    \n",
    "        text = x.a.get_text() \n",
    "        date_scrape = x.td.text.split()\n",
    "\n",
    "        if len(date_scrape) == 1:\n",
    "            time = date_scrape[0]\n",
    "            \n",
    "        else:\n",
    "            date = date_scrape[0]\n",
    "            time = date_scrape[1]\n",
    "        ticker = file_name.split('_')[0]\n",
    "        \n",
    "        parsed_news.append([ticker, date, time, text])\n",
    "        \n",
    "vader = SentimentIntensityAnalyzer()\n",
    "\n",
    "columns = ['ticker', 'date', 'time', 'headline']\n",
    "\n",
    "parsed_and_scored_news = pd.DataFrame(parsed_news, columns=columns)\n",
    "\n",
    "parsed_and_scored_news['date'] = pd.to_datetime(parsed_and_scored_news.date).dt.date\n",
    "\n",
    "parsed_and_scored_news.head()"
   ]
  },
  {
   "cell_type": "code",
   "execution_count": 8,
   "metadata": {},
   "outputs": [],
   "source": [
    "parsed_and_scored_news = parsed_and_scored_news.groupby(['ticker'], as_index = False).agg({'headline': ''.join}, Inplace=True)"
   ]
  },
  {
   "cell_type": "code",
   "execution_count": 9,
   "metadata": {},
   "outputs": [
    {
     "data": {
      "text/html": [
       "<div>\n",
       "<style scoped>\n",
       "    .dataframe tbody tr th:only-of-type {\n",
       "        vertical-align: middle;\n",
       "    }\n",
       "\n",
       "    .dataframe tbody tr th {\n",
       "        vertical-align: top;\n",
       "    }\n",
       "\n",
       "    .dataframe thead th {\n",
       "        text-align: right;\n",
       "    }\n",
       "</style>\n",
       "<table border=\"1\" class=\"dataframe\">\n",
       "  <thead>\n",
       "    <tr style=\"text-align: right;\">\n",
       "      <th></th>\n",
       "      <th>ticker</th>\n",
       "      <th>headline</th>\n",
       "    </tr>\n",
       "  </thead>\n",
       "  <tbody>\n",
       "    <tr>\n",
       "      <th>0</th>\n",
       "      <td>BIO</td>\n",
       "      <td>3 Health Care Companies to Consider as Covid-1...</td>\n",
       "    </tr>\n",
       "    <tr>\n",
       "      <th>1</th>\n",
       "      <td>CHRW</td>\n",
       "      <td>C.H. Robinson Names Kermit Crawford to Board o...</td>\n",
       "    </tr>\n",
       "    <tr>\n",
       "      <th>2</th>\n",
       "      <td>CINF</td>\n",
       "      <td>Cincinnati Indemnity Company (The) -- Moody's ...</td>\n",
       "    </tr>\n",
       "    <tr>\n",
       "      <th>3</th>\n",
       "      <td>CMA</td>\n",
       "      <td>Comerica Bank's California Index Ticked UpCome...</td>\n",
       "    </tr>\n",
       "    <tr>\n",
       "      <th>4</th>\n",
       "      <td>CPB</td>\n",
       "      <td>Interested In Campbell Soup's (NYSE:CPB) Upcom...</td>\n",
       "    </tr>\n",
       "  </tbody>\n",
       "</table>\n",
       "</div>"
      ],
      "text/plain": [
       "  ticker                                           headline\n",
       "0    BIO  3 Health Care Companies to Consider as Covid-1...\n",
       "1   CHRW  C.H. Robinson Names Kermit Crawford to Board o...\n",
       "2   CINF  Cincinnati Indemnity Company (The) -- Moody's ...\n",
       "3    CMA  Comerica Bank's California Index Ticked UpCome...\n",
       "4    CPB  Interested In Campbell Soup's (NYSE:CPB) Upcom..."
      ]
     },
     "execution_count": 9,
     "metadata": {},
     "output_type": "execute_result"
    }
   ],
   "source": [
    "parsed_and_scored_news.head()"
   ]
  },
  {
   "cell_type": "code",
   "execution_count": 10,
   "metadata": {},
   "outputs": [],
   "source": [
    "vader = SentimentIntensityAnalyzer()\n",
    "scores = parsed_and_scored_news['headline'].apply(vader.polarity_scores).tolist()\n",
    "scores_df = pd.DataFrame(scores)\n",
    "parsed_and_scored_news = parsed_and_scored_news.join(scores_df, rsuffix='_right')"
   ]
  },
  {
   "cell_type": "code",
   "execution_count": 11,
   "metadata": {},
   "outputs": [
    {
     "data": {
      "text/html": [
       "<div>\n",
       "<style scoped>\n",
       "    .dataframe tbody tr th:only-of-type {\n",
       "        vertical-align: middle;\n",
       "    }\n",
       "\n",
       "    .dataframe tbody tr th {\n",
       "        vertical-align: top;\n",
       "    }\n",
       "\n",
       "    .dataframe thead th {\n",
       "        text-align: right;\n",
       "    }\n",
       "</style>\n",
       "<table border=\"1\" class=\"dataframe\">\n",
       "  <thead>\n",
       "    <tr style=\"text-align: right;\">\n",
       "      <th></th>\n",
       "      <th>ticker</th>\n",
       "      <th>headline</th>\n",
       "      <th>neg</th>\n",
       "      <th>neu</th>\n",
       "      <th>pos</th>\n",
       "      <th>compound</th>\n",
       "    </tr>\n",
       "  </thead>\n",
       "  <tbody>\n",
       "    <tr>\n",
       "      <th>0</th>\n",
       "      <td>BIO</td>\n",
       "      <td>3 Health Care Companies to Consider as Covid-1...</td>\n",
       "      <td>0.024</td>\n",
       "      <td>0.874</td>\n",
       "      <td>0.103</td>\n",
       "      <td>0.9974</td>\n",
       "    </tr>\n",
       "    <tr>\n",
       "      <th>1</th>\n",
       "      <td>CHRW</td>\n",
       "      <td>C.H. Robinson Names Kermit Crawford to Board o...</td>\n",
       "      <td>0.029</td>\n",
       "      <td>0.897</td>\n",
       "      <td>0.074</td>\n",
       "      <td>0.9898</td>\n",
       "    </tr>\n",
       "    <tr>\n",
       "      <th>2</th>\n",
       "      <td>CINF</td>\n",
       "      <td>Cincinnati Indemnity Company (The) -- Moody's ...</td>\n",
       "      <td>0.041</td>\n",
       "      <td>0.896</td>\n",
       "      <td>0.063</td>\n",
       "      <td>0.9681</td>\n",
       "    </tr>\n",
       "    <tr>\n",
       "      <th>3</th>\n",
       "      <td>CMA</td>\n",
       "      <td>Comerica Bank's California Index Ticked UpCome...</td>\n",
       "      <td>0.028</td>\n",
       "      <td>0.851</td>\n",
       "      <td>0.121</td>\n",
       "      <td>0.9976</td>\n",
       "    </tr>\n",
       "    <tr>\n",
       "      <th>4</th>\n",
       "      <td>CPB</td>\n",
       "      <td>Interested In Campbell Soup's (NYSE:CPB) Upcom...</td>\n",
       "      <td>0.041</td>\n",
       "      <td>0.841</td>\n",
       "      <td>0.117</td>\n",
       "      <td>0.9970</td>\n",
       "    </tr>\n",
       "  </tbody>\n",
       "</table>\n",
       "</div>"
      ],
      "text/plain": [
       "  ticker                                           headline    neg    neu  \\\n",
       "0    BIO  3 Health Care Companies to Consider as Covid-1...  0.024  0.874   \n",
       "1   CHRW  C.H. Robinson Names Kermit Crawford to Board o...  0.029  0.897   \n",
       "2   CINF  Cincinnati Indemnity Company (The) -- Moody's ...  0.041  0.896   \n",
       "3    CMA  Comerica Bank's California Index Ticked UpCome...  0.028  0.851   \n",
       "4    CPB  Interested In Campbell Soup's (NYSE:CPB) Upcom...  0.041  0.841   \n",
       "\n",
       "     pos  compound  \n",
       "0  0.103    0.9974  \n",
       "1  0.074    0.9898  \n",
       "2  0.063    0.9681  \n",
       "3  0.121    0.9976  \n",
       "4  0.117    0.9970  "
      ]
     },
     "execution_count": 11,
     "metadata": {},
     "output_type": "execute_result"
    }
   ],
   "source": [
    "parsed_and_scored_news.head()"
   ]
  },
  {
   "cell_type": "code",
   "execution_count": 13,
   "metadata": {},
   "outputs": [
    {
     "data": {
      "text/plain": [
       "'\\nfrom fbchat import log, Client\\n\\n# Subclass fbchat.Client and override required methods\\nclass EchoBot(Client):\\n    def onMessage(self, author_id, message_object, thread_id, thread_type, **kwargs):\\n        self.markAsDelivered(thread_id, message_object.uid)\\n        self.markAsRead(thread_id)\\n\\n        log.info(\"{} from {} in {}\".format(message_object, thread_id, thread_type.name))\\n\\n        # If you\\'re not the author, echo\\n        if author_id != self.uid:\\n            self.send(\"message\", thread_id=thread_id, thread_type=thread_type)\\n\\n\\nclient = EchoBot(\"<username>\", \"<Password>\")\\nclient.listen()\\n'"
      ]
     },
     "execution_count": 13,
     "metadata": {},
     "output_type": "execute_result"
    }
   ],
   "source": [
    "'''\n",
    "from fbchat import log, Client\n",
    "\n",
    "# Subclass fbchat.Client and override required methods\n",
    "class EchoBot(Client):\n",
    "    def onMessage(self, author_id, message_object, thread_id, thread_type, **kwargs):\n",
    "        self.markAsDelivered(thread_id, message_object.uid)\n",
    "        self.markAsRead(thread_id)\n",
    "\n",
    "        log.info(\"{} from {} in {}\".format(message_object, thread_id, thread_type.name))\n",
    "\n",
    "        # If you're not the author, echo\n",
    "        if author_id != self.uid:\n",
    "            self.send(\"message\", thread_id=thread_id, thread_type=thread_type)\n",
    "\n",
    "\n",
    "client = EchoBot(\"<username>\", \"<Password>\")\n",
    "client.listen()\n",
    "'''"
   ]
  }
 ],
 "metadata": {
  "kernelspec": {
   "display_name": "Python 3",
   "language": "python",
   "name": "python3"
  },
  "language_info": {
   "codemirror_mode": {
    "name": "ipython",
    "version": 3
   },
   "file_extension": ".py",
   "mimetype": "text/x-python",
   "name": "python",
   "nbconvert_exporter": "python",
   "pygments_lexer": "ipython3",
   "version": "3.6.9"
  }
 },
 "nbformat": 4,
 "nbformat_minor": 2
}

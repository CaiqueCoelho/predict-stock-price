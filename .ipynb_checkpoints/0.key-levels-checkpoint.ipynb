{
 "cells": [
  {
   "cell_type": "markdown",
   "metadata": {},
   "source": [
    "https://towardsdatascience.com/detection-of-price-support-and-resistance-levels-in-python-baedc44c34c9"
   ]
  },
  {
   "cell_type": "code",
   "execution_count": 2,
   "metadata": {},
   "outputs": [
    {
     "name": "stdout",
     "output_type": "stream",
     "text": [
      "Defaulting to user installation because normal site-packages is not writeable\n",
      "Requirement already satisfied: yfinance in /home/caiquecoelho/.local/lib/python3.6/site-packages (0.1.54)\n",
      "Requirement already satisfied: multitasking>=0.0.7 in /home/caiquecoelho/.local/lib/python3.6/site-packages (from yfinance) (0.0.9)\n",
      "Requirement already satisfied: requests>=2.20 in /home/caiquecoelho/.local/lib/python3.6/site-packages (from yfinance) (2.23.0)\n",
      "Requirement already satisfied: numpy>=1.15 in /home/caiquecoelho/.local/lib/python3.6/site-packages (from yfinance) (1.18.5)\n",
      "Requirement already satisfied: pandas>=0.24 in /usr/local/lib/python3.6/dist-packages (from yfinance) (0.24.2)\n",
      "Requirement already satisfied: idna<3,>=2.5 in /home/caiquecoelho/.local/lib/python3.6/site-packages (from requests>=2.20->yfinance) (2.9)\n",
      "Requirement already satisfied: chardet<4,>=3.0.2 in /home/caiquecoelho/.local/lib/python3.6/site-packages (from requests>=2.20->yfinance) (3.0.4)\n",
      "Requirement already satisfied: certifi>=2017.4.17 in /home/caiquecoelho/.local/lib/python3.6/site-packages (from requests>=2.20->yfinance) (2020.4.5.1)\n",
      "Requirement already satisfied: urllib3!=1.25.0,!=1.25.1,<1.26,>=1.21.1 in /home/caiquecoelho/.local/lib/python3.6/site-packages (from requests>=2.20->yfinance) (1.25.9)\n",
      "Requirement already satisfied: pytz>=2011k in /home/caiquecoelho/.local/lib/python3.6/site-packages (from pandas>=0.24->yfinance) (2019.3)\n",
      "Requirement already satisfied: python-dateutil>=2.5.0 in /home/caiquecoelho/.local/lib/python3.6/site-packages (from pandas>=0.24->yfinance) (2.7.3)\n",
      "Requirement already satisfied: six>=1.5 in /home/caiquecoelho/.local/lib/python3.6/site-packages (from python-dateutil>=2.5.0->pandas>=0.24->yfinance) (1.14.0)\n",
      "\u001b[33mWARNING: You are using pip version 20.2.2; however, version 20.2.3 is available.\n",
      "You should consider upgrading via the '/usr/bin/python3 -m pip install --upgrade pip' command.\u001b[0m\n",
      "Defaulting to user installation because normal site-packages is not writeable\n",
      "Collecting mpl_finance\n",
      "  Downloading mpl_finance-0.10.1-py3-none-any.whl (8.4 kB)\n",
      "Requirement already satisfied: matplotlib in /home/caiquecoelho/.local/lib/python3.6/site-packages (from mpl_finance) (2.2.2)\n",
      "Requirement already satisfied: python-dateutil>=2.1 in /home/caiquecoelho/.local/lib/python3.6/site-packages (from matplotlib->mpl_finance) (2.7.3)\n",
      "Requirement already satisfied: cycler>=0.10 in /usr/lib/python3/dist-packages (from matplotlib->mpl_finance) (0.10.0)\n",
      "Requirement already satisfied: kiwisolver>=1.0.1 in /home/caiquecoelho/.local/lib/python3.6/site-packages (from matplotlib->mpl_finance) (1.0.1)\n",
      "Requirement already satisfied: numpy>=1.7.1 in /home/caiquecoelho/.local/lib/python3.6/site-packages (from matplotlib->mpl_finance) (1.18.5)\n",
      "Requirement already satisfied: six>=1.10 in /home/caiquecoelho/.local/lib/python3.6/site-packages (from matplotlib->mpl_finance) (1.14.0)\n",
      "Requirement already satisfied: pytz in /home/caiquecoelho/.local/lib/python3.6/site-packages (from matplotlib->mpl_finance) (2019.3)\n",
      "Requirement already satisfied: pyparsing!=2.0.4,!=2.1.2,!=2.1.6,>=2.0.1 in /usr/lib/python3/dist-packages (from matplotlib->mpl_finance) (2.2.0)\n",
      "Requirement already satisfied: setuptools in /home/caiquecoelho/.local/lib/python3.6/site-packages (from kiwisolver>=1.0.1->matplotlib->mpl_finance) (49.6.0)\n",
      "Installing collected packages: mpl-finance\n",
      "Successfully installed mpl-finance-0.10.1\n",
      "\u001b[33mWARNING: You are using pip version 20.2.2; however, version 20.2.3 is available.\n",
      "You should consider upgrading via the '/usr/bin/python3 -m pip install --upgrade pip' command.\u001b[0m\n"
     ]
    }
   ],
   "source": [
    "!pip3 install yfinance\n",
    "!pip3 install mpl_finance"
   ]
  },
  {
   "cell_type": "code",
   "execution_count": null,
   "metadata": {},
   "outputs": [],
   "source": []
  }
 ],
 "metadata": {
  "kernelspec": {
   "display_name": "Python 3",
   "language": "python",
   "name": "python3"
  },
  "language_info": {
   "codemirror_mode": {
    "name": "ipython",
    "version": 3
   },
   "file_extension": ".py",
   "mimetype": "text/x-python",
   "name": "python",
   "nbconvert_exporter": "python",
   "pygments_lexer": "ipython3",
   "version": "3.6.9"
  }
 },
 "nbformat": 4,
 "nbformat_minor": 2
}

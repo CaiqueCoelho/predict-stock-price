{
 "cells": [
  {
   "cell_type": "code",
   "execution_count": 8,
   "metadata": {},
   "outputs": [],
   "source": [
    "# https://medium.com/@AIY/getoldtweets3-830ebb8b2dab\n",
    "# https://github.com/JustAnotherArchivist/snscrape\n",
    "# https://github.com/rsafa/get-latest-tweets/blob/master/get_latest_tweets.py\n",
    "# snscrape --max-results 100 twitter-search tesla >twitter-@tesla"
   ]
  },
  {
   "cell_type": "code",
   "execution_count": 90,
   "metadata": {},
   "outputs": [],
   "source": [
    "import tweepy\n",
    "import pandas as pd\n",
    "import time\n",
    "import os\n",
    "\n",
    "consumer_key = 'JkfuUkynd4WfxXLbSukFok7qJ'\n",
    "consumer_secret = 'fauEtTf9t7aLBY2oweFUgCkhOt54lPH51tJXsmCWFSQGSIVM3S'\n",
    "access_token = '2220145722-63yNKOyb0vEd5beJ7LDcutsMpNSiikfvWiAVvV9'\n",
    "access_token_secret = '1ekPldTcxHwdnouSamYtmZczBMxCtOnT94kSTTv9ntcz2'\n",
    "\n",
    "auth = tweepy.OAuthHandler(consumer_key, consumer_secret)\n",
    "auth.set_access_token(access_token, access_token_secret)\n",
    "api = tweepy.API(auth, wait_on_rate_limit=True)"
   ]
  },
  {
   "cell_type": "code",
   "execution_count": 105,
   "metadata": {},
   "outputs": [],
   "source": [
    "!snscrape --max-results 1000 twitter-search elon%musk >twitter_elon"
   ]
  },
  {
   "cell_type": "code",
   "execution_count": null,
   "metadata": {},
   "outputs": [],
   "source": [
    "'''\n",
    "if status.lang == \"en\":\n",
    "            mined = {\n",
    "                \"tweet_id\": status.id,\n",
    "                \"name\": status.user.name,\n",
    "                \"screen_name\": status.user.screen_name,\n",
    "                \"retweet_count\": status.retweet_count,\n",
    "                \"text\": status.full_text,\n",
    "                \"created_at\": status.created_at,\n",
    "                \"favourite_count\": status.favorite_count,\n",
    "                \"hashtags\": status.entities[\"hashtags\"],\n",
    "                \"status_count\": status.user.statuses_count,\n",
    "                \"followers_count\": status.user.followers_count,\n",
    "                \"location\": status.place,\n",
    "                \"source_device\": status.source,\n",
    "                \"created_at\": status.created_at\n",
    "            }\n",
    "'''"
   ]
  },
  {
   "cell_type": "code",
   "execution_count": 150,
   "metadata": {},
   "outputs": [],
   "source": [
    "def get_tweets(tweet_ids):\n",
    "    #     global api\n",
    "    results = tweet_ids\n",
    "    if len(tweet_ids) > 100:\n",
    "        result = []\n",
    "        for i in range(0, len(tweet_ids), 100):\n",
    "            slice_item = slice(i, i + 100, 1)\n",
    "            result.append(tweet_ids[slice_item])\n",
    "    \n",
    "    data = pd.DataFrame() # define your own dataframe\n",
    "    for result in results:\n",
    "        statuses = api.statuses_lookup(result, tweet_mode=\"extended\")\n",
    "        # printing the statuses\n",
    "        for status in statuses:\n",
    "            # print(status.lang)\n",
    "            if status.lang == \"en\":\n",
    "                mined = {\n",
    "                    \"text\": status.full_text,\n",
    "                    \"created_at\": status.created_at\n",
    "                }\n",
    "\n",
    "                print(status)\n",
    "                break\n",
    "\n",
    "                last_tweet_id = status.id\n",
    "                data = data.append(mined, ignore_index=True)\n",
    "\n",
    "    print(\"outputing to tweets\", len(data))\n",
    "    data.to_csv(\n",
    "        f\"Extracted_TWEETS.csv\", mode=\"a\", header=not os.path.exists(\"Extracted_TWEETS.csv\"), index=False\n",
    "    )"
   ]
  },
  {
   "cell_type": "code",
   "execution_count": 151,
   "metadata": {},
   "outputs": [],
   "source": [
    "df = pd.read_csv('twitter_tesla.csv', names=['id', 'NaN'])"
   ]
  },
  {
   "cell_type": "code",
   "execution_count": 152,
   "metadata": {},
   "outputs": [
    {
     "data": {
      "text/html": [
       "<div>\n",
       "<style scoped>\n",
       "    .dataframe tbody tr th:only-of-type {\n",
       "        vertical-align: middle;\n",
       "    }\n",
       "\n",
       "    .dataframe tbody tr th {\n",
       "        vertical-align: top;\n",
       "    }\n",
       "\n",
       "    .dataframe thead th {\n",
       "        text-align: right;\n",
       "    }\n",
       "</style>\n",
       "<table border=\"1\" class=\"dataframe\">\n",
       "  <thead>\n",
       "    <tr style=\"text-align: right;\">\n",
       "      <th></th>\n",
       "      <th>id</th>\n",
       "      <th>NaN</th>\n",
       "    </tr>\n",
       "  </thead>\n",
       "  <tbody>\n",
       "    <tr>\n",
       "      <th>0</th>\n",
       "      <td>id</td>\n",
       "      <td>NaN</td>\n",
       "    </tr>\n",
       "    <tr>\n",
       "      <th>1</th>\n",
       "      <td>https://twitter.com/SgtUSMC4LIFE/status/131223...</td>\n",
       "      <td>NaN</td>\n",
       "    </tr>\n",
       "    <tr>\n",
       "      <th>2</th>\n",
       "      <td>https://twitter.com/programasdatv2/status/1278...</td>\n",
       "      <td>NaN</td>\n",
       "    </tr>\n",
       "    <tr>\n",
       "      <th>3</th>\n",
       "      <td>https://twitter.com/its_pruthviraj/status/1312...</td>\n",
       "      <td>NaN</td>\n",
       "    </tr>\n",
       "    <tr>\n",
       "      <th>4</th>\n",
       "      <td>https://twitter.com/rjo71342/status/1312230742...</td>\n",
       "      <td>NaN</td>\n",
       "    </tr>\n",
       "  </tbody>\n",
       "</table>\n",
       "</div>"
      ],
      "text/plain": [
       "                                                  id  NaN\n",
       "0                                                 id  NaN\n",
       "1  https://twitter.com/SgtUSMC4LIFE/status/131223...  NaN\n",
       "2  https://twitter.com/programasdatv2/status/1278...  NaN\n",
       "3  https://twitter.com/its_pruthviraj/status/1312...  NaN\n",
       "4  https://twitter.com/rjo71342/status/1312230742...  NaN"
      ]
     },
     "execution_count": 152,
     "metadata": {},
     "output_type": "execute_result"
    }
   ],
   "source": [
    "df.head()"
   ]
  },
  {
   "cell_type": "code",
   "execution_count": 153,
   "metadata": {},
   "outputs": [],
   "source": [
    "ids = df['id'].values"
   ]
  },
  {
   "cell_type": "code",
   "execution_count": 154,
   "metadata": {},
   "outputs": [
    {
     "data": {
      "text/plain": [
       "'id'"
      ]
     },
     "execution_count": 154,
     "metadata": {},
     "output_type": "execute_result"
    }
   ],
   "source": [
    "ids[0]"
   ]
  },
  {
   "cell_type": "code",
   "execution_count": 155,
   "metadata": {},
   "outputs": [],
   "source": [
    "ids_simple = []\n",
    "\n",
    "for id in ids:\n",
    "    id_splits = id.split('/')\n",
    "    ids_simple.append(id_splits[-1])"
   ]
  },
  {
   "cell_type": "code",
   "execution_count": 156,
   "metadata": {},
   "outputs": [
    {
     "data": {
      "text/plain": [
       "'id'"
      ]
     },
     "execution_count": 156,
     "metadata": {},
     "output_type": "execute_result"
    }
   ],
   "source": [
    "ids_simple[0]"
   ]
  },
  {
   "cell_type": "code",
   "execution_count": null,
   "metadata": {},
   "outputs": [],
   "source": [
    "get_tweets(ids_simple)"
   ]
  },
  {
   "cell_type": "code",
   "execution_count": null,
   "metadata": {},
   "outputs": [],
   "source": []
  },
  {
   "cell_type": "code",
   "execution_count": null,
   "metadata": {},
   "outputs": [],
   "source": []
  }
 ],
 "metadata": {
  "kernelspec": {
   "display_name": "Python 3",
   "language": "python",
   "name": "python3"
  },
  "language_info": {
   "codemirror_mode": {
    "name": "ipython",
    "version": 3
   },
   "file_extension": ".py",
   "mimetype": "text/x-python",
   "name": "python",
   "nbconvert_exporter": "python",
   "pygments_lexer": "ipython3",
   "version": "3.6.9"
  }
 },
 "nbformat": 4,
 "nbformat_minor": 2
}

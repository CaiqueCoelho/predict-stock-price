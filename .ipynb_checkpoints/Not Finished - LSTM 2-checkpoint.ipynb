{
 "cells": [
  {
   "cell_type": "code",
   "execution_count": 126,
   "metadata": {},
   "outputs": [],
   "source": [
    "#https://heartbeat.fritz.ai/using-a-keras-long-shortterm-memory-lstm-model-to-predict-stock-prices-a08c9f69aa74\n",
    "\n",
    "import numpy as np\n",
    "import matplotlib.pyplot as plt\n",
    "import pandas as pd"
   ]
  },
  {
   "cell_type": "code",
   "execution_count": 107,
   "metadata": {},
   "outputs": [],
   "source": [
    "# Importing the training set\n",
    "dataset_train = pd.read_csv('AAPL.csv')"
   ]
  },
  {
   "cell_type": "code",
   "execution_count": 108,
   "metadata": {},
   "outputs": [
    {
     "data": {
      "text/html": [
       "<div>\n",
       "<style scoped>\n",
       "    .dataframe tbody tr th:only-of-type {\n",
       "        vertical-align: middle;\n",
       "    }\n",
       "\n",
       "    .dataframe tbody tr th {\n",
       "        vertical-align: top;\n",
       "    }\n",
       "\n",
       "    .dataframe thead th {\n",
       "        text-align: right;\n",
       "    }\n",
       "</style>\n",
       "<table border=\"1\" class=\"dataframe\">\n",
       "  <thead>\n",
       "    <tr style=\"text-align: right;\">\n",
       "      <th></th>\n",
       "      <th>Date</th>\n",
       "      <th>Open</th>\n",
       "      <th>High</th>\n",
       "      <th>Low</th>\n",
       "      <th>Close</th>\n",
       "      <th>Adj Close</th>\n",
       "      <th>Volume</th>\n",
       "    </tr>\n",
       "  </thead>\n",
       "  <tbody>\n",
       "    <tr>\n",
       "      <th>0</th>\n",
       "      <td>1980-12-12</td>\n",
       "      <td>0.128348</td>\n",
       "      <td>0.128906</td>\n",
       "      <td>0.128348</td>\n",
       "      <td>0.128348</td>\n",
       "      <td>0.101261</td>\n",
       "      <td>469033600.0</td>\n",
       "    </tr>\n",
       "    <tr>\n",
       "      <th>1</th>\n",
       "      <td>1980-12-15</td>\n",
       "      <td>0.122210</td>\n",
       "      <td>0.122210</td>\n",
       "      <td>0.121652</td>\n",
       "      <td>0.121652</td>\n",
       "      <td>0.095978</td>\n",
       "      <td>175884800.0</td>\n",
       "    </tr>\n",
       "    <tr>\n",
       "      <th>2</th>\n",
       "      <td>1980-12-16</td>\n",
       "      <td>0.113281</td>\n",
       "      <td>0.113281</td>\n",
       "      <td>0.112723</td>\n",
       "      <td>0.112723</td>\n",
       "      <td>0.088934</td>\n",
       "      <td>105728000.0</td>\n",
       "    </tr>\n",
       "    <tr>\n",
       "      <th>3</th>\n",
       "      <td>1980-12-17</td>\n",
       "      <td>0.115513</td>\n",
       "      <td>0.116071</td>\n",
       "      <td>0.115513</td>\n",
       "      <td>0.115513</td>\n",
       "      <td>0.091135</td>\n",
       "      <td>86441600.0</td>\n",
       "    </tr>\n",
       "    <tr>\n",
       "      <th>4</th>\n",
       "      <td>1980-12-18</td>\n",
       "      <td>0.118862</td>\n",
       "      <td>0.119420</td>\n",
       "      <td>0.118862</td>\n",
       "      <td>0.118862</td>\n",
       "      <td>0.093777</td>\n",
       "      <td>73449600.0</td>\n",
       "    </tr>\n",
       "  </tbody>\n",
       "</table>\n",
       "</div>"
      ],
      "text/plain": [
       "         Date      Open      High       Low     Close  Adj Close       Volume\n",
       "0  1980-12-12  0.128348  0.128906  0.128348  0.128348   0.101261  469033600.0\n",
       "1  1980-12-15  0.122210  0.122210  0.121652  0.121652   0.095978  175884800.0\n",
       "2  1980-12-16  0.113281  0.113281  0.112723  0.112723   0.088934  105728000.0\n",
       "3  1980-12-17  0.115513  0.116071  0.115513  0.115513   0.091135   86441600.0\n",
       "4  1980-12-18  0.118862  0.119420  0.118862  0.118862   0.093777   73449600.0"
      ]
     },
     "execution_count": 108,
     "metadata": {},
     "output_type": "execute_result"
    }
   ],
   "source": [
    "dataset_train.head()"
   ]
  },
  {
   "cell_type": "code",
   "execution_count": 109,
   "metadata": {},
   "outputs": [
    {
     "data": {
      "text/plain": [
       "Date          object\n",
       "Open         float64\n",
       "High         float64\n",
       "Low          float64\n",
       "Close        float64\n",
       "Adj Close    float64\n",
       "Volume       float64\n",
       "dtype: object"
      ]
     },
     "execution_count": 109,
     "metadata": {},
     "output_type": "execute_result"
    }
   ],
   "source": [
    "dataset_train.dtypes"
   ]
  },
  {
   "cell_type": "code",
   "execution_count": 110,
   "metadata": {},
   "outputs": [],
   "source": [
    "def convert_dates(df, date_column, replace_index, time_zone='CET'):\n",
    "    df[date_column] = pd.to_datetime(df[date_column], utc=True).dt.tz_convert(time_zone)\n",
    "    df[date_column] = pd.to_datetime(df[date_column], errors='coerce')\n",
    "    if replace_index == False:\n",
    "        return df\n",
    "    else:\n",
    "        df.index = df[date_column]\n",
    "        return df"
   ]
  },
  {
   "cell_type": "code",
   "execution_count": 111,
   "metadata": {},
   "outputs": [],
   "source": [
    "dataset_train = convert_dates(dataset_train, \"Date\", True)"
   ]
  },
  {
   "cell_type": "code",
   "execution_count": 112,
   "metadata": {},
   "outputs": [
    {
     "data": {
      "text/plain": [
       "Date         datetime64[ns, CET]\n",
       "Open                     float64\n",
       "High                     float64\n",
       "Low                      float64\n",
       "Close                    float64\n",
       "Adj Close                float64\n",
       "Volume                   float64\n",
       "dtype: object"
      ]
     },
     "execution_count": 112,
     "metadata": {},
     "output_type": "execute_result"
    }
   ],
   "source": [
    "dataset_train.dtypes"
   ]
  },
  {
   "cell_type": "code",
   "execution_count": 113,
   "metadata": {},
   "outputs": [
    {
     "data": {
      "text/html": [
       "<div>\n",
       "<style scoped>\n",
       "    .dataframe tbody tr th:only-of-type {\n",
       "        vertical-align: middle;\n",
       "    }\n",
       "\n",
       "    .dataframe tbody tr th {\n",
       "        vertical-align: top;\n",
       "    }\n",
       "\n",
       "    .dataframe thead th {\n",
       "        text-align: right;\n",
       "    }\n",
       "</style>\n",
       "<table border=\"1\" class=\"dataframe\">\n",
       "  <thead>\n",
       "    <tr style=\"text-align: right;\">\n",
       "      <th></th>\n",
       "      <th>Date</th>\n",
       "      <th>Open</th>\n",
       "      <th>High</th>\n",
       "      <th>Low</th>\n",
       "      <th>Close</th>\n",
       "      <th>Adj Close</th>\n",
       "      <th>Volume</th>\n",
       "    </tr>\n",
       "    <tr>\n",
       "      <th>Date</th>\n",
       "      <th></th>\n",
       "      <th></th>\n",
       "      <th></th>\n",
       "      <th></th>\n",
       "      <th></th>\n",
       "      <th></th>\n",
       "      <th></th>\n",
       "    </tr>\n",
       "  </thead>\n",
       "  <tbody>\n",
       "    <tr>\n",
       "      <th>2020-09-21 02:00:00+02:00</th>\n",
       "      <td>2020-09-21 02:00:00+02:00</td>\n",
       "      <td>104.540001</td>\n",
       "      <td>110.190002</td>\n",
       "      <td>103.099998</td>\n",
       "      <td>110.080002</td>\n",
       "      <td>110.080002</td>\n",
       "      <td>195713800.0</td>\n",
       "    </tr>\n",
       "    <tr>\n",
       "      <th>2020-09-22 02:00:00+02:00</th>\n",
       "      <td>2020-09-22 02:00:00+02:00</td>\n",
       "      <td>112.680000</td>\n",
       "      <td>112.860001</td>\n",
       "      <td>109.160004</td>\n",
       "      <td>111.809998</td>\n",
       "      <td>111.809998</td>\n",
       "      <td>183055400.0</td>\n",
       "    </tr>\n",
       "    <tr>\n",
       "      <th>2020-09-23 02:00:00+02:00</th>\n",
       "      <td>2020-09-23 02:00:00+02:00</td>\n",
       "      <td>111.620003</td>\n",
       "      <td>112.110001</td>\n",
       "      <td>106.769997</td>\n",
       "      <td>107.120003</td>\n",
       "      <td>107.120003</td>\n",
       "      <td>150718700.0</td>\n",
       "    </tr>\n",
       "    <tr>\n",
       "      <th>2020-09-24 02:00:00+02:00</th>\n",
       "      <td>2020-09-24 02:00:00+02:00</td>\n",
       "      <td>105.169998</td>\n",
       "      <td>110.250000</td>\n",
       "      <td>105.000000</td>\n",
       "      <td>108.220001</td>\n",
       "      <td>108.220001</td>\n",
       "      <td>167743300.0</td>\n",
       "    </tr>\n",
       "    <tr>\n",
       "      <th>2020-09-25 02:00:00+02:00</th>\n",
       "      <td>2020-09-25 02:00:00+02:00</td>\n",
       "      <td>108.430000</td>\n",
       "      <td>112.440002</td>\n",
       "      <td>107.669998</td>\n",
       "      <td>112.279999</td>\n",
       "      <td>112.279999</td>\n",
       "      <td>149736300.0</td>\n",
       "    </tr>\n",
       "  </tbody>\n",
       "</table>\n",
       "</div>"
      ],
      "text/plain": [
       "                                               Date        Open        High  \\\n",
       "Date                                                                          \n",
       "2020-09-21 02:00:00+02:00 2020-09-21 02:00:00+02:00  104.540001  110.190002   \n",
       "2020-09-22 02:00:00+02:00 2020-09-22 02:00:00+02:00  112.680000  112.860001   \n",
       "2020-09-23 02:00:00+02:00 2020-09-23 02:00:00+02:00  111.620003  112.110001   \n",
       "2020-09-24 02:00:00+02:00 2020-09-24 02:00:00+02:00  105.169998  110.250000   \n",
       "2020-09-25 02:00:00+02:00 2020-09-25 02:00:00+02:00  108.430000  112.440002   \n",
       "\n",
       "                                  Low       Close   Adj Close       Volume  \n",
       "Date                                                                        \n",
       "2020-09-21 02:00:00+02:00  103.099998  110.080002  110.080002  195713800.0  \n",
       "2020-09-22 02:00:00+02:00  109.160004  111.809998  111.809998  183055400.0  \n",
       "2020-09-23 02:00:00+02:00  106.769997  107.120003  107.120003  150718700.0  \n",
       "2020-09-24 02:00:00+02:00  105.000000  108.220001  108.220001  167743300.0  \n",
       "2020-09-25 02:00:00+02:00  107.669998  112.279999  112.279999  149736300.0  "
      ]
     },
     "execution_count": 113,
     "metadata": {},
     "output_type": "execute_result"
    }
   ],
   "source": [
    "dataset_train.tail()"
   ]
  },
  {
   "cell_type": "code",
   "execution_count": 114,
   "metadata": {},
   "outputs": [],
   "source": [
    "train = dataset_train[dataset_train['Date'] < '2020-08-01']\n",
    "test = dataset_train[dataset_train['Date'] >= '2020-08-01']"
   ]
  },
  {
   "cell_type": "code",
   "execution_count": 120,
   "metadata": {},
   "outputs": [
    {
     "data": {
      "text/html": [
       "<div>\n",
       "<style scoped>\n",
       "    .dataframe tbody tr th:only-of-type {\n",
       "        vertical-align: middle;\n",
       "    }\n",
       "\n",
       "    .dataframe tbody tr th {\n",
       "        vertical-align: top;\n",
       "    }\n",
       "\n",
       "    .dataframe thead th {\n",
       "        text-align: right;\n",
       "    }\n",
       "</style>\n",
       "<table border=\"1\" class=\"dataframe\">\n",
       "  <thead>\n",
       "    <tr style=\"text-align: right;\">\n",
       "      <th></th>\n",
       "      <th>Date</th>\n",
       "      <th>Open</th>\n",
       "      <th>High</th>\n",
       "      <th>Low</th>\n",
       "      <th>Close</th>\n",
       "      <th>Adj Close</th>\n",
       "      <th>Volume</th>\n",
       "    </tr>\n",
       "    <tr>\n",
       "      <th>Date</th>\n",
       "      <th></th>\n",
       "      <th></th>\n",
       "      <th></th>\n",
       "      <th></th>\n",
       "      <th></th>\n",
       "      <th></th>\n",
       "      <th></th>\n",
       "    </tr>\n",
       "  </thead>\n",
       "  <tbody>\n",
       "    <tr>\n",
       "      <th>1980-12-12 01:00:00+01:00</th>\n",
       "      <td>1980-12-12 01:00:00+01:00</td>\n",
       "      <td>0.128348</td>\n",
       "      <td>0.128906</td>\n",
       "      <td>0.128348</td>\n",
       "      <td>0.128348</td>\n",
       "      <td>0.101261</td>\n",
       "      <td>469033600.0</td>\n",
       "    </tr>\n",
       "    <tr>\n",
       "      <th>1980-12-15 01:00:00+01:00</th>\n",
       "      <td>1980-12-15 01:00:00+01:00</td>\n",
       "      <td>0.122210</td>\n",
       "      <td>0.122210</td>\n",
       "      <td>0.121652</td>\n",
       "      <td>0.121652</td>\n",
       "      <td>0.095978</td>\n",
       "      <td>175884800.0</td>\n",
       "    </tr>\n",
       "    <tr>\n",
       "      <th>1980-12-16 01:00:00+01:00</th>\n",
       "      <td>1980-12-16 01:00:00+01:00</td>\n",
       "      <td>0.113281</td>\n",
       "      <td>0.113281</td>\n",
       "      <td>0.112723</td>\n",
       "      <td>0.112723</td>\n",
       "      <td>0.088934</td>\n",
       "      <td>105728000.0</td>\n",
       "    </tr>\n",
       "    <tr>\n",
       "      <th>1980-12-17 01:00:00+01:00</th>\n",
       "      <td>1980-12-17 01:00:00+01:00</td>\n",
       "      <td>0.115513</td>\n",
       "      <td>0.116071</td>\n",
       "      <td>0.115513</td>\n",
       "      <td>0.115513</td>\n",
       "      <td>0.091135</td>\n",
       "      <td>86441600.0</td>\n",
       "    </tr>\n",
       "    <tr>\n",
       "      <th>1980-12-18 01:00:00+01:00</th>\n",
       "      <td>1980-12-18 01:00:00+01:00</td>\n",
       "      <td>0.118862</td>\n",
       "      <td>0.119420</td>\n",
       "      <td>0.118862</td>\n",
       "      <td>0.118862</td>\n",
       "      <td>0.093777</td>\n",
       "      <td>73449600.0</td>\n",
       "    </tr>\n",
       "  </tbody>\n",
       "</table>\n",
       "</div>"
      ],
      "text/plain": [
       "                                               Date      Open      High  \\\n",
       "Date                                                                      \n",
       "1980-12-12 01:00:00+01:00 1980-12-12 01:00:00+01:00  0.128348  0.128906   \n",
       "1980-12-15 01:00:00+01:00 1980-12-15 01:00:00+01:00  0.122210  0.122210   \n",
       "1980-12-16 01:00:00+01:00 1980-12-16 01:00:00+01:00  0.113281  0.113281   \n",
       "1980-12-17 01:00:00+01:00 1980-12-17 01:00:00+01:00  0.115513  0.116071   \n",
       "1980-12-18 01:00:00+01:00 1980-12-18 01:00:00+01:00  0.118862  0.119420   \n",
       "\n",
       "                                Low     Close  Adj Close       Volume  \n",
       "Date                                                                   \n",
       "1980-12-12 01:00:00+01:00  0.128348  0.128348   0.101261  469033600.0  \n",
       "1980-12-15 01:00:00+01:00  0.121652  0.121652   0.095978  175884800.0  \n",
       "1980-12-16 01:00:00+01:00  0.112723  0.112723   0.088934  105728000.0  \n",
       "1980-12-17 01:00:00+01:00  0.115513  0.115513   0.091135   86441600.0  \n",
       "1980-12-18 01:00:00+01:00  0.118862  0.118862   0.093777   73449600.0  "
      ]
     },
     "execution_count": 120,
     "metadata": {},
     "output_type": "execute_result"
    }
   ],
   "source": [
    "train.head()"
   ]
  },
  {
   "cell_type": "code",
   "execution_count": 122,
   "metadata": {},
   "outputs": [
    {
     "data": {
      "text/plain": [
       "array([0.128348])"
      ]
     },
     "execution_count": 122,
     "metadata": {},
     "output_type": "execute_result"
    }
   ],
   "source": [
    "train.iloc[:, 1:2].values[0]"
   ]
  },
  {
   "cell_type": "code",
   "execution_count": 123,
   "metadata": {},
   "outputs": [],
   "source": [
    "training_set = train.iloc[:, 1:2].values"
   ]
  },
  {
   "cell_type": "code",
   "execution_count": 124,
   "metadata": {},
   "outputs": [
    {
     "data": {
      "text/plain": [
       "array([[  0.128348],\n",
       "       [  0.12221 ],\n",
       "       [  0.113281],\n",
       "       ...,\n",
       "       [ 93.75    ],\n",
       "       [ 94.1875  ],\n",
       "       [102.885002]])"
      ]
     },
     "execution_count": 124,
     "metadata": {},
     "output_type": "execute_result"
    }
   ],
   "source": [
    "training_set"
   ]
  },
  {
   "cell_type": "code",
   "execution_count": 125,
   "metadata": {},
   "outputs": [],
   "source": [
    "# Feature Scaling\n",
    "from sklearn.preprocessing import MinMaxScaler\n",
    "sc = MinMaxScaler(feature_range = (0, 1))\n",
    "training_set_scaled = sc.fit_transform(training_set)"
   ]
  },
  {
   "cell_type": "code",
   "execution_count": 87,
   "metadata": {},
   "outputs": [],
   "source": [
    "X_train = []\n",
    "y_train = []\n",
    "for i in range(60, 2035):\n",
    "    X_train.append(training_set_scaled[i-60:i, 0])\n",
    "    y_train.append(training_set_scaled[i, 0])\n",
    "X_train, y_train = np.array(X_train), np.array(y_train)\n",
    "\n",
    "X_train = np.reshape(X_train, (X_train.shape[0], X_train.shape[1], 1))"
   ]
  },
  {
   "cell_type": "code",
   "execution_count": 88,
   "metadata": {},
   "outputs": [
    {
     "data": {
      "text/plain": [
       "1975"
      ]
     },
     "execution_count": 88,
     "metadata": {},
     "output_type": "execute_result"
    }
   ],
   "source": [
    "len(X_train)"
   ]
  },
  {
   "cell_type": "code",
   "execution_count": 102,
   "metadata": {},
   "outputs": [],
   "source": [
    "# Reshaping\n",
    "X_train = np.reshape(X_train, (X_train.shape[0], X_train.shape[1], 1))"
   ]
  },
  {
   "cell_type": "code",
   "execution_count": 103,
   "metadata": {},
   "outputs": [
    {
     "data": {
      "text/plain": [
       "array([[[0.00076514],\n",
       "        [0.00070545],\n",
       "        [0.00061862],\n",
       "        ...,\n",
       "        [0.00064032],\n",
       "        [0.00054808],\n",
       "        [0.00049924]],\n",
       "\n",
       "       [[0.00070545],\n",
       "        [0.00061862],\n",
       "        [0.00064032],\n",
       "        ...,\n",
       "        [0.00054808],\n",
       "        [0.00049924],\n",
       "        [0.00046668]],\n",
       "\n",
       "       [[0.00061862],\n",
       "        [0.00064032],\n",
       "        [0.00067289],\n",
       "        ...,\n",
       "        [0.00049924],\n",
       "        [0.00046668],\n",
       "        [0.00049381]],\n",
       "\n",
       "       ...,\n",
       "\n",
       "       [[0.0033373 ],\n",
       "        [0.00325048],\n",
       "        [0.00318535],\n",
       "        ...,\n",
       "        [0.00307682],\n",
       "        [0.00314195],\n",
       "        [0.00307682]],\n",
       "\n",
       "       [[0.00325048],\n",
       "        [0.00318535],\n",
       "        [0.00309854],\n",
       "        ...,\n",
       "        [0.00314195],\n",
       "        [0.00307682],\n",
       "        [0.00307682]],\n",
       "\n",
       "       [[0.00318535],\n",
       "        [0.00309854],\n",
       "        [0.00303341],\n",
       "        ...,\n",
       "        [0.00307682],\n",
       "        [0.00307682],\n",
       "        [0.00303341]]])"
      ]
     },
     "execution_count": 103,
     "metadata": {},
     "output_type": "execute_result"
    }
   ],
   "source": [
    "X_train"
   ]
  },
  {
   "cell_type": "code",
   "execution_count": 90,
   "metadata": {},
   "outputs": [],
   "source": [
    "from tensorflow.keras import Sequential\n",
    "from tensorflow.keras.layers import LSTM, Dropout, Dense"
   ]
  },
  {
   "cell_type": "code",
   "execution_count": 91,
   "metadata": {},
   "outputs": [],
   "source": [
    "# Initialising the RNN\n",
    "regressor = Sequential()\n",
    "\n",
    "# Adding the first LSTM layer and some Dropout regularisation\n",
    "regressor.add(LSTM(units = 50, return_sequences = True, input_shape = (X_train.shape[1], 1)))\n",
    "regressor.add(Dropout(0.2))\n",
    "\n",
    "# Adding a second LSTM layer and some Dropout regularisation\n",
    "regressor.add(LSTM(units = 50, return_sequences = True))\n",
    "regressor.add(Dropout(0.2))\n",
    "\n",
    "# Adding a third LSTM layer and some Dropout regularisation\n",
    "regressor.add(LSTM(units = 50, return_sequences = True))\n",
    "regressor.add(Dropout(0.2))\n",
    "\n",
    "# Adding a fourth LSTM layer and some Dropout regularisation\n",
    "regressor.add(LSTM(units = 50))\n",
    "regressor.add(Dropout(0.2))\n",
    "\n",
    "# Adding the output layer\n",
    "regressor.add(Dense(units = 1))"
   ]
  },
  {
   "cell_type": "code",
   "execution_count": 99,
   "metadata": {},
   "outputs": [],
   "source": [
    "# Compiling the RNN\n",
    "regressor.compile(optimizer = 'adam', loss = 'mean_squared_error')"
   ]
  },
  {
   "cell_type": "code",
   "execution_count": 101,
   "metadata": {},
   "outputs": [
    {
     "data": {
      "text/plain": [
       "array([0.00046668, 0.00049381, 0.00048838, ..., 0.00307682, 0.00303341,\n",
       "       0.00301171])"
      ]
     },
     "execution_count": 101,
     "metadata": {},
     "output_type": "execute_result"
    }
   ],
   "source": [
    "y_train"
   ]
  },
  {
   "cell_type": "code",
   "execution_count": 93,
   "metadata": {},
   "outputs": [
    {
     "name": "stdout",
     "output_type": "stream",
     "text": [
      "Train on 1975 samples\n",
      "Epoch 1/100\n",
      "1975/1975 [==============================] - 4s 2ms/sample - loss: nan\n",
      "Epoch 2/100\n",
      "1975/1975 [==============================] - 3s 2ms/sample - loss: nan\n",
      "Epoch 3/100\n",
      "1975/1975 [==============================] - 3s 2ms/sample - loss: nan\n",
      "Epoch 4/100\n",
      "1975/1975 [==============================] - 4s 2ms/sample - loss: nan\n",
      "Epoch 5/100\n",
      "1975/1975 [==============================] - 4s 2ms/sample - loss: nan\n",
      "Epoch 6/100\n",
      "1975/1975 [==============================] - 5s 2ms/sample - loss: nan\n",
      "Epoch 7/100\n",
      "1975/1975 [==============================] - 5s 3ms/sample - loss: nan\n",
      "Epoch 8/100\n",
      "1975/1975 [==============================] - 5s 3ms/sample - loss: nan\n",
      "Epoch 9/100\n",
      "1975/1975 [==============================] - 5s 3ms/sample - loss: nan\n",
      "Epoch 10/100\n",
      "1975/1975 [==============================] - 5s 3ms/sample - loss: nan\n",
      "Epoch 11/100\n",
      "1975/1975 [==============================] - 5s 3ms/sample - loss: nan\n",
      "Epoch 12/100\n",
      "1975/1975 [==============================] - 5s 3ms/sample - loss: nan\n",
      "Epoch 13/100\n",
      "1975/1975 [==============================] - 5s 3ms/sample - loss: nan\n",
      "Epoch 14/100\n",
      "1975/1975 [==============================] - 5s 3ms/sample - loss: nan\n",
      "Epoch 15/100\n",
      "1975/1975 [==============================] - 5s 3ms/sample - loss: nan\n",
      "Epoch 16/100\n",
      "1975/1975 [==============================] - 5s 3ms/sample - loss: nan\n",
      "Epoch 17/100\n",
      "1975/1975 [==============================] - 5s 3ms/sample - loss: nan\n",
      "Epoch 18/100\n",
      "1975/1975 [==============================] - 5s 3ms/sample - loss: nan\n",
      "Epoch 19/100\n",
      "1975/1975 [==============================] - 5s 3ms/sample - loss: nan\n",
      "Epoch 20/100\n",
      "1975/1975 [==============================] - 5s 3ms/sample - loss: nan\n",
      "Epoch 21/100\n",
      "1975/1975 [==============================] - 5s 3ms/sample - loss: nan\n",
      "Epoch 22/100\n",
      "1975/1975 [==============================] - 5s 3ms/sample - loss: nan\n",
      "Epoch 23/100\n",
      "1975/1975 [==============================] - 5s 3ms/sample - loss: nan\n",
      "Epoch 24/100\n",
      "1975/1975 [==============================] - 5s 3ms/sample - loss: nan\n",
      "Epoch 25/100\n",
      "1975/1975 [==============================] - 5s 3ms/sample - loss: nan\n",
      "Epoch 26/100\n",
      "1975/1975 [==============================] - 5s 3ms/sample - loss: nan\n",
      "Epoch 27/100\n",
      "1975/1975 [==============================] - 5s 3ms/sample - loss: nan\n",
      "Epoch 28/100\n",
      "1975/1975 [==============================] - 5s 3ms/sample - loss: nan\n",
      "Epoch 29/100\n",
      "1975/1975 [==============================] - 5s 3ms/sample - loss: nan\n",
      "Epoch 30/100\n",
      "1975/1975 [==============================] - 5s 3ms/sample - loss: nan\n",
      "Epoch 31/100\n",
      "1975/1975 [==============================] - 5s 3ms/sample - loss: nan\n",
      "Epoch 32/100\n",
      "1975/1975 [==============================] - 5s 3ms/sample - loss: nan\n",
      "Epoch 33/100\n",
      "1975/1975 [==============================] - 5s 3ms/sample - loss: nan\n",
      "Epoch 34/100\n",
      "1975/1975 [==============================] - 5s 3ms/sample - loss: nan\n",
      "Epoch 35/100\n",
      "1975/1975 [==============================] - 5s 3ms/sample - loss: nan\n",
      "Epoch 36/100\n",
      "1975/1975 [==============================] - 5s 3ms/sample - loss: nan\n",
      "Epoch 37/100\n",
      "1975/1975 [==============================] - 5s 3ms/sample - loss: nan\n",
      "Epoch 38/100\n",
      "1975/1975 [==============================] - 5s 3ms/sample - loss: nan\n",
      "Epoch 39/100\n",
      "1975/1975 [==============================] - 5s 3ms/sample - loss: nan\n",
      "Epoch 40/100\n",
      "1975/1975 [==============================] - 5s 3ms/sample - loss: nan\n",
      "Epoch 41/100\n",
      "1975/1975 [==============================] - 5s 3ms/sample - loss: nan\n",
      "Epoch 42/100\n",
      "1975/1975 [==============================] - 5s 3ms/sample - loss: nan\n",
      "Epoch 43/100\n",
      "1975/1975 [==============================] - 5s 3ms/sample - loss: nan\n",
      "Epoch 44/100\n",
      "1975/1975 [==============================] - 5s 3ms/sample - loss: nan\n",
      "Epoch 45/100\n",
      "1975/1975 [==============================] - 5s 3ms/sample - loss: nan\n",
      "Epoch 46/100\n",
      "1975/1975 [==============================] - 5s 3ms/sample - loss: nan\n",
      "Epoch 47/100\n",
      "1975/1975 [==============================] - 5s 3ms/sample - loss: nan\n",
      "Epoch 48/100\n",
      "1975/1975 [==============================] - 5s 3ms/sample - loss: nan\n",
      "Epoch 49/100\n",
      "1975/1975 [==============================] - 5s 3ms/sample - loss: nan\n",
      "Epoch 50/100\n",
      "1975/1975 [==============================] - 5s 3ms/sample - loss: nan\n",
      "Epoch 51/100\n",
      "1975/1975 [==============================] - 5s 3ms/sample - loss: nan\n",
      "Epoch 52/100\n",
      "1975/1975 [==============================] - 5s 3ms/sample - loss: nan\n",
      "Epoch 53/100\n",
      "1975/1975 [==============================] - 5s 3ms/sample - loss: nan\n",
      "Epoch 54/100\n",
      "1975/1975 [==============================] - 5s 3ms/sample - loss: nan\n",
      "Epoch 55/100\n",
      "1975/1975 [==============================] - 5s 3ms/sample - loss: nan\n",
      "Epoch 56/100\n",
      "1975/1975 [==============================] - 5s 3ms/sample - loss: nan\n",
      "Epoch 57/100\n",
      "1975/1975 [==============================] - 5s 3ms/sample - loss: nan\n",
      "Epoch 58/100\n",
      "1975/1975 [==============================] - 5s 3ms/sample - loss: nan\n",
      "Epoch 59/100\n",
      "1975/1975 [==============================] - 5s 3ms/sample - loss: nan\n",
      "Epoch 60/100\n",
      "1975/1975 [==============================] - 5s 3ms/sample - loss: nan\n",
      "Epoch 61/100\n",
      "1975/1975 [==============================] - 5s 3ms/sample - loss: nan\n",
      "Epoch 62/100\n",
      "1975/1975 [==============================] - 5s 3ms/sample - loss: nan\n",
      "Epoch 63/100\n",
      "1975/1975 [==============================] - 5s 3ms/sample - loss: nan\n",
      "Epoch 64/100\n",
      "1975/1975 [==============================] - 5s 3ms/sample - loss: nan\n",
      "Epoch 65/100\n",
      "1975/1975 [==============================] - 5s 3ms/sample - loss: nan\n",
      "Epoch 66/100\n",
      "1975/1975 [==============================] - 5s 3ms/sample - loss: nan\n",
      "Epoch 67/100\n",
      "1975/1975 [==============================] - 5s 3ms/sample - loss: nan\n",
      "Epoch 68/100\n",
      "1975/1975 [==============================] - 5s 3ms/sample - loss: nan\n",
      "Epoch 69/100\n",
      "1975/1975 [==============================] - 5s 3ms/sample - loss: nan\n",
      "Epoch 70/100\n",
      "1975/1975 [==============================] - 5s 3ms/sample - loss: nan\n",
      "Epoch 71/100\n",
      "1975/1975 [==============================] - 5s 3ms/sample - loss: nan\n",
      "Epoch 72/100\n",
      "1975/1975 [==============================] - 5s 3ms/sample - loss: nan\n",
      "Epoch 73/100\n",
      "1975/1975 [==============================] - 5s 3ms/sample - loss: nan\n",
      "Epoch 74/100\n",
      "1975/1975 [==============================] - 5s 3ms/sample - loss: nan\n",
      "Epoch 75/100\n",
      "1975/1975 [==============================] - 5s 3ms/sample - loss: nan\n",
      "Epoch 76/100\n",
      "1975/1975 [==============================] - 5s 3ms/sample - loss: nan\n",
      "Epoch 77/100\n",
      "1975/1975 [==============================] - 5s 3ms/sample - loss: nan\n",
      "Epoch 78/100\n",
      "1975/1975 [==============================] - 5s 3ms/sample - loss: nan\n",
      "Epoch 79/100\n",
      "1975/1975 [==============================] - 5s 3ms/sample - loss: nan\n",
      "Epoch 80/100\n",
      "1975/1975 [==============================] - 5s 3ms/sample - loss: nan\n",
      "Epoch 81/100\n",
      "1975/1975 [==============================] - 6s 3ms/sample - loss: nan\n",
      "Epoch 82/100\n",
      "1975/1975 [==============================] - 5s 2ms/sample - loss: nan\n",
      "Epoch 83/100\n",
      "1975/1975 [==============================] - 4s 2ms/sample - loss: nan\n",
      "Epoch 84/100\n",
      "1975/1975 [==============================] - 4s 2ms/sample - loss: nan\n",
      "Epoch 85/100\n",
      "1975/1975 [==============================] - 5s 2ms/sample - loss: nan\n",
      "Epoch 86/100\n",
      "1975/1975 [==============================] - 5s 3ms/sample - loss: nan\n",
      "Epoch 87/100\n",
      "1975/1975 [==============================] - 5s 3ms/sample - loss: nan\n",
      "Epoch 88/100\n",
      "1975/1975 [==============================] - 5s 3ms/sample - loss: nan\n",
      "Epoch 89/100\n",
      "1975/1975 [==============================] - 5s 3ms/sample - loss: nan\n",
      "Epoch 90/100\n",
      "1975/1975 [==============================] - 5s 3ms/sample - loss: nan\n",
      "Epoch 91/100\n",
      "1975/1975 [==============================] - 5s 3ms/sample - loss: nan\n",
      "Epoch 92/100\n",
      "1975/1975 [==============================] - 5s 3ms/sample - loss: nan\n",
      "Epoch 93/100\n",
      "1975/1975 [==============================] - 5s 3ms/sample - loss: nan\n",
      "Epoch 94/100\n",
      "1975/1975 [==============================] - 5s 2ms/sample - loss: nan\n",
      "Epoch 95/100\n",
      "1975/1975 [==============================] - 5s 2ms/sample - loss: nan\n",
      "Epoch 96/100\n",
      "1975/1975 [==============================] - 4s 2ms/sample - loss: nan\n",
      "Epoch 97/100\n",
      "1975/1975 [==============================] - 3s 2ms/sample - loss: nan\n",
      "Epoch 98/100\n"
     ]
    },
    {
     "name": "stdout",
     "output_type": "stream",
     "text": [
      "1975/1975 [==============================] - 4s 2ms/sample - loss: nan\n",
      "Epoch 99/100\n",
      "1975/1975 [==============================] - 4s 2ms/sample - loss: nan\n",
      "Epoch 100/100\n",
      "1975/1975 [==============================] - 4s 2ms/sample - loss: nan\n"
     ]
    },
    {
     "data": {
      "text/plain": [
       "<tensorflow.python.keras.callbacks.History at 0x7f0c70312160>"
      ]
     },
     "execution_count": 93,
     "metadata": {},
     "output_type": "execute_result"
    }
   ],
   "source": [
    "# Fitting the RNN to the Training set\n",
    "regressor.fit(X_train, y_train, epochs = 100, batch_size = 32)"
   ]
  },
  {
   "cell_type": "code",
   "execution_count": 94,
   "metadata": {},
   "outputs": [],
   "source": [
    "real_stock_price = test.iloc[:, 1:2].values"
   ]
  },
  {
   "cell_type": "code",
   "execution_count": 95,
   "metadata": {},
   "outputs": [
    {
     "name": "stderr",
     "output_type": "stream",
     "text": [
      "W0928 01:42:55.571361 139694760052544 deprecation.py:323] From /home/caiquecoelho/.local/lib/python3.6/site-packages/tensorflow/python/keras/engine/training_v1.py:2070: Model.state_updates (from tensorflow.python.keras.engine.training) is deprecated and will be removed in a future version.\n",
      "Instructions for updating:\n",
      "This property should not be used in TensorFlow 2.0, as updates are applied automatically.\n"
     ]
    }
   ],
   "source": [
    "# Getting the predicted stock price of 2017\n",
    "dataset_total = pd.concat((train['Open'], test['Open']), axis = 0)\n",
    "inputs = dataset_total[len(dataset_train) - len(test) - 60:].values\n",
    "inputs = inputs.reshape(-1,1)\n",
    "inputs = sc.transform(inputs)\n",
    "X_test = []\n",
    "for i in range(60, 76):\n",
    "    X_test.append(inputs[i-60:i, 0])\n",
    "X_test = np.array(X_test)\n",
    "X_test = np.reshape(X_test, (X_test.shape[0], X_test.shape[1], 1))\n",
    "predicted_stock_price = regressor.predict(X_test)\n",
    "predicted_stock_price = sc.inverse_transform(predicted_stock_price)"
   ]
  },
  {
   "cell_type": "code",
   "execution_count": 97,
   "metadata": {},
   "outputs": [
    {
     "data": {
      "text/plain": [
       "array([[nan],\n",
       "       [nan],\n",
       "       [nan],\n",
       "       [nan],\n",
       "       [nan],\n",
       "       [nan],\n",
       "       [nan],\n",
       "       [nan],\n",
       "       [nan],\n",
       "       [nan],\n",
       "       [nan],\n",
       "       [nan],\n",
       "       [nan],\n",
       "       [nan],\n",
       "       [nan],\n",
       "       [nan]], dtype=float32)"
      ]
     },
     "execution_count": 97,
     "metadata": {},
     "output_type": "execute_result"
    }
   ],
   "source": [
    "predicted_stock_price"
   ]
  },
  {
   "cell_type": "code",
   "execution_count": 98,
   "metadata": {},
   "outputs": [
    {
     "data": {
      "image/png": "[encoded data removed]",
      "text/plain": [
       "<Figure size 432x288 with 1 Axes>"
      ]
     },
     "metadata": {
      "needs_background": "light"
     },
     "output_type": "display_data"
    }
   ],
   "source": [
    "# Visualising the results\n",
    "plt.plot(real_stock_price, color = 'red', label = 'Real TATA Stock Price')\n",
    "plt.plot(predicted_stock_price, color = 'blue', label = 'Predicted TAT Stock Price')\n",
    "plt.title('TATA Stock Price Prediction')\n",
    "plt.xlabel('Time')\n",
    "plt.ylabel('TATA Stock Price')\n",
    "plt.legend()\n",
    "plt.show()"
   ]
  },
  {
   "cell_type": "code",
   "execution_count": null,
   "metadata": {},
   "outputs": [],
   "source": []
  }
 ],
 "metadata": {
  "kernelspec": {
   "display_name": "Python 3",
   "language": "python",
   "name": "python3"
  },
  "language_info": {
   "codemirror_mode": {
    "name": "ipython",
    "version": 3
   },
   "file_extension": ".py",
   "mimetype": "text/x-python",
   "name": "python",
   "nbconvert_exporter": "python",
   "pygments_lexer": "ipython3",
   "version": "3.6.9"
  }
 },
 "nbformat": 4,
 "nbformat_minor": 2
}

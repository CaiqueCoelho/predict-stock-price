{
 "cells": [
  {
   "cell_type": "code",
   "execution_count": 44,
   "metadata": {},
   "outputs": [],
   "source": [
    "# https://towardsdatascience.com/lstm-time-series-forecasting-predicting-stock-prices-using-an-lstm-model-6223e9644a2f\n",
    "\n",
    "import numpy as np\n",
    "import pandas as pd\n",
    "import matplotlib.pyplot as plt\n",
    "import pandas_datareader.data as web\n",
    "from tensorflow.keras.models import Sequential\n",
    "from tensorflow.keras.layers import Dense\n",
    "from tensorflow.keras.layers import LSTM\n",
    "from tensorflow.keras.layers import Dropout\n",
    "from tensorflow.keras.layers import *\n",
    "from sklearn.preprocessing import MinMaxScaler\n",
    "from sklearn.metrics import mean_squared_error\n",
    "from sklearn.metrics import mean_absolute_error\n",
    "from sklearn.model_selection import train_test_split\n",
    "from keras.callbacks import EarlyStopping\n",
    "goal = \"ETH-USD\"\n",
    "data = web.DataReader(goal, 'yahoo')"
   ]
  },
  {
   "cell_type": "code",
   "execution_count": 45,
   "metadata": {},
   "outputs": [],
   "source": [
    "data.reset_index(level=0, inplace=True)"
   ]
  },
  {
   "cell_type": "code",
   "execution_count": 46,
   "metadata": {},
   "outputs": [],
   "source": [
    "training_set = data.iloc[:800, 1:2].values\n",
    "test_set = data.iloc[800:, 1:2].values"
   ]
  },
  {
   "cell_type": "code",
   "execution_count": 47,
   "metadata": {},
   "outputs": [],
   "source": [
    "# Feature Scaling\n",
    "sc = MinMaxScaler(feature_range = (0, 1))\n",
    "training_set_scaled = sc.fit_transform(training_set)\n",
    "# Creating a data structure with 60 time-steps and 1 output\n",
    "X_train = []\n",
    "y_train = []\n",
    "for i in range(60, 800):\n",
    "    X_train.append(training_set_scaled[i-50:i, 0])\n",
    "    y_train.append(training_set_scaled[i, 0])\n",
    "X_train, y_train = np.array(X_train), np.array(y_train)\n",
    "X_train = np.reshape(X_train, (X_train.shape[0], X_train.shape[1], 1))\n",
    "#(740, 60, 1)"
   ]
  },
  {
   "cell_type": "code",
   "execution_count": 48,
   "metadata": {},
   "outputs": [
    {
     "name": "stdout",
     "output_type": "stream",
     "text": [
      "Train on 740 samples\n",
      "Epoch 1/100\n",
      "740/740 [==============================] - 1s 1ms/sample - loss: 0.0215\n",
      "Epoch 2/100\n",
      "740/740 [==============================] - 1s 2ms/sample - loss: 0.0074\n",
      "Epoch 3/100\n",
      "740/740 [==============================] - 1s 2ms/sample - loss: 0.0053\n",
      "Epoch 4/100\n",
      "740/740 [==============================] - 1s 2ms/sample - loss: 0.0059\n",
      "Epoch 5/100\n",
      "740/740 [==============================] - 1s 2ms/sample - loss: 0.0051\n",
      "Epoch 6/100\n",
      "740/740 [==============================] - 1s 2ms/sample - loss: 0.0055\n",
      "Epoch 7/100\n",
      "740/740 [==============================] - 1s 2ms/sample - loss: 0.0045\n",
      "Epoch 8/100\n",
      "740/740 [==============================] - 1s 2ms/sample - loss: 0.0036\n",
      "Epoch 9/100\n",
      "740/740 [==============================] - 1s 2ms/sample - loss: 0.0039\n",
      "Epoch 10/100\n",
      "740/740 [==============================] - 1s 2ms/sample - loss: 0.0025\n",
      "Epoch 11/100\n",
      "740/740 [==============================] - 1s 2ms/sample - loss: 0.0027\n",
      "Epoch 12/100\n",
      "740/740 [==============================] - 1s 2ms/sample - loss: 0.0032\n",
      "Epoch 13/100\n",
      "740/740 [==============================] - 1s 2ms/sample - loss: 0.0031\n",
      "Epoch 14/100\n",
      "740/740 [==============================] - 1s 2ms/sample - loss: 0.0033\n",
      "Epoch 15/100\n",
      "740/740 [==============================] - 1s 2ms/sample - loss: 0.0028\n",
      "Epoch 16/100\n",
      "740/740 [==============================] - 2s 2ms/sample - loss: 0.0028\n",
      "Epoch 17/100\n",
      "740/740 [==============================] - 2s 2ms/sample - loss: 0.0032\n",
      "Epoch 18/100\n",
      "740/740 [==============================] - 2s 2ms/sample - loss: 0.0029\n",
      "Epoch 19/100\n",
      "740/740 [==============================] - 2s 2ms/sample - loss: 0.0026\n",
      "Epoch 20/100\n",
      "740/740 [==============================] - 2s 2ms/sample - loss: 0.0027\n",
      "Epoch 21/100\n",
      "740/740 [==============================] - 2s 2ms/sample - loss: 0.0027\n",
      "Epoch 22/100\n",
      "740/740 [==============================] - 2s 2ms/sample - loss: 0.0021\n",
      "Epoch 23/100\n",
      "740/740 [==============================] - 2s 2ms/sample - loss: 0.0025\n",
      "Epoch 24/100\n",
      "740/740 [==============================] - 2s 2ms/sample - loss: 0.0023\n",
      "Epoch 25/100\n",
      "740/740 [==============================] - 2s 2ms/sample - loss: 0.0022\n",
      "Epoch 26/100\n",
      "740/740 [==============================] - 2s 2ms/sample - loss: 0.0026\n",
      "Epoch 27/100\n",
      "740/740 [==============================] - 2s 2ms/sample - loss: 0.0022\n",
      "Epoch 28/100\n",
      "740/740 [==============================] - 2s 2ms/sample - loss: 0.0023\n",
      "Epoch 29/100\n",
      "740/740 [==============================] - 2s 2ms/sample - loss: 0.0022\n",
      "Epoch 30/100\n",
      "740/740 [==============================] - 2s 2ms/sample - loss: 0.0023\n",
      "Epoch 31/100\n",
      "740/740 [==============================] - 2s 2ms/sample - loss: 0.0021\n",
      "Epoch 32/100\n",
      "740/740 [==============================] - 2s 2ms/sample - loss: 0.0027\n",
      "Epoch 33/100\n",
      "740/740 [==============================] - 2s 2ms/sample - loss: 0.0023\n",
      "Epoch 34/100\n",
      "740/740 [==============================] - 2s 2ms/sample - loss: 0.0024\n",
      "Epoch 35/100\n",
      "740/740 [==============================] - 2s 2ms/sample - loss: 0.0023\n",
      "Epoch 36/100\n",
      "740/740 [==============================] - 2s 2ms/sample - loss: 0.0029\n",
      "Epoch 37/100\n",
      "740/740 [==============================] - 2s 2ms/sample - loss: 0.0025\n",
      "Epoch 38/100\n",
      "740/740 [==============================] - 2s 2ms/sample - loss: 0.0024\n",
      "Epoch 39/100\n",
      "740/740 [==============================] - 2s 2ms/sample - loss: 0.0022\n",
      "Epoch 40/100\n",
      "740/740 [==============================] - 2s 2ms/sample - loss: 0.0023\n",
      "Epoch 41/100\n",
      "740/740 [==============================] - 2s 2ms/sample - loss: 0.0033\n",
      "Epoch 42/100\n",
      "740/740 [==============================] - 2s 2ms/sample - loss: 0.0025\n",
      "Epoch 43/100\n",
      "740/740 [==============================] - 2s 2ms/sample - loss: 0.0022\n",
      "Epoch 44/100\n",
      "740/740 [==============================] - 1s 2ms/sample - loss: 0.0018\n",
      "Epoch 45/100\n",
      "740/740 [==============================] - 2s 2ms/sample - loss: 0.0020\n",
      "Epoch 46/100\n",
      "740/740 [==============================] - 2s 2ms/sample - loss: 0.0020\n",
      "Epoch 47/100\n",
      "740/740 [==============================] - 2s 2ms/sample - loss: 0.0020\n",
      "Epoch 48/100\n",
      "740/740 [==============================] - 2s 2ms/sample - loss: 0.0020\n",
      "Epoch 49/100\n",
      "740/740 [==============================] - 1s 2ms/sample - loss: 0.0020\n",
      "Epoch 50/100\n",
      "740/740 [==============================] - 2s 2ms/sample - loss: 0.0018\n",
      "Epoch 51/100\n",
      "740/740 [==============================] - 2s 2ms/sample - loss: 0.0022\n",
      "Epoch 52/100\n",
      "740/740 [==============================] - 2s 2ms/sample - loss: 0.0016\n",
      "Epoch 53/100\n",
      "740/740 [==============================] - 2s 2ms/sample - loss: 0.0017\n",
      "Epoch 54/100\n",
      "740/740 [==============================] - 2s 2ms/sample - loss: 0.0021\n",
      "Epoch 55/100\n",
      "740/740 [==============================] - 2s 2ms/sample - loss: 0.0026\n",
      "Epoch 56/100\n",
      "740/740 [==============================] - 2s 2ms/sample - loss: 0.0020\n",
      "Epoch 57/100\n",
      "740/740 [==============================] - 1s 2ms/sample - loss: 0.0024\n",
      "Epoch 58/100\n",
      "740/740 [==============================] - 2s 2ms/sample - loss: 0.0016\n",
      "Epoch 59/100\n",
      "740/740 [==============================] - 2s 2ms/sample - loss: 0.0016\n",
      "Epoch 60/100\n",
      "740/740 [==============================] - 2s 2ms/sample - loss: 0.0015\n",
      "Epoch 61/100\n",
      "740/740 [==============================] - 2s 2ms/sample - loss: 0.0017\n",
      "Epoch 62/100\n",
      "740/740 [==============================] - 2s 2ms/sample - loss: 0.0028\n",
      "Epoch 63/100\n",
      "740/740 [==============================] - 2s 2ms/sample - loss: 0.0019\n",
      "Epoch 64/100\n",
      "740/740 [==============================] - 1s 2ms/sample - loss: 0.0025\n",
      "Epoch 65/100\n",
      "740/740 [==============================] - 2s 2ms/sample - loss: 0.0017\n",
      "Epoch 66/100\n",
      "740/740 [==============================] - 2s 2ms/sample - loss: 0.0018\n",
      "Epoch 67/100\n",
      "740/740 [==============================] - 1s 2ms/sample - loss: 0.0016\n",
      "Epoch 68/100\n",
      "740/740 [==============================] - 1s 2ms/sample - loss: 0.0025\n",
      "Epoch 69/100\n",
      "740/740 [==============================] - 2s 2ms/sample - loss: 0.0019\n",
      "Epoch 70/100\n",
      "740/740 [==============================] - 2s 2ms/sample - loss: 0.0018\n",
      "Epoch 71/100\n",
      "740/740 [==============================] - 2s 2ms/sample - loss: 0.0014\n",
      "Epoch 72/100\n",
      "740/740 [==============================] - 2s 2ms/sample - loss: 0.0016\n",
      "Epoch 73/100\n",
      "740/740 [==============================] - 2s 2ms/sample - loss: 0.0018\n",
      "Epoch 74/100\n",
      "740/740 [==============================] - 2s 2ms/sample - loss: 0.0018\n",
      "Epoch 75/100\n",
      "740/740 [==============================] - 1s 2ms/sample - loss: 0.0017\n",
      "Epoch 76/100\n",
      "740/740 [==============================] - 2s 2ms/sample - loss: 0.0024\n",
      "Epoch 77/100\n",
      "740/740 [==============================] - 1s 2ms/sample - loss: 0.0018\n",
      "Epoch 78/100\n",
      "740/740 [==============================] - 1s 2ms/sample - loss: 0.0021\n",
      "Epoch 79/100\n",
      "740/740 [==============================] - 2s 2ms/sample - loss: 0.0018\n",
      "Epoch 80/100\n",
      "740/740 [==============================] - 2s 2ms/sample - loss: 0.0015\n",
      "Epoch 81/100\n",
      "740/740 [==============================] - 2s 2ms/sample - loss: 0.0016\n",
      "Epoch 82/100\n",
      "740/740 [==============================] - 2s 2ms/sample - loss: 0.0015\n",
      "Epoch 83/100\n",
      "740/740 [==============================] - 2s 2ms/sample - loss: 0.0017\n",
      "Epoch 84/100\n",
      "740/740 [==============================] - 2s 2ms/sample - loss: 0.0016\n",
      "Epoch 85/100\n",
      "740/740 [==============================] - 2s 2ms/sample - loss: 0.0016\n",
      "Epoch 86/100\n",
      "740/740 [==============================] - 2s 2ms/sample - loss: 0.0014\n",
      "Epoch 87/100\n",
      "740/740 [==============================] - 2s 2ms/sample - loss: 0.0012\n",
      "Epoch 88/100\n",
      "740/740 [==============================] - 2s 2ms/sample - loss: 0.0017\n",
      "Epoch 89/100\n",
      "740/740 [==============================] - 2s 2ms/sample - loss: 0.0018\n",
      "Epoch 90/100\n",
      "740/740 [==============================] - 1s 2ms/sample - loss: 0.0023\n",
      "Epoch 91/100\n",
      "740/740 [==============================] - 2s 2ms/sample - loss: 0.0016\n",
      "Epoch 92/100\n",
      "740/740 [==============================] - 2s 2ms/sample - loss: 0.0014\n",
      "Epoch 93/100\n",
      "740/740 [==============================] - 1s 2ms/sample - loss: 0.0016\n",
      "Epoch 94/100\n",
      "740/740 [==============================] - 1s 2ms/sample - loss: 0.0018\n",
      "Epoch 95/100\n",
      "740/740 [==============================] - 2s 2ms/sample - loss: 0.0018\n",
      "Epoch 96/100\n",
      "740/740 [==============================] - 2s 2ms/sample - loss: 0.0014\n",
      "Epoch 97/100\n"
     ]
    },
    {
     "name": "stdout",
     "output_type": "stream",
     "text": [
      "740/740 [==============================] - 1s 2ms/sample - loss: 0.0015\n",
      "Epoch 98/100\n",
      "740/740 [==============================] - 1s 2ms/sample - loss: 0.0015\n",
      "Epoch 99/100\n",
      "740/740 [==============================] - 1s 2ms/sample - loss: 0.0015\n",
      "Epoch 100/100\n",
      "740/740 [==============================] - 1s 2ms/sample - loss: 0.0015\n"
     ]
    },
    {
     "data": {
      "text/plain": [
       "<tensorflow.python.keras.callbacks.History at 0x7f66042290f0>"
      ]
     },
     "execution_count": 48,
     "metadata": {},
     "output_type": "execute_result"
    }
   ],
   "source": [
    "model = Sequential()\n",
    "#Adding the first LSTM layer and some Dropout regularisation\n",
    "model.add(LSTM(units = 50, return_sequences = True, input_shape = (X_train.shape[1], 1)))\n",
    "model.add(Dropout(0.2))\n",
    "# Adding a second LSTM layer and some Dropout regularisation\n",
    "model.add(LSTM(units = 50, return_sequences = True))\n",
    "model.add(Dropout(0.2))\n",
    "# Adding a third LSTM layer and some Dropout regularisation\n",
    "model.add(LSTM(units = 50, return_sequences = True))\n",
    "model.add(Dropout(0.2))\n",
    "# Adding a fourth LSTM layer and some Dropout regularisation\n",
    "model.add(LSTM(units = 50))\n",
    "model.add(Dropout(0.2))\n",
    "# Adding the output layer\n",
    "model.add(Dense(units = 1))\n",
    "\n",
    "# Compiling the RNN\n",
    "model.compile(optimizer = 'adam', loss = 'mean_squared_error')\n",
    "\n",
    "# Fitting the RNN to the Training set\n",
    "model.fit(X_train, y_train, epochs = 100, batch_size = 32)"
   ]
  },
  {
   "cell_type": "code",
   "execution_count": 49,
   "metadata": {},
   "outputs": [
    {
     "name": "stdout",
     "output_type": "stream",
     "text": [
      "(1025, 50, 1)\n"
     ]
    }
   ],
   "source": [
    "# Getting the predicted stock price of 2017\n",
    "dataset_train = data.iloc[:800, 1:2]\n",
    "dataset_test = data.iloc[800:, 1:2]\n",
    "dataset_total = pd.concat((dataset_train, dataset_test), axis = 0)\n",
    "inputs = dataset_total[len(dataset_total) - len(dataset_test) - 60:].values\n",
    "inputs = inputs.reshape(-1,1)\n",
    "inputs = sc.transform(inputs)\n",
    "X_test = []\n",
    "for i in range(60, len(inputs)):\n",
    "    X_test.append(inputs[i-50:i, 0])\n",
    "X_test = np.array(X_test)\n",
    "X_test = np.reshape(X_test, (X_test.shape[0], X_test.shape[1], 1))\n",
    "print(X_test.shape)\n",
    "# (459, 60, 1)"
   ]
  },
  {
   "cell_type": "code",
   "execution_count": 50,
   "metadata": {},
   "outputs": [],
   "source": [
    "predicted_stock_price = model.predict(X_test)\n",
    "predicted_stock_price = sc.inverse_transform(predicted_stock_price)"
   ]
  },
  {
   "cell_type": "code",
   "execution_count": 51,
   "metadata": {},
   "outputs": [
    {
     "data": {
      "text/plain": [
       "1025"
      ]
     },
     "execution_count": 51,
     "metadata": {},
     "output_type": "execute_result"
    }
   ],
   "source": [
    "len(predicted_stock_price)"
   ]
  },
  {
   "cell_type": "code",
   "execution_count": 52,
   "metadata": {},
   "outputs": [
    {
     "data": {
      "text/plain": [
       "965"
      ]
     },
     "execution_count": 52,
     "metadata": {},
     "output_type": "execute_result"
    }
   ],
   "source": [
    "len(data.loc[860:, 'Date'])"
   ]
  },
  {
   "cell_type": "code",
   "execution_count": 53,
   "metadata": {},
   "outputs": [
    {
     "data": {
      "image/png": "[encoded data removed]",
      "text/plain": [
       "<Figure size 432x288 with 1 Axes>"
      ]
     },
     "metadata": {
      "needs_background": "light"
     },
     "output_type": "display_data"
    }
   ],
   "source": [
    "# Visualising the results\n",
    "plt.plot(dataset_test.values, color = 'red', label = 'Real BTC Stock Price')\n",
    "plt.plot(predicted_stock_price, color = 'blue', label = 'Predicted BTC Stock Price')\n",
    "plt.title('TESLA Stock Price Prediction')\n",
    "plt.xlabel('Time')\n",
    "plt.ylabel('TESLA Stock Price')\n",
    "plt.legend()\n",
    "plt.show()"
   ]
  },
  {
   "cell_type": "code",
   "execution_count": null,
   "metadata": {},
   "outputs": [],
   "source": []
  }
 ],
 "metadata": {
  "kernelspec": {
   "display_name": "Python 3",
   "language": "python",
   "name": "python3"
  },
  "language_info": {
   "codemirror_mode": {
    "name": "ipython",
    "version": 3
   },
   "file_extension": ".py",
   "mimetype": "text/x-python",
   "name": "python",
   "nbconvert_exporter": "python",
   "pygments_lexer": "ipython3",
   "version": "3.6.9"
  }
 },
 "nbformat": 4,
 "nbformat_minor": 2
}
